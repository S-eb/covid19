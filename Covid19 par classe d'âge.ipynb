{
 "cells": [
  {
   "cell_type": "markdown",
   "metadata": {},
   "source": [
    "## Analyse des données public sur l'épidémie de covid19 en France\n",
    "\n",
    "Source: [https://www.data.gouv.fr/fr/datasets/r/929dff1b-b07c-4637-9690-fb7219ad3eb8]"
   ]
  },
  {
   "cell_type": "code",
   "execution_count": 1,
   "metadata": {},
   "outputs": [],
   "source": [
    "import pandas as pd"
   ]
  },
  {
   "cell_type": "code",
   "execution_count": 2,
   "metadata": {},
   "outputs": [],
   "source": [
    "df = pd.read_csv('./data/donnees-hospitalieres-classe-age-covid19-2020-09-26-19h00.csv', sep=';',parse_dates=['jour'])"
   ]
  },
  {
   "cell_type": "code",
   "execution_count": 3,
   "metadata": {},
   "outputs": [
    {
     "data": {
      "text/html": [
       "<div>\n",
       "<style scoped>\n",
       "    .dataframe tbody tr th:only-of-type {\n",
       "        vertical-align: middle;\n",
       "    }\n",
       "\n",
       "    .dataframe tbody tr th {\n",
       "        vertical-align: top;\n",
       "    }\n",
       "\n",
       "    .dataframe thead th {\n",
       "        text-align: right;\n",
       "    }\n",
       "</style>\n",
       "<table border=\"1\" class=\"dataframe\">\n",
       "  <thead>\n",
       "    <tr style=\"text-align: right;\">\n",
       "      <th></th>\n",
       "      <th>reg</th>\n",
       "      <th>cl_age90</th>\n",
       "      <th>jour</th>\n",
       "      <th>hosp</th>\n",
       "      <th>rea</th>\n",
       "      <th>rad</th>\n",
       "      <th>dc</th>\n",
       "    </tr>\n",
       "  </thead>\n",
       "  <tbody>\n",
       "    <tr>\n",
       "      <th>0</th>\n",
       "      <td>1</td>\n",
       "      <td>0</td>\n",
       "      <td>2020-03-18</td>\n",
       "      <td>0</td>\n",
       "      <td>0</td>\n",
       "      <td>0</td>\n",
       "      <td>0</td>\n",
       "    </tr>\n",
       "    <tr>\n",
       "      <th>1</th>\n",
       "      <td>1</td>\n",
       "      <td>9</td>\n",
       "      <td>2020-03-18</td>\n",
       "      <td>0</td>\n",
       "      <td>0</td>\n",
       "      <td>0</td>\n",
       "      <td>0</td>\n",
       "    </tr>\n",
       "    <tr>\n",
       "      <th>2</th>\n",
       "      <td>1</td>\n",
       "      <td>19</td>\n",
       "      <td>2020-03-18</td>\n",
       "      <td>0</td>\n",
       "      <td>0</td>\n",
       "      <td>0</td>\n",
       "      <td>0</td>\n",
       "    </tr>\n",
       "    <tr>\n",
       "      <th>3</th>\n",
       "      <td>1</td>\n",
       "      <td>29</td>\n",
       "      <td>2020-03-18</td>\n",
       "      <td>0</td>\n",
       "      <td>0</td>\n",
       "      <td>0</td>\n",
       "      <td>0</td>\n",
       "    </tr>\n",
       "    <tr>\n",
       "      <th>4</th>\n",
       "      <td>1</td>\n",
       "      <td>39</td>\n",
       "      <td>2020-03-18</td>\n",
       "      <td>0</td>\n",
       "      <td>0</td>\n",
       "      <td>0</td>\n",
       "      <td>0</td>\n",
       "    </tr>\n",
       "    <tr>\n",
       "      <th>...</th>\n",
       "      <td>...</td>\n",
       "      <td>...</td>\n",
       "      <td>...</td>\n",
       "      <td>...</td>\n",
       "      <td>...</td>\n",
       "      <td>...</td>\n",
       "      <td>...</td>\n",
       "    </tr>\n",
       "    <tr>\n",
       "      <th>38011</th>\n",
       "      <td>94</td>\n",
       "      <td>59</td>\n",
       "      <td>2020-09-26</td>\n",
       "      <td>4</td>\n",
       "      <td>0</td>\n",
       "      <td>41</td>\n",
       "      <td>1</td>\n",
       "    </tr>\n",
       "    <tr>\n",
       "      <th>38012</th>\n",
       "      <td>94</td>\n",
       "      <td>69</td>\n",
       "      <td>2020-09-26</td>\n",
       "      <td>4</td>\n",
       "      <td>1</td>\n",
       "      <td>44</td>\n",
       "      <td>4</td>\n",
       "    </tr>\n",
       "    <tr>\n",
       "      <th>38013</th>\n",
       "      <td>94</td>\n",
       "      <td>79</td>\n",
       "      <td>2020-09-26</td>\n",
       "      <td>10</td>\n",
       "      <td>2</td>\n",
       "      <td>66</td>\n",
       "      <td>16</td>\n",
       "    </tr>\n",
       "    <tr>\n",
       "      <th>38014</th>\n",
       "      <td>94</td>\n",
       "      <td>89</td>\n",
       "      <td>2020-09-26</td>\n",
       "      <td>1</td>\n",
       "      <td>0</td>\n",
       "      <td>45</td>\n",
       "      <td>30</td>\n",
       "    </tr>\n",
       "    <tr>\n",
       "      <th>38015</th>\n",
       "      <td>94</td>\n",
       "      <td>90</td>\n",
       "      <td>2020-09-26</td>\n",
       "      <td>3</td>\n",
       "      <td>0</td>\n",
       "      <td>23</td>\n",
       "      <td>13</td>\n",
       "    </tr>\n",
       "  </tbody>\n",
       "</table>\n",
       "<p>38016 rows × 7 columns</p>\n",
       "</div>"
      ],
      "text/plain": [
       "       reg  cl_age90       jour  hosp  rea  rad  dc\n",
       "0        1         0 2020-03-18     0    0    0   0\n",
       "1        1         9 2020-03-18     0    0    0   0\n",
       "2        1        19 2020-03-18     0    0    0   0\n",
       "3        1        29 2020-03-18     0    0    0   0\n",
       "4        1        39 2020-03-18     0    0    0   0\n",
       "...    ...       ...        ...   ...  ...  ...  ..\n",
       "38011   94        59 2020-09-26     4    0   41   1\n",
       "38012   94        69 2020-09-26     4    1   44   4\n",
       "38013   94        79 2020-09-26    10    2   66  16\n",
       "38014   94        89 2020-09-26     1    0   45  30\n",
       "38015   94        90 2020-09-26     3    0   23  13\n",
       "\n",
       "[38016 rows x 7 columns]"
      ]
     },
     "execution_count": 3,
     "metadata": {},
     "output_type": "execute_result"
    }
   ],
   "source": [
    "df"
   ]
  },
  {
   "cell_type": "markdown",
   "metadata": {},
   "source": [
    "## Analyse temporelle par classe d'âge\n",
    "\n",
    "Analyse de la dynamique des décès par classe d'àge."
   ]
  },
  {
   "cell_type": "code",
   "execution_count": 4,
   "metadata": {},
   "outputs": [],
   "source": [
    "import numpy as np\n",
    "import pandas_bokeh as pb"
   ]
  },
  {
   "cell_type": "code",
   "execution_count": 5,
   "metadata": {},
   "outputs": [
    {
     "data": {
      "text/html": [
       "\n",
       "    <div class=\"bk-root\">\n",
       "        <a href=\"https://bokeh.org\" target=\"_blank\" class=\"bk-logo bk-logo-small bk-logo-notebook\"></a>\n",
       "        <span id=\"1001\">Loading BokehJS ...</span>\n",
       "    </div>"
      ]
     },
     "metadata": {},
     "output_type": "display_data"
    },
    {
     "data": {
      "application/javascript": [
       "\n",
       "(function(root) {\n",
       "  function now() {\n",
       "    return new Date();\n",
       "  }\n",
       "\n",
       "  var force = true;\n",
       "\n",
       "  if (typeof root._bokeh_onload_callbacks === \"undefined\" || force === true) {\n",
       "    root._bokeh_onload_callbacks = [];\n",
       "    root._bokeh_is_loading = undefined;\n",
       "  }\n",
       "\n",
       "  var JS_MIME_TYPE = 'application/javascript';\n",
       "  var HTML_MIME_TYPE = 'text/html';\n",
       "  var EXEC_MIME_TYPE = 'application/vnd.bokehjs_exec.v0+json';\n",
       "  var CLASS_NAME = 'output_bokeh rendered_html';\n",
       "\n",
       "  /**\n",
       "   * Render data to the DOM node\n",
       "   */\n",
       "  function render(props, node) {\n",
       "    var script = document.createElement(\"script\");\n",
       "    node.appendChild(script);\n",
       "  }\n",
       "\n",
       "  /**\n",
       "   * Handle when an output is cleared or removed\n",
       "   */\n",
       "  function handleClearOutput(event, handle) {\n",
       "    var cell = handle.cell;\n",
       "\n",
       "    var id = cell.output_area._bokeh_element_id;\n",
       "    var server_id = cell.output_area._bokeh_server_id;\n",
       "    // Clean up Bokeh references\n",
       "    if (id != null && id in Bokeh.index) {\n",
       "      Bokeh.index[id].model.document.clear();\n",
       "      delete Bokeh.index[id];\n",
       "    }\n",
       "\n",
       "    if (server_id !== undefined) {\n",
       "      // Clean up Bokeh references\n",
       "      var cmd = \"from bokeh.io.state import curstate; print(curstate().uuid_to_server['\" + server_id + \"'].get_sessions()[0].document.roots[0]._id)\";\n",
       "      cell.notebook.kernel.execute(cmd, {\n",
       "        iopub: {\n",
       "          output: function(msg) {\n",
       "            var id = msg.content.text.trim();\n",
       "            if (id in Bokeh.index) {\n",
       "              Bokeh.index[id].model.document.clear();\n",
       "              delete Bokeh.index[id];\n",
       "            }\n",
       "          }\n",
       "        }\n",
       "      });\n",
       "      // Destroy server and session\n",
       "      var cmd = \"import bokeh.io.notebook as ion; ion.destroy_server('\" + server_id + \"')\";\n",
       "      cell.notebook.kernel.execute(cmd);\n",
       "    }\n",
       "  }\n",
       "\n",
       "  /**\n",
       "   * Handle when a new output is added\n",
       "   */\n",
       "  function handleAddOutput(event, handle) {\n",
       "    var output_area = handle.output_area;\n",
       "    var output = handle.output;\n",
       "\n",
       "    // limit handleAddOutput to display_data with EXEC_MIME_TYPE content only\n",
       "    if ((output.output_type != \"display_data\") || (!output.data.hasOwnProperty(EXEC_MIME_TYPE))) {\n",
       "      return\n",
       "    }\n",
       "\n",
       "    var toinsert = output_area.element.find(\".\" + CLASS_NAME.split(' ')[0]);\n",
       "\n",
       "    if (output.metadata[EXEC_MIME_TYPE][\"id\"] !== undefined) {\n",
       "      toinsert[toinsert.length - 1].firstChild.textContent = output.data[JS_MIME_TYPE];\n",
       "      // store reference to embed id on output_area\n",
       "      output_area._bokeh_element_id = output.metadata[EXEC_MIME_TYPE][\"id\"];\n",
       "    }\n",
       "    if (output.metadata[EXEC_MIME_TYPE][\"server_id\"] !== undefined) {\n",
       "      var bk_div = document.createElement(\"div\");\n",
       "      bk_div.innerHTML = output.data[HTML_MIME_TYPE];\n",
       "      var script_attrs = bk_div.children[0].attributes;\n",
       "      for (var i = 0; i < script_attrs.length; i++) {\n",
       "        toinsert[toinsert.length - 1].firstChild.setAttribute(script_attrs[i].name, script_attrs[i].value);\n",
       "        toinsert[toinsert.length - 1].firstChild.textContent = bk_div.children[0].textContent\n",
       "      }\n",
       "      // store reference to server id on output_area\n",
       "      output_area._bokeh_server_id = output.metadata[EXEC_MIME_TYPE][\"server_id\"];\n",
       "    }\n",
       "  }\n",
       "\n",
       "  function register_renderer(events, OutputArea) {\n",
       "\n",
       "    function append_mime(data, metadata, element) {\n",
       "      // create a DOM node to render to\n",
       "      var toinsert = this.create_output_subarea(\n",
       "        metadata,\n",
       "        CLASS_NAME,\n",
       "        EXEC_MIME_TYPE\n",
       "      );\n",
       "      this.keyboard_manager.register_events(toinsert);\n",
       "      // Render to node\n",
       "      var props = {data: data, metadata: metadata[EXEC_MIME_TYPE]};\n",
       "      render(props, toinsert[toinsert.length - 1]);\n",
       "      element.append(toinsert);\n",
       "      return toinsert\n",
       "    }\n",
       "\n",
       "    /* Handle when an output is cleared or removed */\n",
       "    events.on('clear_output.CodeCell', handleClearOutput);\n",
       "    events.on('delete.Cell', handleClearOutput);\n",
       "\n",
       "    /* Handle when a new output is added */\n",
       "    events.on('output_added.OutputArea', handleAddOutput);\n",
       "\n",
       "    /**\n",
       "     * Register the mime type and append_mime function with output_area\n",
       "     */\n",
       "    OutputArea.prototype.register_mime_type(EXEC_MIME_TYPE, append_mime, {\n",
       "      /* Is output safe? */\n",
       "      safe: true,\n",
       "      /* Index of renderer in `output_area.display_order` */\n",
       "      index: 0\n",
       "    });\n",
       "  }\n",
       "\n",
       "  // register the mime type if in Jupyter Notebook environment and previously unregistered\n",
       "  if (root.Jupyter !== undefined) {\n",
       "    var events = require('base/js/events');\n",
       "    var OutputArea = require('notebook/js/outputarea').OutputArea;\n",
       "\n",
       "    if (OutputArea.prototype.mime_types().indexOf(EXEC_MIME_TYPE) == -1) {\n",
       "      register_renderer(events, OutputArea);\n",
       "    }\n",
       "  }\n",
       "\n",
       "  \n",
       "  if (typeof (root._bokeh_timeout) === \"undefined\" || force === true) {\n",
       "    root._bokeh_timeout = Date.now() + 5000;\n",
       "    root._bokeh_failed_load = false;\n",
       "  }\n",
       "\n",
       "  var NB_LOAD_WARNING = {'data': {'text/html':\n",
       "     \"<div style='background-color: #fdd'>\\n\"+\n",
       "     \"<p>\\n\"+\n",
       "     \"BokehJS does not appear to have successfully loaded. If loading BokehJS from CDN, this \\n\"+\n",
       "     \"may be due to a slow or bad network connection. Possible fixes:\\n\"+\n",
       "     \"</p>\\n\"+\n",
       "     \"<ul>\\n\"+\n",
       "     \"<li>re-rerun `output_notebook()` to attempt to load from CDN again, or</li>\\n\"+\n",
       "     \"<li>use INLINE resources instead, as so:</li>\\n\"+\n",
       "     \"</ul>\\n\"+\n",
       "     \"<code>\\n\"+\n",
       "     \"from bokeh.resources import INLINE\\n\"+\n",
       "     \"output_notebook(resources=INLINE)\\n\"+\n",
       "     \"</code>\\n\"+\n",
       "     \"</div>\"}};\n",
       "\n",
       "  function display_loaded() {\n",
       "    var el = document.getElementById(\"1001\");\n",
       "    if (el != null) {\n",
       "      el.textContent = \"BokehJS is loading...\";\n",
       "    }\n",
       "    if (root.Bokeh !== undefined) {\n",
       "      if (el != null) {\n",
       "        el.textContent = \"BokehJS \" + root.Bokeh.version + \" successfully loaded.\";\n",
       "      }\n",
       "    } else if (Date.now() < root._bokeh_timeout) {\n",
       "      setTimeout(display_loaded, 100)\n",
       "    }\n",
       "  }\n",
       "\n",
       "\n",
       "  function run_callbacks() {\n",
       "    try {\n",
       "      root._bokeh_onload_callbacks.forEach(function(callback) {\n",
       "        if (callback != null)\n",
       "          callback();\n",
       "      });\n",
       "    } finally {\n",
       "      delete root._bokeh_onload_callbacks\n",
       "    }\n",
       "    console.debug(\"Bokeh: all callbacks have finished\");\n",
       "  }\n",
       "\n",
       "  function load_libs(css_urls, js_urls, callback) {\n",
       "    if (css_urls == null) css_urls = [];\n",
       "    if (js_urls == null) js_urls = [];\n",
       "\n",
       "    root._bokeh_onload_callbacks.push(callback);\n",
       "    if (root._bokeh_is_loading > 0) {\n",
       "      console.debug(\"Bokeh: BokehJS is being loaded, scheduling callback at\", now());\n",
       "      return null;\n",
       "    }\n",
       "    if (js_urls == null || js_urls.length === 0) {\n",
       "      run_callbacks();\n",
       "      return null;\n",
       "    }\n",
       "    console.debug(\"Bokeh: BokehJS not loaded, scheduling load and callback at\", now());\n",
       "    root._bokeh_is_loading = css_urls.length + js_urls.length;\n",
       "\n",
       "    function on_load() {\n",
       "      root._bokeh_is_loading--;\n",
       "      if (root._bokeh_is_loading === 0) {\n",
       "        console.debug(\"Bokeh: all BokehJS libraries/stylesheets loaded\");\n",
       "        run_callbacks()\n",
       "      }\n",
       "    }\n",
       "\n",
       "    function on_error() {\n",
       "      console.error(\"failed to load \" + url);\n",
       "    }\n",
       "\n",
       "    for (var i = 0; i < css_urls.length; i++) {\n",
       "      var url = css_urls[i];\n",
       "      const element = document.createElement(\"link\");\n",
       "      element.onload = on_load;\n",
       "      element.onerror = on_error;\n",
       "      element.rel = \"stylesheet\";\n",
       "      element.type = \"text/css\";\n",
       "      element.href = url;\n",
       "      console.debug(\"Bokeh: injecting link tag for BokehJS stylesheet: \", url);\n",
       "      document.body.appendChild(element);\n",
       "    }\n",
       "\n",
       "    const hashes = {\"https://cdn.bokeh.org/bokeh/release/bokeh-2.2.1.min.js\": \"qkRvDQVAIfzsJo40iRBbxt6sttt0hv4lh74DG7OK4MCHv4C5oohXYoHUM5W11uqS\", \"https://cdn.bokeh.org/bokeh/release/bokeh-widgets-2.2.1.min.js\": \"Sb7Mr06a9TNlet/GEBeKaf5xH3eb6AlCzwjtU82wNPyDrnfoiVl26qnvlKjmcAd+\", \"https://cdn.bokeh.org/bokeh/release/bokeh-tables-2.2.1.min.js\": \"HaJ15vgfmcfRtB4c4YBOI4f1MUujukqInOWVqZJZZGK7Q+ivud0OKGSTn/Vm2iso\"};\n",
       "\n",
       "    for (var i = 0; i < js_urls.length; i++) {\n",
       "      var url = js_urls[i];\n",
       "      var element = document.createElement('script');\n",
       "      element.onload = on_load;\n",
       "      element.onerror = on_error;\n",
       "      element.async = false;\n",
       "      element.src = url;\n",
       "      if (url in hashes) {\n",
       "        element.crossOrigin = \"anonymous\";\n",
       "        element.integrity = \"sha384-\" + hashes[url];\n",
       "      }\n",
       "      console.debug(\"Bokeh: injecting script tag for BokehJS library: \", url);\n",
       "      document.head.appendChild(element);\n",
       "    }\n",
       "  };\n",
       "\n",
       "  function inject_raw_css(css) {\n",
       "    const element = document.createElement(\"style\");\n",
       "    element.appendChild(document.createTextNode(css));\n",
       "    document.body.appendChild(element);\n",
       "  }\n",
       "\n",
       "  \n",
       "  var js_urls = [\"https://cdn.bokeh.org/bokeh/release/bokeh-2.2.1.min.js\", \"https://cdn.bokeh.org/bokeh/release/bokeh-widgets-2.2.1.min.js\", \"https://cdn.bokeh.org/bokeh/release/bokeh-tables-2.2.1.min.js\"];\n",
       "  var css_urls = [];\n",
       "  \n",
       "\n",
       "  var inline_js = [\n",
       "    function(Bokeh) {\n",
       "      Bokeh.set_log_level(\"info\");\n",
       "    },\n",
       "    function(Bokeh) {\n",
       "    \n",
       "    \n",
       "    }\n",
       "  ];\n",
       "\n",
       "  function run_inline_js() {\n",
       "    \n",
       "    if (root.Bokeh !== undefined || force === true) {\n",
       "      \n",
       "    for (var i = 0; i < inline_js.length; i++) {\n",
       "      inline_js[i].call(root, root.Bokeh);\n",
       "    }\n",
       "    if (force === true) {\n",
       "        display_loaded();\n",
       "      }} else if (Date.now() < root._bokeh_timeout) {\n",
       "      setTimeout(run_inline_js, 100);\n",
       "    } else if (!root._bokeh_failed_load) {\n",
       "      console.log(\"Bokeh: BokehJS failed to load within specified timeout.\");\n",
       "      root._bokeh_failed_load = true;\n",
       "    } else if (force !== true) {\n",
       "      var cell = $(document.getElementById(\"1001\")).parents('.cell').data().cell;\n",
       "      cell.output_area.append_execute_result(NB_LOAD_WARNING)\n",
       "    }\n",
       "\n",
       "  }\n",
       "\n",
       "  if (root._bokeh_is_loading === 0) {\n",
       "    console.debug(\"Bokeh: BokehJS loaded, going straight to plotting\");\n",
       "    run_inline_js();\n",
       "  } else {\n",
       "    load_libs(css_urls, js_urls, function() {\n",
       "      console.debug(\"Bokeh: BokehJS plotting callback run at\", now());\n",
       "      run_inline_js();\n",
       "    });\n",
       "  }\n",
       "}(window));"
      ],
      "application/vnd.bokehjs_load.v0+json": "\n(function(root) {\n  function now() {\n    return new Date();\n  }\n\n  var force = true;\n\n  if (typeof root._bokeh_onload_callbacks === \"undefined\" || force === true) {\n    root._bokeh_onload_callbacks = [];\n    root._bokeh_is_loading = undefined;\n  }\n\n  \n\n  \n  if (typeof (root._bokeh_timeout) === \"undefined\" || force === true) {\n    root._bokeh_timeout = Date.now() + 5000;\n    root._bokeh_failed_load = false;\n  }\n\n  var NB_LOAD_WARNING = {'data': {'text/html':\n     \"<div style='background-color: #fdd'>\\n\"+\n     \"<p>\\n\"+\n     \"BokehJS does not appear to have successfully loaded. If loading BokehJS from CDN, this \\n\"+\n     \"may be due to a slow or bad network connection. Possible fixes:\\n\"+\n     \"</p>\\n\"+\n     \"<ul>\\n\"+\n     \"<li>re-rerun `output_notebook()` to attempt to load from CDN again, or</li>\\n\"+\n     \"<li>use INLINE resources instead, as so:</li>\\n\"+\n     \"</ul>\\n\"+\n     \"<code>\\n\"+\n     \"from bokeh.resources import INLINE\\n\"+\n     \"output_notebook(resources=INLINE)\\n\"+\n     \"</code>\\n\"+\n     \"</div>\"}};\n\n  function display_loaded() {\n    var el = document.getElementById(\"1001\");\n    if (el != null) {\n      el.textContent = \"BokehJS is loading...\";\n    }\n    if (root.Bokeh !== undefined) {\n      if (el != null) {\n        el.textContent = \"BokehJS \" + root.Bokeh.version + \" successfully loaded.\";\n      }\n    } else if (Date.now() < root._bokeh_timeout) {\n      setTimeout(display_loaded, 100)\n    }\n  }\n\n\n  function run_callbacks() {\n    try {\n      root._bokeh_onload_callbacks.forEach(function(callback) {\n        if (callback != null)\n          callback();\n      });\n    } finally {\n      delete root._bokeh_onload_callbacks\n    }\n    console.debug(\"Bokeh: all callbacks have finished\");\n  }\n\n  function load_libs(css_urls, js_urls, callback) {\n    if (css_urls == null) css_urls = [];\n    if (js_urls == null) js_urls = [];\n\n    root._bokeh_onload_callbacks.push(callback);\n    if (root._bokeh_is_loading > 0) {\n      console.debug(\"Bokeh: BokehJS is being loaded, scheduling callback at\", now());\n      return null;\n    }\n    if (js_urls == null || js_urls.length === 0) {\n      run_callbacks();\n      return null;\n    }\n    console.debug(\"Bokeh: BokehJS not loaded, scheduling load and callback at\", now());\n    root._bokeh_is_loading = css_urls.length + js_urls.length;\n\n    function on_load() {\n      root._bokeh_is_loading--;\n      if (root._bokeh_is_loading === 0) {\n        console.debug(\"Bokeh: all BokehJS libraries/stylesheets loaded\");\n        run_callbacks()\n      }\n    }\n\n    function on_error() {\n      console.error(\"failed to load \" + url);\n    }\n\n    for (var i = 0; i < css_urls.length; i++) {\n      var url = css_urls[i];\n      const element = document.createElement(\"link\");\n      element.onload = on_load;\n      element.onerror = on_error;\n      element.rel = \"stylesheet\";\n      element.type = \"text/css\";\n      element.href = url;\n      console.debug(\"Bokeh: injecting link tag for BokehJS stylesheet: \", url);\n      document.body.appendChild(element);\n    }\n\n    const hashes = {\"https://cdn.bokeh.org/bokeh/release/bokeh-2.2.1.min.js\": \"qkRvDQVAIfzsJo40iRBbxt6sttt0hv4lh74DG7OK4MCHv4C5oohXYoHUM5W11uqS\", \"https://cdn.bokeh.org/bokeh/release/bokeh-widgets-2.2.1.min.js\": \"Sb7Mr06a9TNlet/GEBeKaf5xH3eb6AlCzwjtU82wNPyDrnfoiVl26qnvlKjmcAd+\", \"https://cdn.bokeh.org/bokeh/release/bokeh-tables-2.2.1.min.js\": \"HaJ15vgfmcfRtB4c4YBOI4f1MUujukqInOWVqZJZZGK7Q+ivud0OKGSTn/Vm2iso\"};\n\n    for (var i = 0; i < js_urls.length; i++) {\n      var url = js_urls[i];\n      var element = document.createElement('script');\n      element.onload = on_load;\n      element.onerror = on_error;\n      element.async = false;\n      element.src = url;\n      if (url in hashes) {\n        element.crossOrigin = \"anonymous\";\n        element.integrity = \"sha384-\" + hashes[url];\n      }\n      console.debug(\"Bokeh: injecting script tag for BokehJS library: \", url);\n      document.head.appendChild(element);\n    }\n  };\n\n  function inject_raw_css(css) {\n    const element = document.createElement(\"style\");\n    element.appendChild(document.createTextNode(css));\n    document.body.appendChild(element);\n  }\n\n  \n  var js_urls = [\"https://cdn.bokeh.org/bokeh/release/bokeh-2.2.1.min.js\", \"https://cdn.bokeh.org/bokeh/release/bokeh-widgets-2.2.1.min.js\", \"https://cdn.bokeh.org/bokeh/release/bokeh-tables-2.2.1.min.js\"];\n  var css_urls = [];\n  \n\n  var inline_js = [\n    function(Bokeh) {\n      Bokeh.set_log_level(\"info\");\n    },\n    function(Bokeh) {\n    \n    \n    }\n  ];\n\n  function run_inline_js() {\n    \n    if (root.Bokeh !== undefined || force === true) {\n      \n    for (var i = 0; i < inline_js.length; i++) {\n      inline_js[i].call(root, root.Bokeh);\n    }\n    if (force === true) {\n        display_loaded();\n      }} else if (Date.now() < root._bokeh_timeout) {\n      setTimeout(run_inline_js, 100);\n    } else if (!root._bokeh_failed_load) {\n      console.log(\"Bokeh: BokehJS failed to load within specified timeout.\");\n      root._bokeh_failed_load = true;\n    } else if (force !== true) {\n      var cell = $(document.getElementById(\"1001\")).parents('.cell').data().cell;\n      cell.output_area.append_execute_result(NB_LOAD_WARNING)\n    }\n\n  }\n\n  if (root._bokeh_is_loading === 0) {\n    console.debug(\"Bokeh: BokehJS loaded, going straight to plotting\");\n    run_inline_js();\n  } else {\n    load_libs(css_urls, js_urls, function() {\n      console.debug(\"Bokeh: BokehJS plotting callback run at\", now());\n      run_inline_js();\n    });\n  }\n}(window));"
     },
     "metadata": {},
     "output_type": "display_data"
    }
   ],
   "source": [
    "pb.output_notebook()\n",
    "pd.set_option('plotting.backend', 'pandas_bokeh')\n",
    "# Create Bokeh-Table with DataFrame:\n",
    "from bokeh.models.widgets import DataTable, TableColumn\n",
    "from bokeh.models import ColumnDataSource"
   ]
  },
  {
   "cell_type": "code",
   "execution_count": 6,
   "metadata": {},
   "outputs": [
    {
     "data": {
      "text/html": [
       "\n",
       "\n",
       "\n",
       "\n",
       "\n",
       "\n",
       "  <div class=\"bk-root\" id=\"39e35517-cdb6-4df5-b21d-a0f6c567f139\" data-root-id=\"1002\"></div>\n"
      ]
     },
     "metadata": {},
     "output_type": "display_data"
    },
    {
     "data": {
      "application/javascript": [
       "(function(root) {\n",
       "  function embed_document(root) {\n",
       "    \n",
       "  var docs_json = {\"ae46acab-3c6f-4307-b45c-494dc9e8009c\":{\"roots\":{\"references\":[{\"attributes\":{\"below\":[{\"id\":\"1013\"}],\"center\":[{\"id\":\"1016\"},{\"id\":\"1020\"},{\"id\":\"1061\"}],\"left\":[{\"id\":\"1017\"}],\"output_backend\":\"webgl\",\"plot_height\":800,\"plot_width\":800,\"renderers\":[{\"id\":\"1039\"},{\"id\":\"1069\"},{\"id\":\"1100\"},{\"id\":\"1133\"},{\"id\":\"1168\"},{\"id\":\"1205\"},{\"id\":\"1244\"},{\"id\":\"1285\"},{\"id\":\"1328\"},{\"id\":\"1373\"}],\"sizing_mode\":\"fixed\",\"title\":{\"id\":\"1003\"},\"toolbar\":{\"id\":\"1028\"},\"x_range\":{\"id\":\"1005\"},\"x_scale\":{\"id\":\"1009\"},\"y_range\":{\"id\":\"1007\"},\"y_scale\":{\"id\":\"1011\"}},\"id\":\"1002\",\"subtype\":\"Figure\",\"type\":\"Plot\"},{\"attributes\":{\"data_source\":{\"id\":\"1164\"},\"glyph\":{\"id\":\"1166\"},\"hover_glyph\":null,\"muted_glyph\":null,\"nonselection_glyph\":{\"id\":\"1167\"},\"selection_glyph\":null,\"view\":{\"id\":\"1169\"}},\"id\":\"1168\",\"type\":\"GlyphRenderer\"},{\"attributes\":{\"data_source\":{\"id\":\"1281\"},\"glyph\":{\"id\":\"1283\"},\"hover_glyph\":null,\"muted_glyph\":null,\"nonselection_glyph\":{\"id\":\"1284\"},\"selection_glyph\":null,\"view\":{\"id\":\"1286\"}},\"id\":\"1285\",\"type\":\"GlyphRenderer\"},{\"attributes\":{},\"id\":\"1091\",\"type\":\"UnionRenderers\"},{\"attributes\":{\"data_source\":{\"id\":\"1201\"},\"glyph\":{\"id\":\"1203\"},\"hover_glyph\":null,\"muted_glyph\":null,\"nonselection_glyph\":{\"id\":\"1204\"},\"selection_glyph\":null,\"view\":{\"id\":\"1206\"}},\"id\":\"1205\",\"type\":\"GlyphRenderer\"},{\"attributes\":{},\"id\":\"1090\",\"type\":\"Selection\"},{\"attributes\":{\"data\":{\"19\":[0,0,0,0,0,0,0,1,1,1,1,1,1,1,1,1,1,1,1,1,1,1,1,1,1,1,2,2,2,2,2,3,3,3,3,3,3,3,3,3,3,3,3,3,3,3,3,3,3,3,3,3,3,3,3,3,3,3,3,3,3,3,3,3,3,3,3,3,3,3,3,3,3,3,3,3,3,3,3,3,3,3,3,3,3,3,3,3,3,3,3,3,3,3,3,3,3,3,3,3,4,4,4,4,4,4,4,4,4,4,4,4,4,4,4,4,4,4,4,4,4,4,4,5,4,4,4,4,4,4,4,4,4,4,4,4,4,4,4,4,4,4,4,4,4,4,4,4,4,4,4,4,4,4,4,4,4,4,4,4,4,4,4,4,4,4,4,4,4,4,4,4,4,4,4,4,4,4,4,4,4,4,4,4,4,4,4,4,4,4,4,4],\"29\":[1,2,1,1,1,1,1,2,2,2,2,3,3,4,4,4,4,4,4,4,7,6,8,8,9,12,12,13,14,14,16,16,16,16,16,16,16,16,16,16,16,16,16,16,16,16,17,17,18,19,19,19,19,19,19,19,20,20,20,20,20,20,20,20,20,20,20,21,21,21,21,21,21,21,21,21,21,21,21,21,21,21,21,21,21,21,21,21,21,21,21,21,21,21,21,21,21,21,21,21,21,21,21,21,21,21,21,21,21,21,21,21,21,21,21,21,21,21,21,21,21,21,21,21,21,21,21,21,21,21,21,21,21,21,21,21,21,21,21,21,21,21,21,21,22,22,22,22,23,23,23,23,23,23,23,24,24,24,24,25,25,25,25,26,26,26,26,26,26,27,27,27,27,27,27,27,27,27,27,27,27,27,27,27,27,27,27,27,27,27,27,27],\"39\":[1,1,1,1,2,2,3,3,6,6,9,10,13,14,15,18,23,26,28,28,29,35,38,42,45,49,53,53,53,56,59,59,59,60,60,59,59,61,62,62,63,64,64,66,66,66,67,68,69,71,72,73,73,74,73,75,75,76,77,78,79,79,80,81,81,81,81,81,82,82,82,83,83,84,84,84,84,85,85,85,85,85,86,86,86,86,86,86,86,85,86,86,86,87,87,88,88,89,90,90,90,90,90,90,90,90,90,90,90,90,90,90,90,90,90,90,90,90,90,90,90,90,90,90,91,91,91,92,92,92,93,93,95,95,95,95,95,95,95,95,95,95,95,95,96,96,97,97,97,97,97,97,97,97,97,98,98,98,98,98,98,98,98,98,98,98,98,98,98,99,99,99,99,99,99,99,100,100,100,100,100,100,100,100,100,100,100,100,100,100,100,100],\"49\":[5,6,6,6,9,11,13,15,17,20,25,29,33,39,45,53,62,67,74,87,94,99,107,115,118,129,133,128,134,143,149,151,156,161,164,166,168,172,173,177,177,181,184,190,194,195,198,200,202,203,203,205,205,208,210,213,215,214,215,215,218,219,221,221,222,222,222,223,224,225,229,229,229,229,229,229,230,230,231,231,232,235,235,236,235,235,236,236,235,235,235,237,237,238,238,238,238,238,239,239,240,240,241,241,241,241,241,241,241,242,243,243,243,243,243,243,245,245,247,247,247,247,247,248,249,249,249,249,249,249,250,250,250,250,250,250,250,250,251,252,253,254,254,254,254,255,256,256,256,256,256,256,257,257,257,258,258,258,258,259,259,259,259,260,260,260,260,260,260,261,262,262,262,264,264,264,264,264,264,264,264,264,265,265,265,266,266,266,267,267,267,267],\"59\":[4,10,12,16,16,24,36,46,59,71,83,95,111,137,168,199,231,251,275,296,332,362,382,405,424,441,453,471,495,512,532,546,556,566,581,596,613,626,638,643,650,665,677,689,697,698,709,716,726,739,747,751,755,767,774,781,788,789,792,796,804,809,813,815,821,822,824,832,838,842,850,854,854,853,853,861,864,865,867,871,871,874,879,881,884,888,891,891,894,896,899,902,903,903,904,905,906,908,908,909,909,909,909,910,909,909,910,910,910,910,912,912,912,912,912,912,915,915,917,917,918,920,920,922,922,922,923,924,924,924,925,926,927,927,927,927,927,928,930,930,930,932,932,932,934,934,935,935,936,936,936,936,937,937,937,937,938,938,938,938,940,941,942,942,942,946,947,949,949,949,949,949,951,951,951,954,955,956,956,956,958,958,959,961,962,963,963,965,967,971,973,977],\"69\":[17,33,39,50,65,87,114,139,168,197,237,266,315,375,431,489,566,639,675,753,814,868,911,964,1013,1055,1101,1139,1194,1245,1299,1351,1384,1440,1484,1535,1564,1595,1625,1642,1678,1715,1745,1782,1800,1813,1837,1871,1897,1917,1934,1950,1957,1974,1997,2010,2024,2039,2053,2061,2085,2097,2107,2109,2124,2128,2136,2144,2155,2162,2166,2176,2181,2184,2189,2203,2206,2209,2215,2217,2219,2225,2232,2234,2241,2244,2247,2247,2255,2262,2262,2264,2267,2269,2269,2271,2274,2277,2280,2285,2288,2289,2291,2293,2295,2299,2300,2303,2304,2308,2316,2323,2326,2327,2328,2328,2330,2333,2336,2337,2339,2341,2341,2344,2348,2349,2354,2355,2355,2355,2357,2359,2361,2362,2363,2364,2364,2366,2368,2369,2371,2371,2371,2371,2372,2373,2375,2376,2379,2379,2379,2382,2384,2385,2386,2391,2392,2393,2394,2395,2399,2403,2403,2403,2403,2404,2406,2408,2409,2411,2413,2414,2419,2423,2425,2427,2432,2432,2432,2433,2437,2442,2444,2452,2453,2454,2460,2466,2469,2475,2477,2481],\"79\":[42,78,102,132,160,207,258,321,405,468,555,637,742,866,988,1124,1265,1369,1475,1602,1742,1869,1968,2088,2159,2226,2313,2425,2532,2616,2698,2767,2819,2903,2979,3040,3096,3152,3198,3237,3303,3371,3425,3493,3518,3535,3584,3629,3673,3698,3723,3740,3756,3794,3833,3855,3882,3909,3921,3934,3958,3985,3998,4007,4020,4031,4040,4061,4075,4086,4102,4113,4128,4136,4145,4165,4187,4198,4206,4212,4216,4231,4244,4249,4255,4258,4263,4265,4272,4275,4282,4291,4293,4295,4298,4302,4310,4309,4315,4321,4326,4326,4333,4335,4337,4340,4344,4349,4350,4352,4355,4362,4365,4373,4374,4374,4380,4382,4386,4389,4392,4392,4392,4394,4397,4398,4398,4401,4403,4404,4406,4412,4414,4418,4421,4421,4421,4429,4431,4433,4433,4439,4440,4440,4443,4445,4447,4452,4454,4453,4453,4458,4460,4463,4467,4470,4471,4471,4474,4480,4486,4488,4494,4495,4496,4503,4510,4518,4526,4532,4536,4536,4539,4545,4555,4558,4565,4567,4568,4577,4581,4593,4610,4625,4629,4633,4639,4651,4660,4670,4680,4691],\"89\":[98,170,207,253,295,364,460,581,701,819,941,1049,1209,1395,1611,1772,1994,2155,2274,2530,2778,2983,3131,3352,3477,3582,3700,3858,4049,4208,4367,4499,4585,4754,4900,5015,5142,5272,5335,5388,5490,5605,5696,5811,5839,5871,5957,6048,6099,6156,6192,6217,6239,6295,6369,6397,6438,6471,6496,6511,6548,6587,6625,6648,6672,6693,6700,6733,6761,6786,6813,6837,6857,6866,6876,6902,6928,6943,6963,6972,6975,6991,7007,7013,7016,7028,7035,7038,7043,7060,7071,7077,7081,7088,7088,7099,7107,7110,7113,7117,7118,7119,7126,7135,7146,7150,7156,7159,7159,7163,7177,7189,7192,7203,7205,7205,7209,7210,7217,7226,7232,7236,7236,7241,7244,7246,7249,7252,7256,7256,7258,7262,7268,7274,7279,7282,7283,7291,7294,7296,7298,7300,7301,7301,7306,7315,7317,7325,7332,7335,7336,7344,7351,7359,7363,7372,7373,7373,7381,7384,7387,7390,7400,7401,7403,7416,7422,7432,7439,7443,7446,7447,7456,7473,7483,7490,7505,7510,7514,7525,7541,7560,7577,7625,7636,7639,7662,7697,7712,7728,7757,7770],\"9\":[0,0,0,0,0,0,0,0,0,0,0,0,0,0,0,0,0,0,0,0,0,0,0,1,1,1,1,1,1,1,1,1,1,1,2,2,2,2,2,2,2,2,2,2,2,2,2,2,2,2,2,3,3,3,3,3,3,3,3,3,3,3,3,3,3,3,3,3,3,3,3,3,3,3,3,3,3,3,3,3,3,3,3,3,3,3,3,3,3,3,3,3,3,3,3,3,3,3,3,3,3,3,3,3,3,3,3,3,3,3,3,3,3,3,3,3,3,3,3,3,3,3,3,3,3,3,3,3,3,3,3,3,3,3,3,3,3,3,3,3,3,3,3,3,3,3,3,3,3,3,3,3,3,3,3,3,3,3,3,3,3,3,3,3,3,3,3,3,3,3,3,3,3,3,3,3,3,3,3,3,3,3,3,3,3,3,3,3,3,3,3,3],\"90\":[48,66,76,95,118,154,202,265,319,390,438,491,559,645,720,795,896,968,1030,1136,1236,1348,1436,1558,1629,1690,1757,1972,2098,2181,2273,2363,2404,2522,2623,2713,2790,2855,2898,2931,3013,3084,3137,3203,3235,3267,3336,3390,3434,3462,3485,3497,3516,3568,3606,3627,3658,3698,3712,3725,3751,3791,3819,3839,3853,3859,3868,3884,3905,3921,3929,3940,3957,3968,3975,3991,4016,4029,4038,4048,4051,4062,4073,4080,4090,4096,4101,4105,4112,4122,4128,4134,4138,4141,4144,4148,4154,4157,4164,4174,4178,4178,4179,4186,4190,4193,4198,4199,4199,4201,4206,4212,4217,4222,4224,4225,4226,4226,4228,4232,4234,4234,4235,4237,4238,4241,4242,4243,4245,4245,4244,4247,4249,4254,4256,4258,4258,4261,4262,4265,4267,4268,4268,4268,4269,4271,4279,4282,4286,4287,4287,4290,4293,4298,4301,4303,4307,4307,4310,4318,4320,4322,4323,4325,4326,4330,4333,4336,4340,4343,4345,4346,4352,4361,4369,4372,4381,4390,4391,4404,4413,4423,4435,4484,4492,4493,4511,4523,4536,4551,4563,4570],\"__x__values\":{\"__ndarray__\":\"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\",\"dtype\":\"float64\",\"order\":\"little\",\"shape\":[192]},\"__x__values_original\":{\"__ndarray__\":\"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\",\"dtype\":\"float64\",\"order\":\"little\",\"shape\":[192]}},\"selected\":{\"id\":\"1195\"},\"selection_policy\":{\"id\":\"1196\"}},\"id\":\"1164\",\"type\":\"ColumnDataSource\"},{\"attributes\":{\"line_alpha\":0.1,\"line_color\":\"#9467bd\",\"line_width\":2,\"x\":{\"field\":\"__x__values\"},\"y\":{\"field\":\"49\"}},\"id\":\"1167\",\"type\":\"Line\"},{\"attributes\":{\"line_color\":\"#9467bd\",\"line_width\":2,\"x\":{\"field\":\"__x__values\"},\"y\":{\"field\":\"49\"}},\"id\":\"1166\",\"type\":\"Line\"},{\"attributes\":{\"source\":{\"id\":\"1164\"}},\"id\":\"1169\",\"type\":\"CDSView\"},{\"attributes\":{\"data\":{\"19\":[0,0,0,0,0,0,0,1,1,1,1,1,1,1,1,1,1,1,1,1,1,1,1,1,1,1,2,2,2,2,2,3,3,3,3,3,3,3,3,3,3,3,3,3,3,3,3,3,3,3,3,3,3,3,3,3,3,3,3,3,3,3,3,3,3,3,3,3,3,3,3,3,3,3,3,3,3,3,3,3,3,3,3,3,3,3,3,3,3,3,3,3,3,3,3,3,3,3,3,3,4,4,4,4,4,4,4,4,4,4,4,4,4,4,4,4,4,4,4,4,4,4,4,5,4,4,4,4,4,4,4,4,4,4,4,4,4,4,4,4,4,4,4,4,4,4,4,4,4,4,4,4,4,4,4,4,4,4,4,4,4,4,4,4,4,4,4,4,4,4,4,4,4,4,4,4,4,4,4,4,4,4,4,4,4,4,4,4,4,4,4,4],\"29\":[1,2,1,1,1,1,1,2,2,2,2,3,3,4,4,4,4,4,4,4,7,6,8,8,9,12,12,13,14,14,16,16,16,16,16,16,16,16,16,16,16,16,16,16,16,16,17,17,18,19,19,19,19,19,19,19,20,20,20,20,20,20,20,20,20,20,20,21,21,21,21,21,21,21,21,21,21,21,21,21,21,21,21,21,21,21,21,21,21,21,21,21,21,21,21,21,21,21,21,21,21,21,21,21,21,21,21,21,21,21,21,21,21,21,21,21,21,21,21,21,21,21,21,21,21,21,21,21,21,21,21,21,21,21,21,21,21,21,21,21,21,21,21,21,22,22,22,22,23,23,23,23,23,23,23,24,24,24,24,25,25,25,25,26,26,26,26,26,26,27,27,27,27,27,27,27,27,27,27,27,27,27,27,27,27,27,27,27,27,27,27,27],\"39\":[1,1,1,1,2,2,3,3,6,6,9,10,13,14,15,18,23,26,28,28,29,35,38,42,45,49,53,53,53,56,59,59,59,60,60,59,59,61,62,62,63,64,64,66,66,66,67,68,69,71,72,73,73,74,73,75,75,76,77,78,79,79,80,81,81,81,81,81,82,82,82,83,83,84,84,84,84,85,85,85,85,85,86,86,86,86,86,86,86,85,86,86,86,87,87,88,88,89,90,90,90,90,90,90,90,90,90,90,90,90,90,90,90,90,90,90,90,90,90,90,90,90,90,90,91,91,91,92,92,92,93,93,95,95,95,95,95,95,95,95,95,95,95,95,96,96,97,97,97,97,97,97,97,97,97,98,98,98,98,98,98,98,98,98,98,98,98,98,98,99,99,99,99,99,99,99,100,100,100,100,100,100,100,100,100,100,100,100,100,100,100,100],\"49\":[5,6,6,6,9,11,13,15,17,20,25,29,33,39,45,53,62,67,74,87,94,99,107,115,118,129,133,128,134,143,149,151,156,161,164,166,168,172,173,177,177,181,184,190,194,195,198,200,202,203,203,205,205,208,210,213,215,214,215,215,218,219,221,221,222,222,222,223,224,225,229,229,229,229,229,229,230,230,231,231,232,235,235,236,235,235,236,236,235,235,235,237,237,238,238,238,238,238,239,239,240,240,241,241,241,241,241,241,241,242,243,243,243,243,243,243,245,245,247,247,247,247,247,248,249,249,249,249,249,249,250,250,250,250,250,250,250,250,251,252,253,254,254,254,254,255,256,256,256,256,256,256,257,257,257,258,258,258,258,259,259,259,259,260,260,260,260,260,260,261,262,262,262,264,264,264,264,264,264,264,264,264,265,265,265,266,266,266,267,267,267,267],\"59\":[4,10,12,16,16,24,36,46,59,71,83,95,111,137,168,199,231,251,275,296,332,362,382,405,424,441,453,471,495,512,532,546,556,566,581,596,613,626,638,643,650,665,677,689,697,698,709,716,726,739,747,751,755,767,774,781,788,789,792,796,804,809,813,815,821,822,824,832,838,842,850,854,854,853,853,861,864,865,867,871,871,874,879,881,884,888,891,891,894,896,899,902,903,903,904,905,906,908,908,909,909,909,909,910,909,909,910,910,910,910,912,912,912,912,912,912,915,915,917,917,918,920,920,922,922,922,923,924,924,924,925,926,927,927,927,927,927,928,930,930,930,932,932,932,934,934,935,935,936,936,936,936,937,937,937,937,938,938,938,938,940,941,942,942,942,946,947,949,949,949,949,949,951,951,951,954,955,956,956,956,958,958,959,961,962,963,963,965,967,971,973,977],\"69\":[17,33,39,50,65,87,114,139,168,197,237,266,315,375,431,489,566,639,675,753,814,868,911,964,1013,1055,1101,1139,1194,1245,1299,1351,1384,1440,1484,1535,1564,1595,1625,1642,1678,1715,1745,1782,1800,1813,1837,1871,1897,1917,1934,1950,1957,1974,1997,2010,2024,2039,2053,2061,2085,2097,2107,2109,2124,2128,2136,2144,2155,2162,2166,2176,2181,2184,2189,2203,2206,2209,2215,2217,2219,2225,2232,2234,2241,2244,2247,2247,2255,2262,2262,2264,2267,2269,2269,2271,2274,2277,2280,2285,2288,2289,2291,2293,2295,2299,2300,2303,2304,2308,2316,2323,2326,2327,2328,2328,2330,2333,2336,2337,2339,2341,2341,2344,2348,2349,2354,2355,2355,2355,2357,2359,2361,2362,2363,2364,2364,2366,2368,2369,2371,2371,2371,2371,2372,2373,2375,2376,2379,2379,2379,2382,2384,2385,2386,2391,2392,2393,2394,2395,2399,2403,2403,2403,2403,2404,2406,2408,2409,2411,2413,2414,2419,2423,2425,2427,2432,2432,2432,2433,2437,2442,2444,2452,2453,2454,2460,2466,2469,2475,2477,2481],\"79\":[42,78,102,132,160,207,258,321,405,468,555,637,742,866,988,1124,1265,1369,1475,1602,1742,1869,1968,2088,2159,2226,2313,2425,2532,2616,2698,2767,2819,2903,2979,3040,3096,3152,3198,3237,3303,3371,3425,3493,3518,3535,3584,3629,3673,3698,3723,3740,3756,3794,3833,3855,3882,3909,3921,3934,3958,3985,3998,4007,4020,4031,4040,4061,4075,4086,4102,4113,4128,4136,4145,4165,4187,4198,4206,4212,4216,4231,4244,4249,4255,4258,4263,4265,4272,4275,4282,4291,4293,4295,4298,4302,4310,4309,4315,4321,4326,4326,4333,4335,4337,4340,4344,4349,4350,4352,4355,4362,4365,4373,4374,4374,4380,4382,4386,4389,4392,4392,4392,4394,4397,4398,4398,4401,4403,4404,4406,4412,4414,4418,4421,4421,4421,4429,4431,4433,4433,4439,4440,4440,4443,4445,4447,4452,4454,4453,4453,4458,4460,4463,4467,4470,4471,4471,4474,4480,4486,4488,4494,4495,4496,4503,4510,4518,4526,4532,4536,4536,4539,4545,4555,4558,4565,4567,4568,4577,4581,4593,4610,4625,4629,4633,4639,4651,4660,4670,4680,4691],\"89\":[98,170,207,253,295,364,460,581,701,819,941,1049,1209,1395,1611,1772,1994,2155,2274,2530,2778,2983,3131,3352,3477,3582,3700,3858,4049,4208,4367,4499,4585,4754,4900,5015,5142,5272,5335,5388,5490,5605,5696,5811,5839,5871,5957,6048,6099,6156,6192,6217,6239,6295,6369,6397,6438,6471,6496,6511,6548,6587,6625,6648,6672,6693,6700,6733,6761,6786,6813,6837,6857,6866,6876,6902,6928,6943,6963,6972,6975,6991,7007,7013,7016,7028,7035,7038,7043,7060,7071,7077,7081,7088,7088,7099,7107,7110,7113,7117,7118,7119,7126,7135,7146,7150,7156,7159,7159,7163,7177,7189,7192,7203,7205,7205,7209,7210,7217,7226,7232,7236,7236,7241,7244,7246,7249,7252,7256,7256,7258,7262,7268,7274,7279,7282,7283,7291,7294,7296,7298,7300,7301,7301,7306,7315,7317,7325,7332,7335,7336,7344,7351,7359,7363,7372,7373,7373,7381,7384,7387,7390,7400,7401,7403,7416,7422,7432,7439,7443,7446,7447,7456,7473,7483,7490,7505,7510,7514,7525,7541,7560,7577,7625,7636,7639,7662,7697,7712,7728,7757,7770],\"9\":[0,0,0,0,0,0,0,0,0,0,0,0,0,0,0,0,0,0,0,0,0,0,0,1,1,1,1,1,1,1,1,1,1,1,2,2,2,2,2,2,2,2,2,2,2,2,2,2,2,2,2,3,3,3,3,3,3,3,3,3,3,3,3,3,3,3,3,3,3,3,3,3,3,3,3,3,3,3,3,3,3,3,3,3,3,3,3,3,3,3,3,3,3,3,3,3,3,3,3,3,3,3,3,3,3,3,3,3,3,3,3,3,3,3,3,3,3,3,3,3,3,3,3,3,3,3,3,3,3,3,3,3,3,3,3,3,3,3,3,3,3,3,3,3,3,3,3,3,3,3,3,3,3,3,3,3,3,3,3,3,3,3,3,3,3,3,3,3,3,3,3,3,3,3,3,3,3,3,3,3,3,3,3,3,3,3,3,3,3,3,3,3],\"90\":[48,66,76,95,118,154,202,265,319,390,438,491,559,645,720,795,896,968,1030,1136,1236,1348,1436,1558,1629,1690,1757,1972,2098,2181,2273,2363,2404,2522,2623,2713,2790,2855,2898,2931,3013,3084,3137,3203,3235,3267,3336,3390,3434,3462,3485,3497,3516,3568,3606,3627,3658,3698,3712,3725,3751,3791,3819,3839,3853,3859,3868,3884,3905,3921,3929,3940,3957,3968,3975,3991,4016,4029,4038,4048,4051,4062,4073,4080,4090,4096,4101,4105,4112,4122,4128,4134,4138,4141,4144,4148,4154,4157,4164,4174,4178,4178,4179,4186,4190,4193,4198,4199,4199,4201,4206,4212,4217,4222,4224,4225,4226,4226,4228,4232,4234,4234,4235,4237,4238,4241,4242,4243,4245,4245,4244,4247,4249,4254,4256,4258,4258,4261,4262,4265,4267,4268,4268,4268,4269,4271,4279,4282,4286,4287,4287,4290,4293,4298,4301,4303,4307,4307,4310,4318,4320,4322,4323,4325,4326,4330,4333,4336,4340,4343,4345,4346,4352,4361,4369,4372,4381,4390,4391,4404,4413,4423,4435,4484,4492,4493,4511,4523,4536,4551,4563,4570],\"__x__values\":{\"__ndarray__\":\"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\",\"dtype\":\"float64\",\"order\":\"little\",\"shape\":[192]},\"__x__values_original\":{\"__ndarray__\":\"AABACa8Od0IAAABvAQ93QgAAwNRTD3dCAACAOqYPd0IAAECg+A93QgAAAAZLEHdCAADAa50Qd0IAAIDR7xB3QgAAQDdCEXdCAAAAnZQRd0IAAMAC5xF3QgAAgGg5EndCAABAzosSd0IAAAA03hJ3QgAAwJkwE3dCAACA/4ITd0IAAEBl1RN3QgAAAMsnFHdCAADAMHoUd0IAAICWzBR3QgAAQPweFXdCAAAAYnEVd0IAAMDHwxV3QgAAgC0WFndCAABAk2gWd0IAAAD5uhZ3QgAAwF4NF3dCAACAxF8Xd0IAAEAqshd3QgAAAJAEGHdCAADA9VYYd0IAAIBbqRh3QgAAQMH7GHdCAAAAJ04Zd0IAAMCMoBl3QgAAgPLyGXdCAABAWEUad0IAAAC+lxp3QgAAwCPqGndCAACAiTwbd0IAAEDvjht3QgAAAFXhG3dCAADAujMcd0IAAECG2Bx3QgAAAOwqHXdCAADAUX0dd0IAAIC3zx13QgAAQB0iHndCAAAAg3Qed0IAAMDoxh53QgAAgE4ZH3dCAABAtGsfd0IAAAAavh93QgAAwH8QIHdCAACA5WIgd0IAAEBLtSB3QgAAALEHIXdCAADAFlohd0IAAIB8rCF3QgAAQOL+IXdCAAAASFEid0IAAMCtoyJ3QgAAgBP2IndCAABAeUgjd0IAAADfmiN3QgAAwETtI3dCAACAqj8kd0IAAEAQkiR3QgAAAHbkJHdCAADA2zYld0IAAIBBiSV3QgAAQKfbJXdCAAAADS4md0IAAMBygCZ3QgAAgNjSJndCAABAPiUnd0IAAACkdyd3QgAAwAnKJ3dCAACAbxwod0IAAEDVbih3QgAAADvBKHdCAADAoBMpd0IAAIAGZil3QgAAQGy4KXdCAAAA0goqd0IAAMA3XSp3QgAAgJ2vKndCAABAAwIrd0IAAABpVCt3QgAAwM6mK3dCAACANPkrd0IAAECaSyx3QgAAAACeLHdCAADAZfAsd0IAAIDLQi13QgAAQDGVLXdCAAAAl+ctd0IAAMD8OS53QgAAgGKMLndCAABAyN4ud0IAAAAuMS93QgAAwJODL3dCAACA+dUvd0IAAEBfKDB3QgAAAMV6MHdCAADAKs0wd0IAAICQHzF3QgAAQPZxMXdCAAAAXMQxd0IAAMDBFjJ3QgAAgCdpMndCAABAjbsyd0IAAADzDTN3QgAAwFhgM3dCAACAvrIzd0IAAEAkBTR3QgAAAIpXNHdCAADA76k0d0IAAIBV/DR3QgAAQLtONXdCAAAAIaE1d0IAAMCG8zV3QgAAgOxFNndCAABAUpg2d0IAAAC46jZ3QgAAwB09N3dCAACAg483d0IAAEDp4Td3QgAAAE80OHdCAADAtIY4d0IAAIAa2Th3QgAAQIArOXdCAAAA5n05d0IAAMBL0Dl3QgAAgLEiOndCAABAF3U6d0IAAAB9xzp3QgAAwOIZO3dCAACASGw7d0IAAECuvjt3QgAAABQRPHdCAADAeWM8d0IAAIDftTx3QgAAQEUIPXdCAAAAq1o9d0IAAMAQrT13QgAAgHb/PXdCAABA3FE+d0IAAABCpD53QgAAwKf2PndCAACADUk/d0IAAEBzmz93QgAAANntP3dCAADAPkBAd0IAAICkkkB3QgAAQArlQHdCAAAAcDdBd0IAAMDViUF3QgAAgDvcQXdCAABAoS5Cd0IAAAAHgUJ3QgAAwGzTQndCAACA0iVDd0IAAEA4eEN3QgAAAJ7KQ3dCAADAAx1Ed0IAAIBpb0R3QgAAQM/BRHdCAAAANRRFd0IAAMCaZkV3QgAAgAC5RXdCAABAZgtGd0IAAADMXUZ3QgAAwDGwRndCAACAlwJHd0IAAED9VEd3QgAAAGOnR3dCAADAyPlHd0IAAIAuTEh3QgAAQJSeSHdCAAAA+vBId0IAAMBfQ0l3QgAAgMWVSXdCAABAK+hJd0IAAACROkp3QgAAwPaMSndCAACAXN9Kd0IAAEDCMUt3QgAAACiES3dCAADAjdZLd0IAAIDzKEx3QgAAQFl7THdC\",\"dtype\":\"float64\",\"order\":\"little\",\"shape\":[192]}},\"selected\":{\"id\":\"1318\"},\"selection_policy\":{\"id\":\"1319\"}},\"id\":\"1281\",\"type\":\"ColumnDataSource\"},{\"attributes\":{\"data_source\":{\"id\":\"1096\"},\"glyph\":{\"id\":\"1098\"},\"hover_glyph\":null,\"muted_glyph\":null,\"nonselection_glyph\":{\"id\":\"1099\"},\"selection_glyph\":null,\"view\":{\"id\":\"1101\"}},\"id\":\"1100\",\"type\":\"GlyphRenderer\"},{\"attributes\":{\"line_alpha\":0.1,\"line_color\":\"#7f7f7f\",\"line_width\":2,\"x\":{\"field\":\"__x__values\"},\"y\":{\"field\":\"79\"}},\"id\":\"1284\",\"type\":\"Line\"},{\"attributes\":{\"label\":{\"value\":\" 49\"},\"renderers\":[{\"id\":\"1168\"}]},\"id\":\"1198\",\"type\":\"LegendItem\"},{\"attributes\":{\"line_color\":\"#7f7f7f\",\"line_width\":2,\"x\":{\"field\":\"__x__values\"},\"y\":{\"field\":\"79\"}},\"id\":\"1283\",\"type\":\"Line\"},{\"attributes\":{\"source\":{\"id\":\"1281\"}},\"id\":\"1286\",\"type\":\"CDSView\"},{\"attributes\":{},\"id\":\"1196\",\"type\":\"UnionRenderers\"},{\"attributes\":{\"label\":{\"value\":\" 79\"},\"renderers\":[{\"id\":\"1285\"}]},\"id\":\"1321\",\"type\":\"LegendItem\"},{\"attributes\":{},\"id\":\"1195\",\"type\":\"Selection\"},{\"attributes\":{\"data_source\":{\"id\":\"1129\"},\"glyph\":{\"id\":\"1131\"},\"hover_glyph\":null,\"muted_glyph\":null,\"nonselection_glyph\":{\"id\":\"1132\"},\"selection_glyph\":null,\"view\":{\"id\":\"1134\"}},\"id\":\"1133\",\"type\":\"GlyphRenderer\"},{\"attributes\":{},\"id\":\"1025\",\"type\":\"ResetTool\"},{\"attributes\":{\"line_color\":\"#1f77b4\",\"line_width\":2,\"x\":{\"field\":\"__x__values\"},\"y\":{\"field\":\"9\"}},\"id\":\"1037\",\"type\":\"Line\"},{\"attributes\":{\"data\":{\"19\":[0,0,0,0,0,0,0,1,1,1,1,1,1,1,1,1,1,1,1,1,1,1,1,1,1,1,2,2,2,2,2,3,3,3,3,3,3,3,3,3,3,3,3,3,3,3,3,3,3,3,3,3,3,3,3,3,3,3,3,3,3,3,3,3,3,3,3,3,3,3,3,3,3,3,3,3,3,3,3,3,3,3,3,3,3,3,3,3,3,3,3,3,3,3,3,3,3,3,3,3,4,4,4,4,4,4,4,4,4,4,4,4,4,4,4,4,4,4,4,4,4,4,4,5,4,4,4,4,4,4,4,4,4,4,4,4,4,4,4,4,4,4,4,4,4,4,4,4,4,4,4,4,4,4,4,4,4,4,4,4,4,4,4,4,4,4,4,4,4,4,4,4,4,4,4,4,4,4,4,4,4,4,4,4,4,4,4,4,4,4,4,4],\"29\":[1,2,1,1,1,1,1,2,2,2,2,3,3,4,4,4,4,4,4,4,7,6,8,8,9,12,12,13,14,14,16,16,16,16,16,16,16,16,16,16,16,16,16,16,16,16,17,17,18,19,19,19,19,19,19,19,20,20,20,20,20,20,20,20,20,20,20,21,21,21,21,21,21,21,21,21,21,21,21,21,21,21,21,21,21,21,21,21,21,21,21,21,21,21,21,21,21,21,21,21,21,21,21,21,21,21,21,21,21,21,21,21,21,21,21,21,21,21,21,21,21,21,21,21,21,21,21,21,21,21,21,21,21,21,21,21,21,21,21,21,21,21,21,21,22,22,22,22,23,23,23,23,23,23,23,24,24,24,24,25,25,25,25,26,26,26,26,26,26,27,27,27,27,27,27,27,27,27,27,27,27,27,27,27,27,27,27,27,27,27,27,27],\"39\":[1,1,1,1,2,2,3,3,6,6,9,10,13,14,15,18,23,26,28,28,29,35,38,42,45,49,53,53,53,56,59,59,59,60,60,59,59,61,62,62,63,64,64,66,66,66,67,68,69,71,72,73,73,74,73,75,75,76,77,78,79,79,80,81,81,81,81,81,82,82,82,83,83,84,84,84,84,85,85,85,85,85,86,86,86,86,86,86,86,85,86,86,86,87,87,88,88,89,90,90,90,90,90,90,90,90,90,90,90,90,90,90,90,90,90,90,90,90,90,90,90,90,90,90,91,91,91,92,92,92,93,93,95,95,95,95,95,95,95,95,95,95,95,95,96,96,97,97,97,97,97,97,97,97,97,98,98,98,98,98,98,98,98,98,98,98,98,98,98,99,99,99,99,99,99,99,100,100,100,100,100,100,100,100,100,100,100,100,100,100,100,100],\"49\":[5,6,6,6,9,11,13,15,17,20,25,29,33,39,45,53,62,67,74,87,94,99,107,115,118,129,133,128,134,143,149,151,156,161,164,166,168,172,173,177,177,181,184,190,194,195,198,200,202,203,203,205,205,208,210,213,215,214,215,215,218,219,221,221,222,222,222,223,224,225,229,229,229,229,229,229,230,230,231,231,232,235,235,236,235,235,236,236,235,235,235,237,237,238,238,238,238,238,239,239,240,240,241,241,241,241,241,241,241,242,243,243,243,243,243,243,245,245,247,247,247,247,247,248,249,249,249,249,249,249,250,250,250,250,250,250,250,250,251,252,253,254,254,254,254,255,256,256,256,256,256,256,257,257,257,258,258,258,258,259,259,259,259,260,260,260,260,260,260,261,262,262,262,264,264,264,264,264,264,264,264,264,265,265,265,266,266,266,267,267,267,267],\"59\":[4,10,12,16,16,24,36,46,59,71,83,95,111,137,168,199,231,251,275,296,332,362,382,405,424,441,453,471,495,512,532,546,556,566,581,596,613,626,638,643,650,665,677,689,697,698,709,716,726,739,747,751,755,767,774,781,788,789,792,796,804,809,813,815,821,822,824,832,838,842,850,854,854,853,853,861,864,865,867,871,871,874,879,881,884,888,891,891,894,896,899,902,903,903,904,905,906,908,908,909,909,909,909,910,909,909,910,910,910,910,912,912,912,912,912,912,915,915,917,917,918,920,920,922,922,922,923,924,924,924,925,926,927,927,927,927,927,928,930,930,930,932,932,932,934,934,935,935,936,936,936,936,937,937,937,937,938,938,938,938,940,941,942,942,942,946,947,949,949,949,949,949,951,951,951,954,955,956,956,956,958,958,959,961,962,963,963,965,967,971,973,977],\"69\":[17,33,39,50,65,87,114,139,168,197,237,266,315,375,431,489,566,639,675,753,814,868,911,964,1013,1055,1101,1139,1194,1245,1299,1351,1384,1440,1484,1535,1564,1595,1625,1642,1678,1715,1745,1782,1800,1813,1837,1871,1897,1917,1934,1950,1957,1974,1997,2010,2024,2039,2053,2061,2085,2097,2107,2109,2124,2128,2136,2144,2155,2162,2166,2176,2181,2184,2189,2203,2206,2209,2215,2217,2219,2225,2232,2234,2241,2244,2247,2247,2255,2262,2262,2264,2267,2269,2269,2271,2274,2277,2280,2285,2288,2289,2291,2293,2295,2299,2300,2303,2304,2308,2316,2323,2326,2327,2328,2328,2330,2333,2336,2337,2339,2341,2341,2344,2348,2349,2354,2355,2355,2355,2357,2359,2361,2362,2363,2364,2364,2366,2368,2369,2371,2371,2371,2371,2372,2373,2375,2376,2379,2379,2379,2382,2384,2385,2386,2391,2392,2393,2394,2395,2399,2403,2403,2403,2403,2404,2406,2408,2409,2411,2413,2414,2419,2423,2425,2427,2432,2432,2432,2433,2437,2442,2444,2452,2453,2454,2460,2466,2469,2475,2477,2481],\"79\":[42,78,102,132,160,207,258,321,405,468,555,637,742,866,988,1124,1265,1369,1475,1602,1742,1869,1968,2088,2159,2226,2313,2425,2532,2616,2698,2767,2819,2903,2979,3040,3096,3152,3198,3237,3303,3371,3425,3493,3518,3535,3584,3629,3673,3698,3723,3740,3756,3794,3833,3855,3882,3909,3921,3934,3958,3985,3998,4007,4020,4031,4040,4061,4075,4086,4102,4113,4128,4136,4145,4165,4187,4198,4206,4212,4216,4231,4244,4249,4255,4258,4263,4265,4272,4275,4282,4291,4293,4295,4298,4302,4310,4309,4315,4321,4326,4326,4333,4335,4337,4340,4344,4349,4350,4352,4355,4362,4365,4373,4374,4374,4380,4382,4386,4389,4392,4392,4392,4394,4397,4398,4398,4401,4403,4404,4406,4412,4414,4418,4421,4421,4421,4429,4431,4433,4433,4439,4440,4440,4443,4445,4447,4452,4454,4453,4453,4458,4460,4463,4467,4470,4471,4471,4474,4480,4486,4488,4494,4495,4496,4503,4510,4518,4526,4532,4536,4536,4539,4545,4555,4558,4565,4567,4568,4577,4581,4593,4610,4625,4629,4633,4639,4651,4660,4670,4680,4691],\"89\":[98,170,207,253,295,364,460,581,701,819,941,1049,1209,1395,1611,1772,1994,2155,2274,2530,2778,2983,3131,3352,3477,3582,3700,3858,4049,4208,4367,4499,4585,4754,4900,5015,5142,5272,5335,5388,5490,5605,5696,5811,5839,5871,5957,6048,6099,6156,6192,6217,6239,6295,6369,6397,6438,6471,6496,6511,6548,6587,6625,6648,6672,6693,6700,6733,6761,6786,6813,6837,6857,6866,6876,6902,6928,6943,6963,6972,6975,6991,7007,7013,7016,7028,7035,7038,7043,7060,7071,7077,7081,7088,7088,7099,7107,7110,7113,7117,7118,7119,7126,7135,7146,7150,7156,7159,7159,7163,7177,7189,7192,7203,7205,7205,7209,7210,7217,7226,7232,7236,7236,7241,7244,7246,7249,7252,7256,7256,7258,7262,7268,7274,7279,7282,7283,7291,7294,7296,7298,7300,7301,7301,7306,7315,7317,7325,7332,7335,7336,7344,7351,7359,7363,7372,7373,7373,7381,7384,7387,7390,7400,7401,7403,7416,7422,7432,7439,7443,7446,7447,7456,7473,7483,7490,7505,7510,7514,7525,7541,7560,7577,7625,7636,7639,7662,7697,7712,7728,7757,7770],\"9\":[0,0,0,0,0,0,0,0,0,0,0,0,0,0,0,0,0,0,0,0,0,0,0,1,1,1,1,1,1,1,1,1,1,1,2,2,2,2,2,2,2,2,2,2,2,2,2,2,2,2,2,3,3,3,3,3,3,3,3,3,3,3,3,3,3,3,3,3,3,3,3,3,3,3,3,3,3,3,3,3,3,3,3,3,3,3,3,3,3,3,3,3,3,3,3,3,3,3,3,3,3,3,3,3,3,3,3,3,3,3,3,3,3,3,3,3,3,3,3,3,3,3,3,3,3,3,3,3,3,3,3,3,3,3,3,3,3,3,3,3,3,3,3,3,3,3,3,3,3,3,3,3,3,3,3,3,3,3,3,3,3,3,3,3,3,3,3,3,3,3,3,3,3,3,3,3,3,3,3,3,3,3,3,3,3,3,3,3,3,3,3,3],\"90\":[48,66,76,95,118,154,202,265,319,390,438,491,559,645,720,795,896,968,1030,1136,1236,1348,1436,1558,1629,1690,1757,1972,2098,2181,2273,2363,2404,2522,2623,2713,2790,2855,2898,2931,3013,3084,3137,3203,3235,3267,3336,3390,3434,3462,3485,3497,3516,3568,3606,3627,3658,3698,3712,3725,3751,3791,3819,3839,3853,3859,3868,3884,3905,3921,3929,3940,3957,3968,3975,3991,4016,4029,4038,4048,4051,4062,4073,4080,4090,4096,4101,4105,4112,4122,4128,4134,4138,4141,4144,4148,4154,4157,4164,4174,4178,4178,4179,4186,4190,4193,4198,4199,4199,4201,4206,4212,4217,4222,4224,4225,4226,4226,4228,4232,4234,4234,4235,4237,4238,4241,4242,4243,4245,4245,4244,4247,4249,4254,4256,4258,4258,4261,4262,4265,4267,4268,4268,4268,4269,4271,4279,4282,4286,4287,4287,4290,4293,4298,4301,4303,4307,4307,4310,4318,4320,4322,4323,4325,4326,4330,4333,4336,4340,4343,4345,4346,4352,4361,4369,4372,4381,4390,4391,4404,4413,4423,4435,4484,4492,4493,4511,4523,4536,4551,4563,4570],\"__x__values\":{\"__ndarray__\":\"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\",\"dtype\":\"float64\",\"order\":\"little\",\"shape\":[192]},\"__x__values_original\":{\"__ndarray__\":\"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\",\"dtype\":\"float64\",\"order\":\"little\",\"shape\":[192]}},\"selected\":{\"id\":\"1123\"},\"selection_policy\":{\"id\":\"1124\"}},\"id\":\"1096\",\"type\":\"ColumnDataSource\"},{\"attributes\":{\"line_alpha\":0.1,\"line_color\":\"#2ca02c\",\"line_width\":2,\"x\":{\"field\":\"__x__values\"},\"y\":{\"field\":\"29\"}},\"id\":\"1099\",\"type\":\"Line\"},{\"attributes\":{},\"id\":\"1319\",\"type\":\"UnionRenderers\"},{\"attributes\":{\"line_color\":\"#2ca02c\",\"line_width\":2,\"x\":{\"field\":\"__x__values\"},\"y\":{\"field\":\"29\"}},\"id\":\"1098\",\"type\":\"Line\"},{\"attributes\":{\"axis\":{\"id\":\"1013\"},\"ticker\":null},\"id\":\"1016\",\"type\":\"Grid\"},{\"attributes\":{\"source\":{\"id\":\"1096\"}},\"id\":\"1101\",\"type\":\"CDSView\"},{\"attributes\":{},\"id\":\"1318\",\"type\":\"Selection\"},{\"attributes\":{},\"id\":\"1009\",\"type\":\"LinearScale\"},{\"attributes\":{\"active_drag\":\"auto\",\"active_inspect\":\"auto\",\"active_multi\":null,\"active_scroll\":{\"id\":\"1022\"},\"active_tap\":\"auto\",\"tools\":[{\"id\":\"1021\"},{\"id\":\"1022\"},{\"id\":\"1023\"},{\"id\":\"1024\"},{\"id\":\"1025\"},{\"id\":\"1026\"},{\"id\":\"1063\"},{\"id\":\"1094\"},{\"id\":\"1127\"},{\"id\":\"1162\"},{\"id\":\"1199\"},{\"id\":\"1238\"},{\"id\":\"1279\"},{\"id\":\"1322\"},{\"id\":\"1367\"},{\"id\":\"1414\"}]},\"id\":\"1028\",\"type\":\"Toolbar\"},{\"attributes\":{\"label\":{\"value\":\" 29\"},\"renderers\":[{\"id\":\"1100\"}]},\"id\":\"1126\",\"type\":\"LegendItem\"},{\"attributes\":{\"text\":\"Covid - r\\u00e9partition des d\\u00e9c\\u00e8s cumul\\u00e9s\"},\"id\":\"1003\",\"type\":\"Title\"},{\"attributes\":{\"callback\":null,\"formatters\":{\"@__x__values_original\":\"datetime\"},\"mode\":\"vline\",\"renderers\":[{\"id\":\"1205\"}],\"tooltips\":[[\"Date\",\"@__x__values_original{%F}\"],[\"59\",\"@{59}\"]]},\"id\":\"1238\",\"type\":\"HoverTool\"},{\"attributes\":{\"axis\":{\"id\":\"1017\"},\"dimension\":1,\"ticker\":null},\"id\":\"1020\",\"type\":\"Grid\"},{\"attributes\":{\"callback\":null,\"formatters\":{\"@__x__values_original\":\"datetime\"},\"mode\":\"vline\",\"renderers\":[{\"id\":\"1328\"}],\"tooltips\":[[\"Date\",\"@__x__values_original{%F}\"],[\"89\",\"@{89}\"]]},\"id\":\"1367\",\"type\":\"HoverTool\"},{\"attributes\":{},\"id\":\"1022\",\"type\":\"WheelZoomTool\"},{\"attributes\":{},\"id\":\"1124\",\"type\":\"UnionRenderers\"},{\"attributes\":{\"num_minor_ticks\":5,\"tickers\":[{\"id\":\"1046\"},{\"id\":\"1047\"},{\"id\":\"1048\"},{\"id\":\"1049\"},{\"id\":\"1050\"},{\"id\":\"1051\"},{\"id\":\"1052\"},{\"id\":\"1053\"},{\"id\":\"1054\"},{\"id\":\"1055\"},{\"id\":\"1056\"},{\"id\":\"1057\"}]},\"id\":\"1014\",\"type\":\"DatetimeTicker\"},{\"attributes\":{},\"id\":\"1123\",\"type\":\"Selection\"},{\"attributes\":{},\"id\":\"1021\",\"type\":\"PanTool\"},{\"attributes\":{},\"id\":\"1234\",\"type\":\"Selection\"},{\"attributes\":{\"data\":{\"19\":[0,0,0,0,0,0,0,1,1,1,1,1,1,1,1,1,1,1,1,1,1,1,1,1,1,1,2,2,2,2,2,3,3,3,3,3,3,3,3,3,3,3,3,3,3,3,3,3,3,3,3,3,3,3,3,3,3,3,3,3,3,3,3,3,3,3,3,3,3,3,3,3,3,3,3,3,3,3,3,3,3,3,3,3,3,3,3,3,3,3,3,3,3,3,3,3,3,3,3,3,4,4,4,4,4,4,4,4,4,4,4,4,4,4,4,4,4,4,4,4,4,4,4,5,4,4,4,4,4,4,4,4,4,4,4,4,4,4,4,4,4,4,4,4,4,4,4,4,4,4,4,4,4,4,4,4,4,4,4,4,4,4,4,4,4,4,4,4,4,4,4,4,4,4,4,4,4,4,4,4,4,4,4,4,4,4,4,4,4,4,4,4],\"29\":[1,2,1,1,1,1,1,2,2,2,2,3,3,4,4,4,4,4,4,4,7,6,8,8,9,12,12,13,14,14,16,16,16,16,16,16,16,16,16,16,16,16,16,16,16,16,17,17,18,19,19,19,19,19,19,19,20,20,20,20,20,20,20,20,20,20,20,21,21,21,21,21,21,21,21,21,21,21,21,21,21,21,21,21,21,21,21,21,21,21,21,21,21,21,21,21,21,21,21,21,21,21,21,21,21,21,21,21,21,21,21,21,21,21,21,21,21,21,21,21,21,21,21,21,21,21,21,21,21,21,21,21,21,21,21,21,21,21,21,21,21,21,21,21,22,22,22,22,23,23,23,23,23,23,23,24,24,24,24,25,25,25,25,26,26,26,26,26,26,27,27,27,27,27,27,27,27,27,27,27,27,27,27,27,27,27,27,27,27,27,27,27],\"39\":[1,1,1,1,2,2,3,3,6,6,9,10,13,14,15,18,23,26,28,28,29,35,38,42,45,49,53,53,53,56,59,59,59,60,60,59,59,61,62,62,63,64,64,66,66,66,67,68,69,71,72,73,73,74,73,75,75,76,77,78,79,79,80,81,81,81,81,81,82,82,82,83,83,84,84,84,84,85,85,85,85,85,86,86,86,86,86,86,86,85,86,86,86,87,87,88,88,89,90,90,90,90,90,90,90,90,90,90,90,90,90,90,90,90,90,90,90,90,90,90,90,90,90,90,91,91,91,92,92,92,93,93,95,95,95,95,95,95,95,95,95,95,95,95,96,96,97,97,97,97,97,97,97,97,97,98,98,98,98,98,98,98,98,98,98,98,98,98,98,99,99,99,99,99,99,99,100,100,100,100,100,100,100,100,100,100,100,100,100,100,100,100],\"49\":[5,6,6,6,9,11,13,15,17,20,25,29,33,39,45,53,62,67,74,87,94,99,107,115,118,129,133,128,134,143,149,151,156,161,164,166,168,172,173,177,177,181,184,190,194,195,198,200,202,203,203,205,205,208,210,213,215,214,215,215,218,219,221,221,222,222,222,223,224,225,229,229,229,229,229,229,230,230,231,231,232,235,235,236,235,235,236,236,235,235,235,237,237,238,238,238,238,238,239,239,240,240,241,241,241,241,241,241,241,242,243,243,243,243,243,243,245,245,247,247,247,247,247,248,249,249,249,249,249,249,250,250,250,250,250,250,250,250,251,252,253,254,254,254,254,255,256,256,256,256,256,256,257,257,257,258,258,258,258,259,259,259,259,260,260,260,260,260,260,261,262,262,262,264,264,264,264,264,264,264,264,264,265,265,265,266,266,266,267,267,267,267],\"59\":[4,10,12,16,16,24,36,46,59,71,83,95,111,137,168,199,231,251,275,296,332,362,382,405,424,441,453,471,495,512,532,546,556,566,581,596,613,626,638,643,650,665,677,689,697,698,709,716,726,739,747,751,755,767,774,781,788,789,792,796,804,809,813,815,821,822,824,832,838,842,850,854,854,853,853,861,864,865,867,871,871,874,879,881,884,888,891,891,894,896,899,902,903,903,904,905,906,908,908,909,909,909,909,910,909,909,910,910,910,910,912,912,912,912,912,912,915,915,917,917,918,920,920,922,922,922,923,924,924,924,925,926,927,927,927,927,927,928,930,930,930,932,932,932,934,934,935,935,936,936,936,936,937,937,937,937,938,938,938,938,940,941,942,942,942,946,947,949,949,949,949,949,951,951,951,954,955,956,956,956,958,958,959,961,962,963,963,965,967,971,973,977],\"69\":[17,33,39,50,65,87,114,139,168,197,237,266,315,375,431,489,566,639,675,753,814,868,911,964,1013,1055,1101,1139,1194,1245,1299,1351,1384,1440,1484,1535,1564,1595,1625,1642,1678,1715,1745,1782,1800,1813,1837,1871,1897,1917,1934,1950,1957,1974,1997,2010,2024,2039,2053,2061,2085,2097,2107,2109,2124,2128,2136,2144,2155,2162,2166,2176,2181,2184,2189,2203,2206,2209,2215,2217,2219,2225,2232,2234,2241,2244,2247,2247,2255,2262,2262,2264,2267,2269,2269,2271,2274,2277,2280,2285,2288,2289,2291,2293,2295,2299,2300,2303,2304,2308,2316,2323,2326,2327,2328,2328,2330,2333,2336,2337,2339,2341,2341,2344,2348,2349,2354,2355,2355,2355,2357,2359,2361,2362,2363,2364,2364,2366,2368,2369,2371,2371,2371,2371,2372,2373,2375,2376,2379,2379,2379,2382,2384,2385,2386,2391,2392,2393,2394,2395,2399,2403,2403,2403,2403,2404,2406,2408,2409,2411,2413,2414,2419,2423,2425,2427,2432,2432,2432,2433,2437,2442,2444,2452,2453,2454,2460,2466,2469,2475,2477,2481],\"79\":[42,78,102,132,160,207,258,321,405,468,555,637,742,866,988,1124,1265,1369,1475,1602,1742,1869,1968,2088,2159,2226,2313,2425,2532,2616,2698,2767,2819,2903,2979,3040,3096,3152,3198,3237,3303,3371,3425,3493,3518,3535,3584,3629,3673,3698,3723,3740,3756,3794,3833,3855,3882,3909,3921,3934,3958,3985,3998,4007,4020,4031,4040,4061,4075,4086,4102,4113,4128,4136,4145,4165,4187,4198,4206,4212,4216,4231,4244,4249,4255,4258,4263,4265,4272,4275,4282,4291,4293,4295,4298,4302,4310,4309,4315,4321,4326,4326,4333,4335,4337,4340,4344,4349,4350,4352,4355,4362,4365,4373,4374,4374,4380,4382,4386,4389,4392,4392,4392,4394,4397,4398,4398,4401,4403,4404,4406,4412,4414,4418,4421,4421,4421,4429,4431,4433,4433,4439,4440,4440,4443,4445,4447,4452,4454,4453,4453,4458,4460,4463,4467,4470,4471,4471,4474,4480,4486,4488,4494,4495,4496,4503,4510,4518,4526,4532,4536,4536,4539,4545,4555,4558,4565,4567,4568,4577,4581,4593,4610,4625,4629,4633,4639,4651,4660,4670,4680,4691],\"89\":[98,170,207,253,295,364,460,581,701,819,941,1049,1209,1395,1611,1772,1994,2155,2274,2530,2778,2983,3131,3352,3477,3582,3700,3858,4049,4208,4367,4499,4585,4754,4900,5015,5142,5272,5335,5388,5490,5605,5696,5811,5839,5871,5957,6048,6099,6156,6192,6217,6239,6295,6369,6397,6438,6471,6496,6511,6548,6587,6625,6648,6672,6693,6700,6733,6761,6786,6813,6837,6857,6866,6876,6902,6928,6943,6963,6972,6975,6991,7007,7013,7016,7028,7035,7038,7043,7060,7071,7077,7081,7088,7088,7099,7107,7110,7113,7117,7118,7119,7126,7135,7146,7150,7156,7159,7159,7163,7177,7189,7192,7203,7205,7205,7209,7210,7217,7226,7232,7236,7236,7241,7244,7246,7249,7252,7256,7256,7258,7262,7268,7274,7279,7282,7283,7291,7294,7296,7298,7300,7301,7301,7306,7315,7317,7325,7332,7335,7336,7344,7351,7359,7363,7372,7373,7373,7381,7384,7387,7390,7400,7401,7403,7416,7422,7432,7439,7443,7446,7447,7456,7473,7483,7490,7505,7510,7514,7525,7541,7560,7577,7625,7636,7639,7662,7697,7712,7728,7757,7770],\"9\":[0,0,0,0,0,0,0,0,0,0,0,0,0,0,0,0,0,0,0,0,0,0,0,1,1,1,1,1,1,1,1,1,1,1,2,2,2,2,2,2,2,2,2,2,2,2,2,2,2,2,2,3,3,3,3,3,3,3,3,3,3,3,3,3,3,3,3,3,3,3,3,3,3,3,3,3,3,3,3,3,3,3,3,3,3,3,3,3,3,3,3,3,3,3,3,3,3,3,3,3,3,3,3,3,3,3,3,3,3,3,3,3,3,3,3,3,3,3,3,3,3,3,3,3,3,3,3,3,3,3,3,3,3,3,3,3,3,3,3,3,3,3,3,3,3,3,3,3,3,3,3,3,3,3,3,3,3,3,3,3,3,3,3,3,3,3,3,3,3,3,3,3,3,3,3,3,3,3,3,3,3,3,3,3,3,3,3,3,3,3,3,3],\"90\":[48,66,76,95,118,154,202,265,319,390,438,491,559,645,720,795,896,968,1030,1136,1236,1348,1436,1558,1629,1690,1757,1972,2098,2181,2273,2363,2404,2522,2623,2713,2790,2855,2898,2931,3013,3084,3137,3203,3235,3267,3336,3390,3434,3462,3485,3497,3516,3568,3606,3627,3658,3698,3712,3725,3751,3791,3819,3839,3853,3859,3868,3884,3905,3921,3929,3940,3957,3968,3975,3991,4016,4029,4038,4048,4051,4062,4073,4080,4090,4096,4101,4105,4112,4122,4128,4134,4138,4141,4144,4148,4154,4157,4164,4174,4178,4178,4179,4186,4190,4193,4198,4199,4199,4201,4206,4212,4217,4222,4224,4225,4226,4226,4228,4232,4234,4234,4235,4237,4238,4241,4242,4243,4245,4245,4244,4247,4249,4254,4256,4258,4258,4261,4262,4265,4267,4268,4268,4268,4269,4271,4279,4282,4286,4287,4287,4290,4293,4298,4301,4303,4307,4307,4310,4318,4320,4322,4323,4325,4326,4330,4333,4336,4340,4343,4345,4346,4352,4361,4369,4372,4381,4390,4391,4404,4413,4423,4435,4484,4492,4493,4511,4523,4536,4551,4563,4570],\"__x__values\":{\"__ndarray__\":\"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\",\"dtype\":\"float64\",\"order\":\"little\",\"shape\":[192]},\"__x__values_original\":{\"__ndarray__\":\"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\",\"dtype\":\"float64\",\"order\":\"little\",\"shape\":[192]}},\"selected\":{\"id\":\"1234\"},\"selection_policy\":{\"id\":\"1235\"}},\"id\":\"1201\",\"type\":\"ColumnDataSource\"},{\"attributes\":{\"days\":[\"%d %B %Y\"],\"hours\":[\"%H:%M:%S\"],\"milliseconds\":[\"%H:%M:%S.%f\"],\"minutes\":[\"%H:%M:%S\"],\"months\":[\"%d %B %Y\"],\"seconds\":[\"%H:%M:%S\"],\"years\":[\"%d %B %Y\"]},\"id\":\"1416\",\"type\":\"DatetimeTickFormatter\"},{\"attributes\":{\"line_alpha\":0.1,\"line_color\":\"#8c564b\",\"line_width\":2,\"x\":{\"field\":\"__x__values\"},\"y\":{\"field\":\"59\"}},\"id\":\"1204\",\"type\":\"Line\"},{\"attributes\":{},\"id\":\"1011\",\"type\":\"LinearScale\"},{\"attributes\":{\"data_source\":{\"id\":\"1369\"},\"glyph\":{\"id\":\"1371\"},\"hover_glyph\":null,\"muted_glyph\":null,\"nonselection_glyph\":{\"id\":\"1372\"},\"selection_glyph\":null,\"view\":{\"id\":\"1374\"}},\"id\":\"1373\",\"type\":\"GlyphRenderer\"},{\"attributes\":{\"line_color\":\"#8c564b\",\"line_width\":2,\"x\":{\"field\":\"__x__values\"},\"y\":{\"field\":\"59\"}},\"id\":\"1203\",\"type\":\"Line\"},{\"attributes\":{\"source\":{\"id\":\"1201\"}},\"id\":\"1206\",\"type\":\"CDSView\"},{\"attributes\":{\"data_source\":{\"id\":\"1324\"},\"glyph\":{\"id\":\"1326\"},\"hover_glyph\":null,\"muted_glyph\":null,\"nonselection_glyph\":{\"id\":\"1327\"},\"selection_glyph\":null,\"view\":{\"id\":\"1329\"}},\"id\":\"1328\",\"type\":\"GlyphRenderer\"},{\"attributes\":{\"label\":{\"value\":\" 59\"},\"renderers\":[{\"id\":\"1205\"}]},\"id\":\"1237\",\"type\":\"LegendItem\"},{\"attributes\":{\"overlay\":{\"id\":\"1027\"}},\"id\":\"1023\",\"type\":\"BoxZoomTool\"},{\"attributes\":{\"data_source\":{\"id\":\"1240\"},\"glyph\":{\"id\":\"1242\"},\"hover_glyph\":null,\"muted_glyph\":null,\"nonselection_glyph\":{\"id\":\"1243\"},\"selection_glyph\":null,\"view\":{\"id\":\"1245\"}},\"id\":\"1244\",\"type\":\"GlyphRenderer\"},{\"attributes\":{\"data\":{\"19\":[0,0,0,0,0,0,0,1,1,1,1,1,1,1,1,1,1,1,1,1,1,1,1,1,1,1,2,2,2,2,2,3,3,3,3,3,3,3,3,3,3,3,3,3,3,3,3,3,3,3,3,3,3,3,3,3,3,3,3,3,3,3,3,3,3,3,3,3,3,3,3,3,3,3,3,3,3,3,3,3,3,3,3,3,3,3,3,3,3,3,3,3,3,3,3,3,3,3,3,3,4,4,4,4,4,4,4,4,4,4,4,4,4,4,4,4,4,4,4,4,4,4,4,5,4,4,4,4,4,4,4,4,4,4,4,4,4,4,4,4,4,4,4,4,4,4,4,4,4,4,4,4,4,4,4,4,4,4,4,4,4,4,4,4,4,4,4,4,4,4,4,4,4,4,4,4,4,4,4,4,4,4,4,4,4,4,4,4,4,4,4,4],\"29\":[1,2,1,1,1,1,1,2,2,2,2,3,3,4,4,4,4,4,4,4,7,6,8,8,9,12,12,13,14,14,16,16,16,16,16,16,16,16,16,16,16,16,16,16,16,16,17,17,18,19,19,19,19,19,19,19,20,20,20,20,20,20,20,20,20,20,20,21,21,21,21,21,21,21,21,21,21,21,21,21,21,21,21,21,21,21,21,21,21,21,21,21,21,21,21,21,21,21,21,21,21,21,21,21,21,21,21,21,21,21,21,21,21,21,21,21,21,21,21,21,21,21,21,21,21,21,21,21,21,21,21,21,21,21,21,21,21,21,21,21,21,21,21,21,22,22,22,22,23,23,23,23,23,23,23,24,24,24,24,25,25,25,25,26,26,26,26,26,26,27,27,27,27,27,27,27,27,27,27,27,27,27,27,27,27,27,27,27,27,27,27,27],\"39\":[1,1,1,1,2,2,3,3,6,6,9,10,13,14,15,18,23,26,28,28,29,35,38,42,45,49,53,53,53,56,59,59,59,60,60,59,59,61,62,62,63,64,64,66,66,66,67,68,69,71,72,73,73,74,73,75,75,76,77,78,79,79,80,81,81,81,81,81,82,82,82,83,83,84,84,84,84,85,85,85,85,85,86,86,86,86,86,86,86,85,86,86,86,87,87,88,88,89,90,90,90,90,90,90,90,90,90,90,90,90,90,90,90,90,90,90,90,90,90,90,90,90,90,90,91,91,91,92,92,92,93,93,95,95,95,95,95,95,95,95,95,95,95,95,96,96,97,97,97,97,97,97,97,97,97,98,98,98,98,98,98,98,98,98,98,98,98,98,98,99,99,99,99,99,99,99,100,100,100,100,100,100,100,100,100,100,100,100,100,100,100,100],\"49\":[5,6,6,6,9,11,13,15,17,20,25,29,33,39,45,53,62,67,74,87,94,99,107,115,118,129,133,128,134,143,149,151,156,161,164,166,168,172,173,177,177,181,184,190,194,195,198,200,202,203,203,205,205,208,210,213,215,214,215,215,218,219,221,221,222,222,222,223,224,225,229,229,229,229,229,229,230,230,231,231,232,235,235,236,235,235,236,236,235,235,235,237,237,238,238,238,238,238,239,239,240,240,241,241,241,241,241,241,241,242,243,243,243,243,243,243,245,245,247,247,247,247,247,248,249,249,249,249,249,249,250,250,250,250,250,250,250,250,251,252,253,254,254,254,254,255,256,256,256,256,256,256,257,257,257,258,258,258,258,259,259,259,259,260,260,260,260,260,260,261,262,262,262,264,264,264,264,264,264,264,264,264,265,265,265,266,266,266,267,267,267,267],\"59\":[4,10,12,16,16,24,36,46,59,71,83,95,111,137,168,199,231,251,275,296,332,362,382,405,424,441,453,471,495,512,532,546,556,566,581,596,613,626,638,643,650,665,677,689,697,698,709,716,726,739,747,751,755,767,774,781,788,789,792,796,804,809,813,815,821,822,824,832,838,842,850,854,854,853,853,861,864,865,867,871,871,874,879,881,884,888,891,891,894,896,899,902,903,903,904,905,906,908,908,909,909,909,909,910,909,909,910,910,910,910,912,912,912,912,912,912,915,915,917,917,918,920,920,922,922,922,923,924,924,924,925,926,927,927,927,927,927,928,930,930,930,932,932,932,934,934,935,935,936,936,936,936,937,937,937,937,938,938,938,938,940,941,942,942,942,946,947,949,949,949,949,949,951,951,951,954,955,956,956,956,958,958,959,961,962,963,963,965,967,971,973,977],\"69\":[17,33,39,50,65,87,114,139,168,197,237,266,315,375,431,489,566,639,675,753,814,868,911,964,1013,1055,1101,1139,1194,1245,1299,1351,1384,1440,1484,1535,1564,1595,1625,1642,1678,1715,1745,1782,1800,1813,1837,1871,1897,1917,1934,1950,1957,1974,1997,2010,2024,2039,2053,2061,2085,2097,2107,2109,2124,2128,2136,2144,2155,2162,2166,2176,2181,2184,2189,2203,2206,2209,2215,2217,2219,2225,2232,2234,2241,2244,2247,2247,2255,2262,2262,2264,2267,2269,2269,2271,2274,2277,2280,2285,2288,2289,2291,2293,2295,2299,2300,2303,2304,2308,2316,2323,2326,2327,2328,2328,2330,2333,2336,2337,2339,2341,2341,2344,2348,2349,2354,2355,2355,2355,2357,2359,2361,2362,2363,2364,2364,2366,2368,2369,2371,2371,2371,2371,2372,2373,2375,2376,2379,2379,2379,2382,2384,2385,2386,2391,2392,2393,2394,2395,2399,2403,2403,2403,2403,2404,2406,2408,2409,2411,2413,2414,2419,2423,2425,2427,2432,2432,2432,2433,2437,2442,2444,2452,2453,2454,2460,2466,2469,2475,2477,2481],\"79\":[42,78,102,132,160,207,258,321,405,468,555,637,742,866,988,1124,1265,1369,1475,1602,1742,1869,1968,2088,2159,2226,2313,2425,2532,2616,2698,2767,2819,2903,2979,3040,3096,3152,3198,3237,3303,3371,3425,3493,3518,3535,3584,3629,3673,3698,3723,3740,3756,3794,3833,3855,3882,3909,3921,3934,3958,3985,3998,4007,4020,4031,4040,4061,4075,4086,4102,4113,4128,4136,4145,4165,4187,4198,4206,4212,4216,4231,4244,4249,4255,4258,4263,4265,4272,4275,4282,4291,4293,4295,4298,4302,4310,4309,4315,4321,4326,4326,4333,4335,4337,4340,4344,4349,4350,4352,4355,4362,4365,4373,4374,4374,4380,4382,4386,4389,4392,4392,4392,4394,4397,4398,4398,4401,4403,4404,4406,4412,4414,4418,4421,4421,4421,4429,4431,4433,4433,4439,4440,4440,4443,4445,4447,4452,4454,4453,4453,4458,4460,4463,4467,4470,4471,4471,4474,4480,4486,4488,4494,4495,4496,4503,4510,4518,4526,4532,4536,4536,4539,4545,4555,4558,4565,4567,4568,4577,4581,4593,4610,4625,4629,4633,4639,4651,4660,4670,4680,4691],\"89\":[98,170,207,253,295,364,460,581,701,819,941,1049,1209,1395,1611,1772,1994,2155,2274,2530,2778,2983,3131,3352,3477,3582,3700,3858,4049,4208,4367,4499,4585,4754,4900,5015,5142,5272,5335,5388,5490,5605,5696,5811,5839,5871,5957,6048,6099,6156,6192,6217,6239,6295,6369,6397,6438,6471,6496,6511,6548,6587,6625,6648,6672,6693,6700,6733,6761,6786,6813,6837,6857,6866,6876,6902,6928,6943,6963,6972,6975,6991,7007,7013,7016,7028,7035,7038,7043,7060,7071,7077,7081,7088,7088,7099,7107,7110,7113,7117,7118,7119,7126,7135,7146,7150,7156,7159,7159,7163,7177,7189,7192,7203,7205,7205,7209,7210,7217,7226,7232,7236,7236,7241,7244,7246,7249,7252,7256,7256,7258,7262,7268,7274,7279,7282,7283,7291,7294,7296,7298,7300,7301,7301,7306,7315,7317,7325,7332,7335,7336,7344,7351,7359,7363,7372,7373,7373,7381,7384,7387,7390,7400,7401,7403,7416,7422,7432,7439,7443,7446,7447,7456,7473,7483,7490,7505,7510,7514,7525,7541,7560,7577,7625,7636,7639,7662,7697,7712,7728,7757,7770],\"9\":[0,0,0,0,0,0,0,0,0,0,0,0,0,0,0,0,0,0,0,0,0,0,0,1,1,1,1,1,1,1,1,1,1,1,2,2,2,2,2,2,2,2,2,2,2,2,2,2,2,2,2,3,3,3,3,3,3,3,3,3,3,3,3,3,3,3,3,3,3,3,3,3,3,3,3,3,3,3,3,3,3,3,3,3,3,3,3,3,3,3,3,3,3,3,3,3,3,3,3,3,3,3,3,3,3,3,3,3,3,3,3,3,3,3,3,3,3,3,3,3,3,3,3,3,3,3,3,3,3,3,3,3,3,3,3,3,3,3,3,3,3,3,3,3,3,3,3,3,3,3,3,3,3,3,3,3,3,3,3,3,3,3,3,3,3,3,3,3,3,3,3,3,3,3,3,3,3,3,3,3,3,3,3,3,3,3,3,3,3,3,3,3],\"90\":[48,66,76,95,118,154,202,265,319,390,438,491,559,645,720,795,896,968,1030,1136,1236,1348,1436,1558,1629,1690,1757,1972,2098,2181,2273,2363,2404,2522,2623,2713,2790,2855,2898,2931,3013,3084,3137,3203,3235,3267,3336,3390,3434,3462,3485,3497,3516,3568,3606,3627,3658,3698,3712,3725,3751,3791,3819,3839,3853,3859,3868,3884,3905,3921,3929,3940,3957,3968,3975,3991,4016,4029,4038,4048,4051,4062,4073,4080,4090,4096,4101,4105,4112,4122,4128,4134,4138,4141,4144,4148,4154,4157,4164,4174,4178,4178,4179,4186,4190,4193,4198,4199,4199,4201,4206,4212,4217,4222,4224,4225,4226,4226,4228,4232,4234,4234,4235,4237,4238,4241,4242,4243,4245,4245,4244,4247,4249,4254,4256,4258,4258,4261,4262,4265,4267,4268,4268,4268,4269,4271,4279,4282,4286,4287,4287,4290,4293,4298,4301,4303,4307,4307,4310,4318,4320,4322,4323,4325,4326,4330,4333,4336,4340,4343,4345,4346,4352,4361,4369,4372,4381,4390,4391,4404,4413,4423,4435,4484,4492,4493,4511,4523,4536,4551,4563,4570],\"__x__values\":{\"__ndarray__\":\"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\",\"dtype\":\"float64\",\"order\":\"little\",\"shape\":[192]},\"__x__values_original\":{\"__ndarray__\":\"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\",\"dtype\":\"float64\",\"order\":\"little\",\"shape\":[192]}},\"selected\":{\"id\":\"1363\"},\"selection_policy\":{\"id\":\"1364\"}},\"id\":\"1324\",\"type\":\"ColumnDataSource\"},{\"attributes\":{\"callback\":null,\"formatters\":{\"@__x__values_original\":\"datetime\"},\"mode\":\"vline\",\"renderers\":[{\"id\":\"1133\"}],\"tooltips\":[[\"Date\",\"@__x__values_original{%F}\"],[\"39\",\"@{39}\"]]},\"id\":\"1162\",\"type\":\"HoverTool\"},{\"attributes\":{\"data_source\":{\"id\":\"1065\"},\"glyph\":{\"id\":\"1067\"},\"hover_glyph\":null,\"muted_glyph\":null,\"nonselection_glyph\":{\"id\":\"1068\"},\"selection_glyph\":null,\"view\":{\"id\":\"1070\"}},\"id\":\"1069\",\"type\":\"GlyphRenderer\"},{\"attributes\":{\"line_alpha\":0.1,\"line_color\":\"#bcbd22\",\"line_width\":2,\"x\":{\"field\":\"__x__values\"},\"y\":{\"field\":\"89\"}},\"id\":\"1327\",\"type\":\"Line\"},{\"attributes\":{\"callback\":null,\"formatters\":{\"@__x__values_original\":\"datetime\"},\"mode\":\"vline\",\"renderers\":[{\"id\":\"1244\"}],\"tooltips\":[[\"Date\",\"@__x__values_original{%F}\"],[\"69\",\"@{69}\"]]},\"id\":\"1279\",\"type\":\"HoverTool\"},{\"attributes\":{\"line_color\":\"#bcbd22\",\"line_width\":2,\"x\":{\"field\":\"__x__values\"},\"y\":{\"field\":\"89\"}},\"id\":\"1326\",\"type\":\"Line\"},{\"attributes\":{},\"id\":\"1026\",\"type\":\"HelpTool\"},{\"attributes\":{\"source\":{\"id\":\"1324\"}},\"id\":\"1329\",\"type\":\"CDSView\"},{\"attributes\":{},\"id\":\"1235\",\"type\":\"UnionRenderers\"},{\"attributes\":{},\"id\":\"1018\",\"type\":\"BasicTicker\"},{\"attributes\":{\"data_source\":{\"id\":\"1035\"},\"glyph\":{\"id\":\"1037\"},\"hover_glyph\":null,\"muted_glyph\":null,\"nonselection_glyph\":{\"id\":\"1038\"},\"selection_glyph\":null,\"view\":{\"id\":\"1040\"}},\"id\":\"1039\",\"type\":\"GlyphRenderer\"},{\"attributes\":{\"label\":{\"value\":\" 89\"},\"renderers\":[{\"id\":\"1328\"}]},\"id\":\"1366\",\"type\":\"LegendItem\"},{\"attributes\":{\"data\":{\"19\":[0,0,0,0,0,0,0,1,1,1,1,1,1,1,1,1,1,1,1,1,1,1,1,1,1,1,2,2,2,2,2,3,3,3,3,3,3,3,3,3,3,3,3,3,3,3,3,3,3,3,3,3,3,3,3,3,3,3,3,3,3,3,3,3,3,3,3,3,3,3,3,3,3,3,3,3,3,3,3,3,3,3,3,3,3,3,3,3,3,3,3,3,3,3,3,3,3,3,3,3,4,4,4,4,4,4,4,4,4,4,4,4,4,4,4,4,4,4,4,4,4,4,4,5,4,4,4,4,4,4,4,4,4,4,4,4,4,4,4,4,4,4,4,4,4,4,4,4,4,4,4,4,4,4,4,4,4,4,4,4,4,4,4,4,4,4,4,4,4,4,4,4,4,4,4,4,4,4,4,4,4,4,4,4,4,4,4,4,4,4,4,4],\"29\":[1,2,1,1,1,1,1,2,2,2,2,3,3,4,4,4,4,4,4,4,7,6,8,8,9,12,12,13,14,14,16,16,16,16,16,16,16,16,16,16,16,16,16,16,16,16,17,17,18,19,19,19,19,19,19,19,20,20,20,20,20,20,20,20,20,20,20,21,21,21,21,21,21,21,21,21,21,21,21,21,21,21,21,21,21,21,21,21,21,21,21,21,21,21,21,21,21,21,21,21,21,21,21,21,21,21,21,21,21,21,21,21,21,21,21,21,21,21,21,21,21,21,21,21,21,21,21,21,21,21,21,21,21,21,21,21,21,21,21,21,21,21,21,21,22,22,22,22,23,23,23,23,23,23,23,24,24,24,24,25,25,25,25,26,26,26,26,26,26,27,27,27,27,27,27,27,27,27,27,27,27,27,27,27,27,27,27,27,27,27,27,27],\"39\":[1,1,1,1,2,2,3,3,6,6,9,10,13,14,15,18,23,26,28,28,29,35,38,42,45,49,53,53,53,56,59,59,59,60,60,59,59,61,62,62,63,64,64,66,66,66,67,68,69,71,72,73,73,74,73,75,75,76,77,78,79,79,80,81,81,81,81,81,82,82,82,83,83,84,84,84,84,85,85,85,85,85,86,86,86,86,86,86,86,85,86,86,86,87,87,88,88,89,90,90,90,90,90,90,90,90,90,90,90,90,90,90,90,90,90,90,90,90,90,90,90,90,90,90,91,91,91,92,92,92,93,93,95,95,95,95,95,95,95,95,95,95,95,95,96,96,97,97,97,97,97,97,97,97,97,98,98,98,98,98,98,98,98,98,98,98,98,98,98,99,99,99,99,99,99,99,100,100,100,100,100,100,100,100,100,100,100,100,100,100,100,100],\"49\":[5,6,6,6,9,11,13,15,17,20,25,29,33,39,45,53,62,67,74,87,94,99,107,115,118,129,133,128,134,143,149,151,156,161,164,166,168,172,173,177,177,181,184,190,194,195,198,200,202,203,203,205,205,208,210,213,215,214,215,215,218,219,221,221,222,222,222,223,224,225,229,229,229,229,229,229,230,230,231,231,232,235,235,236,235,235,236,236,235,235,235,237,237,238,238,238,238,238,239,239,240,240,241,241,241,241,241,241,241,242,243,243,243,243,243,243,245,245,247,247,247,247,247,248,249,249,249,249,249,249,250,250,250,250,250,250,250,250,251,252,253,254,254,254,254,255,256,256,256,256,256,256,257,257,257,258,258,258,258,259,259,259,259,260,260,260,260,260,260,261,262,262,262,264,264,264,264,264,264,264,264,264,265,265,265,266,266,266,267,267,267,267],\"59\":[4,10,12,16,16,24,36,46,59,71,83,95,111,137,168,199,231,251,275,296,332,362,382,405,424,441,453,471,495,512,532,546,556,566,581,596,613,626,638,643,650,665,677,689,697,698,709,716,726,739,747,751,755,767,774,781,788,789,792,796,804,809,813,815,821,822,824,832,838,842,850,854,854,853,853,861,864,865,867,871,871,874,879,881,884,888,891,891,894,896,899,902,903,903,904,905,906,908,908,909,909,909,909,910,909,909,910,910,910,910,912,912,912,912,912,912,915,915,917,917,918,920,920,922,922,922,923,924,924,924,925,926,927,927,927,927,927,928,930,930,930,932,932,932,934,934,935,935,936,936,936,936,937,937,937,937,938,938,938,938,940,941,942,942,942,946,947,949,949,949,949,949,951,951,951,954,955,956,956,956,958,958,959,961,962,963,963,965,967,971,973,977],\"69\":[17,33,39,50,65,87,114,139,168,197,237,266,315,375,431,489,566,639,675,753,814,868,911,964,1013,1055,1101,1139,1194,1245,1299,1351,1384,1440,1484,1535,1564,1595,1625,1642,1678,1715,1745,1782,1800,1813,1837,1871,1897,1917,1934,1950,1957,1974,1997,2010,2024,2039,2053,2061,2085,2097,2107,2109,2124,2128,2136,2144,2155,2162,2166,2176,2181,2184,2189,2203,2206,2209,2215,2217,2219,2225,2232,2234,2241,2244,2247,2247,2255,2262,2262,2264,2267,2269,2269,2271,2274,2277,2280,2285,2288,2289,2291,2293,2295,2299,2300,2303,2304,2308,2316,2323,2326,2327,2328,2328,2330,2333,2336,2337,2339,2341,2341,2344,2348,2349,2354,2355,2355,2355,2357,2359,2361,2362,2363,2364,2364,2366,2368,2369,2371,2371,2371,2371,2372,2373,2375,2376,2379,2379,2379,2382,2384,2385,2386,2391,2392,2393,2394,2395,2399,2403,2403,2403,2403,2404,2406,2408,2409,2411,2413,2414,2419,2423,2425,2427,2432,2432,2432,2433,2437,2442,2444,2452,2453,2454,2460,2466,2469,2475,2477,2481],\"79\":[42,78,102,132,160,207,258,321,405,468,555,637,742,866,988,1124,1265,1369,1475,1602,1742,1869,1968,2088,2159,2226,2313,2425,2532,2616,2698,2767,2819,2903,2979,3040,3096,3152,3198,3237,3303,3371,3425,3493,3518,3535,3584,3629,3673,3698,3723,3740,3756,3794,3833,3855,3882,3909,3921,3934,3958,3985,3998,4007,4020,4031,4040,4061,4075,4086,4102,4113,4128,4136,4145,4165,4187,4198,4206,4212,4216,4231,4244,4249,4255,4258,4263,4265,4272,4275,4282,4291,4293,4295,4298,4302,4310,4309,4315,4321,4326,4326,4333,4335,4337,4340,4344,4349,4350,4352,4355,4362,4365,4373,4374,4374,4380,4382,4386,4389,4392,4392,4392,4394,4397,4398,4398,4401,4403,4404,4406,4412,4414,4418,4421,4421,4421,4429,4431,4433,4433,4439,4440,4440,4443,4445,4447,4452,4454,4453,4453,4458,4460,4463,4467,4470,4471,4471,4474,4480,4486,4488,4494,4495,4496,4503,4510,4518,4526,4532,4536,4536,4539,4545,4555,4558,4565,4567,4568,4577,4581,4593,4610,4625,4629,4633,4639,4651,4660,4670,4680,4691],\"89\":[98,170,207,253,295,364,460,581,701,819,941,1049,1209,1395,1611,1772,1994,2155,2274,2530,2778,2983,3131,3352,3477,3582,3700,3858,4049,4208,4367,4499,4585,4754,4900,5015,5142,5272,5335,5388,5490,5605,5696,5811,5839,5871,5957,6048,6099,6156,6192,6217,6239,6295,6369,6397,6438,6471,6496,6511,6548,6587,6625,6648,6672,6693,6700,6733,6761,6786,6813,6837,6857,6866,6876,6902,6928,6943,6963,6972,6975,6991,7007,7013,7016,7028,7035,7038,7043,7060,7071,7077,7081,7088,7088,7099,7107,7110,7113,7117,7118,7119,7126,7135,7146,7150,7156,7159,7159,7163,7177,7189,7192,7203,7205,7205,7209,7210,7217,7226,7232,7236,7236,7241,7244,7246,7249,7252,7256,7256,7258,7262,7268,7274,7279,7282,7283,7291,7294,7296,7298,7300,7301,7301,7306,7315,7317,7325,7332,7335,7336,7344,7351,7359,7363,7372,7373,7373,7381,7384,7387,7390,7400,7401,7403,7416,7422,7432,7439,7443,7446,7447,7456,7473,7483,7490,7505,7510,7514,7525,7541,7560,7577,7625,7636,7639,7662,7697,7712,7728,7757,7770],\"9\":[0,0,0,0,0,0,0,0,0,0,0,0,0,0,0,0,0,0,0,0,0,0,0,1,1,1,1,1,1,1,1,1,1,1,2,2,2,2,2,2,2,2,2,2,2,2,2,2,2,2,2,3,3,3,3,3,3,3,3,3,3,3,3,3,3,3,3,3,3,3,3,3,3,3,3,3,3,3,3,3,3,3,3,3,3,3,3,3,3,3,3,3,3,3,3,3,3,3,3,3,3,3,3,3,3,3,3,3,3,3,3,3,3,3,3,3,3,3,3,3,3,3,3,3,3,3,3,3,3,3,3,3,3,3,3,3,3,3,3,3,3,3,3,3,3,3,3,3,3,3,3,3,3,3,3,3,3,3,3,3,3,3,3,3,3,3,3,3,3,3,3,3,3,3,3,3,3,3,3,3,3,3,3,3,3,3,3,3,3,3,3,3],\"90\":[48,66,76,95,118,154,202,265,319,390,438,491,559,645,720,795,896,968,1030,1136,1236,1348,1436,1558,1629,1690,1757,1972,2098,2181,2273,2363,2404,2522,2623,2713,2790,2855,2898,2931,3013,3084,3137,3203,3235,3267,3336,3390,3434,3462,3485,3497,3516,3568,3606,3627,3658,3698,3712,3725,3751,3791,3819,3839,3853,3859,3868,3884,3905,3921,3929,3940,3957,3968,3975,3991,4016,4029,4038,4048,4051,4062,4073,4080,4090,4096,4101,4105,4112,4122,4128,4134,4138,4141,4144,4148,4154,4157,4164,4174,4178,4178,4179,4186,4190,4193,4198,4199,4199,4201,4206,4212,4217,4222,4224,4225,4226,4226,4228,4232,4234,4234,4235,4237,4238,4241,4242,4243,4245,4245,4244,4247,4249,4254,4256,4258,4258,4261,4262,4265,4267,4268,4268,4268,4269,4271,4279,4282,4286,4287,4287,4290,4293,4298,4301,4303,4307,4307,4310,4318,4320,4322,4323,4325,4326,4330,4333,4336,4340,4343,4345,4346,4352,4361,4369,4372,4381,4390,4391,4404,4413,4423,4435,4484,4492,4493,4511,4523,4536,4551,4563,4570],\"__x__values\":{\"__ndarray__\":\"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\",\"dtype\":\"float64\",\"order\":\"little\",\"shape\":[192]},\"__x__values_original\":{\"__ndarray__\":\"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\",\"dtype\":\"float64\",\"order\":\"little\",\"shape\":[192]}},\"selected\":{\"id\":\"1158\"},\"selection_policy\":{\"id\":\"1159\"}},\"id\":\"1129\",\"type\":\"ColumnDataSource\"},{\"attributes\":{},\"id\":\"1024\",\"type\":\"SaveTool\"},{\"attributes\":{\"axis_label\":\"D\\u00e9c\\u00e8s\",\"formatter\":{\"id\":\"1045\"},\"ticker\":{\"id\":\"1018\"}},\"id\":\"1017\",\"type\":\"LinearAxis\"},{\"attributes\":{\"line_alpha\":0.1,\"line_color\":\"#d62728\",\"line_width\":2,\"x\":{\"field\":\"__x__values\"},\"y\":{\"field\":\"39\"}},\"id\":\"1132\",\"type\":\"Line\"},{\"attributes\":{},\"id\":\"1005\",\"type\":\"DataRange1d\"},{\"attributes\":{\"line_color\":\"#d62728\",\"line_width\":2,\"x\":{\"field\":\"__x__values\"},\"y\":{\"field\":\"39\"}},\"id\":\"1131\",\"type\":\"Line\"},{\"attributes\":{},\"id\":\"1364\",\"type\":\"UnionRenderers\"},{\"attributes\":{},\"id\":\"1007\",\"type\":\"DataRange1d\"},{\"attributes\":{\"source\":{\"id\":\"1129\"}},\"id\":\"1134\",\"type\":\"CDSView\"},{\"attributes\":{\"callback\":null,\"formatters\":{\"@__x__values_original\":\"datetime\"},\"mode\":\"vline\",\"renderers\":[{\"id\":\"1168\"}],\"tooltips\":[[\"Date\",\"@__x__values_original{%F}\"],[\"49\",\"@{49}\"]]},\"id\":\"1199\",\"type\":\"HoverTool\"},{\"attributes\":{},\"id\":\"1363\",\"type\":\"Selection\"},{\"attributes\":{\"axis_label\":\"Date\",\"formatter\":{\"id\":\"1416\"},\"ticker\":{\"id\":\"1014\"}},\"id\":\"1013\",\"type\":\"DatetimeAxis\"},{\"attributes\":{\"data\":{\"19\":[0,0,0,0,0,0,0,1,1,1,1,1,1,1,1,1,1,1,1,1,1,1,1,1,1,1,2,2,2,2,2,3,3,3,3,3,3,3,3,3,3,3,3,3,3,3,3,3,3,3,3,3,3,3,3,3,3,3,3,3,3,3,3,3,3,3,3,3,3,3,3,3,3,3,3,3,3,3,3,3,3,3,3,3,3,3,3,3,3,3,3,3,3,3,3,3,3,3,3,3,4,4,4,4,4,4,4,4,4,4,4,4,4,4,4,4,4,4,4,4,4,4,4,5,4,4,4,4,4,4,4,4,4,4,4,4,4,4,4,4,4,4,4,4,4,4,4,4,4,4,4,4,4,4,4,4,4,4,4,4,4,4,4,4,4,4,4,4,4,4,4,4,4,4,4,4,4,4,4,4,4,4,4,4,4,4,4,4,4,4,4,4],\"29\":[1,2,1,1,1,1,1,2,2,2,2,3,3,4,4,4,4,4,4,4,7,6,8,8,9,12,12,13,14,14,16,16,16,16,16,16,16,16,16,16,16,16,16,16,16,16,17,17,18,19,19,19,19,19,19,19,20,20,20,20,20,20,20,20,20,20,20,21,21,21,21,21,21,21,21,21,21,21,21,21,21,21,21,21,21,21,21,21,21,21,21,21,21,21,21,21,21,21,21,21,21,21,21,21,21,21,21,21,21,21,21,21,21,21,21,21,21,21,21,21,21,21,21,21,21,21,21,21,21,21,21,21,21,21,21,21,21,21,21,21,21,21,21,21,22,22,22,22,23,23,23,23,23,23,23,24,24,24,24,25,25,25,25,26,26,26,26,26,26,27,27,27,27,27,27,27,27,27,27,27,27,27,27,27,27,27,27,27,27,27,27,27],\"39\":[1,1,1,1,2,2,3,3,6,6,9,10,13,14,15,18,23,26,28,28,29,35,38,42,45,49,53,53,53,56,59,59,59,60,60,59,59,61,62,62,63,64,64,66,66,66,67,68,69,71,72,73,73,74,73,75,75,76,77,78,79,79,80,81,81,81,81,81,82,82,82,83,83,84,84,84,84,85,85,85,85,85,86,86,86,86,86,86,86,85,86,86,86,87,87,88,88,89,90,90,90,90,90,90,90,90,90,90,90,90,90,90,90,90,90,90,90,90,90,90,90,90,90,90,91,91,91,92,92,92,93,93,95,95,95,95,95,95,95,95,95,95,95,95,96,96,97,97,97,97,97,97,97,97,97,98,98,98,98,98,98,98,98,98,98,98,98,98,98,99,99,99,99,99,99,99,100,100,100,100,100,100,100,100,100,100,100,100,100,100,100,100],\"49\":[5,6,6,6,9,11,13,15,17,20,25,29,33,39,45,53,62,67,74,87,94,99,107,115,118,129,133,128,134,143,149,151,156,161,164,166,168,172,173,177,177,181,184,190,194,195,198,200,202,203,203,205,205,208,210,213,215,214,215,215,218,219,221,221,222,222,222,223,224,225,229,229,229,229,229,229,230,230,231,231,232,235,235,236,235,235,236,236,235,235,235,237,237,238,238,238,238,238,239,239,240,240,241,241,241,241,241,241,241,242,243,243,243,243,243,243,245,245,247,247,247,247,247,248,249,249,249,249,249,249,250,250,250,250,250,250,250,250,251,252,253,254,254,254,254,255,256,256,256,256,256,256,257,257,257,258,258,258,258,259,259,259,259,260,260,260,260,260,260,261,262,262,262,264,264,264,264,264,264,264,264,264,265,265,265,266,266,266,267,267,267,267],\"59\":[4,10,12,16,16,24,36,46,59,71,83,95,111,137,168,199,231,251,275,296,332,362,382,405,424,441,453,471,495,512,532,546,556,566,581,596,613,626,638,643,650,665,677,689,697,698,709,716,726,739,747,751,755,767,774,781,788,789,792,796,804,809,813,815,821,822,824,832,838,842,850,854,854,853,853,861,864,865,867,871,871,874,879,881,884,888,891,891,894,896,899,902,903,903,904,905,906,908,908,909,909,909,909,910,909,909,910,910,910,910,912,912,912,912,912,912,915,915,917,917,918,920,920,922,922,922,923,924,924,924,925,926,927,927,927,927,927,928,930,930,930,932,932,932,934,934,935,935,936,936,936,936,937,937,937,937,938,938,938,938,940,941,942,942,942,946,947,949,949,949,949,949,951,951,951,954,955,956,956,956,958,958,959,961,962,963,963,965,967,971,973,977],\"69\":[17,33,39,50,65,87,114,139,168,197,237,266,315,375,431,489,566,639,675,753,814,868,911,964,1013,1055,1101,1139,1194,1245,1299,1351,1384,1440,1484,1535,1564,1595,1625,1642,1678,1715,1745,1782,1800,1813,1837,1871,1897,1917,1934,1950,1957,1974,1997,2010,2024,2039,2053,2061,2085,2097,2107,2109,2124,2128,2136,2144,2155,2162,2166,2176,2181,2184,2189,2203,2206,2209,2215,2217,2219,2225,2232,2234,2241,2244,2247,2247,2255,2262,2262,2264,2267,2269,2269,2271,2274,2277,2280,2285,2288,2289,2291,2293,2295,2299,2300,2303,2304,2308,2316,2323,2326,2327,2328,2328,2330,2333,2336,2337,2339,2341,2341,2344,2348,2349,2354,2355,2355,2355,2357,2359,2361,2362,2363,2364,2364,2366,2368,2369,2371,2371,2371,2371,2372,2373,2375,2376,2379,2379,2379,2382,2384,2385,2386,2391,2392,2393,2394,2395,2399,2403,2403,2403,2403,2404,2406,2408,2409,2411,2413,2414,2419,2423,2425,2427,2432,2432,2432,2433,2437,2442,2444,2452,2453,2454,2460,2466,2469,2475,2477,2481],\"79\":[42,78,102,132,160,207,258,321,405,468,555,637,742,866,988,1124,1265,1369,1475,1602,1742,1869,1968,2088,2159,2226,2313,2425,2532,2616,2698,2767,2819,2903,2979,3040,3096,3152,3198,3237,3303,3371,3425,3493,3518,3535,3584,3629,3673,3698,3723,3740,3756,3794,3833,3855,3882,3909,3921,3934,3958,3985,3998,4007,4020,4031,4040,4061,4075,4086,4102,4113,4128,4136,4145,4165,4187,4198,4206,4212,4216,4231,4244,4249,4255,4258,4263,4265,4272,4275,4282,4291,4293,4295,4298,4302,4310,4309,4315,4321,4326,4326,4333,4335,4337,4340,4344,4349,4350,4352,4355,4362,4365,4373,4374,4374,4380,4382,4386,4389,4392,4392,4392,4394,4397,4398,4398,4401,4403,4404,4406,4412,4414,4418,4421,4421,4421,4429,4431,4433,4433,4439,4440,4440,4443,4445,4447,4452,4454,4453,4453,4458,4460,4463,4467,4470,4471,4471,4474,4480,4486,4488,4494,4495,4496,4503,4510,4518,4526,4532,4536,4536,4539,4545,4555,4558,4565,4567,4568,4577,4581,4593,4610,4625,4629,4633,4639,4651,4660,4670,4680,4691],\"89\":[98,170,207,253,295,364,460,581,701,819,941,1049,1209,1395,1611,1772,1994,2155,2274,2530,2778,2983,3131,3352,3477,3582,3700,3858,4049,4208,4367,4499,4585,4754,4900,5015,5142,5272,5335,5388,5490,5605,5696,5811,5839,5871,5957,6048,6099,6156,6192,6217,6239,6295,6369,6397,6438,6471,6496,6511,6548,6587,6625,6648,6672,6693,6700,6733,6761,6786,6813,6837,6857,6866,6876,6902,6928,6943,6963,6972,6975,6991,7007,7013,7016,7028,7035,7038,7043,7060,7071,7077,7081,7088,7088,7099,7107,7110,7113,7117,7118,7119,7126,7135,7146,7150,7156,7159,7159,7163,7177,7189,7192,7203,7205,7205,7209,7210,7217,7226,7232,7236,7236,7241,7244,7246,7249,7252,7256,7256,7258,7262,7268,7274,7279,7282,7283,7291,7294,7296,7298,7300,7301,7301,7306,7315,7317,7325,7332,7335,7336,7344,7351,7359,7363,7372,7373,7373,7381,7384,7387,7390,7400,7401,7403,7416,7422,7432,7439,7443,7446,7447,7456,7473,7483,7490,7505,7510,7514,7525,7541,7560,7577,7625,7636,7639,7662,7697,7712,7728,7757,7770],\"9\":[0,0,0,0,0,0,0,0,0,0,0,0,0,0,0,0,0,0,0,0,0,0,0,1,1,1,1,1,1,1,1,1,1,1,2,2,2,2,2,2,2,2,2,2,2,2,2,2,2,2,2,3,3,3,3,3,3,3,3,3,3,3,3,3,3,3,3,3,3,3,3,3,3,3,3,3,3,3,3,3,3,3,3,3,3,3,3,3,3,3,3,3,3,3,3,3,3,3,3,3,3,3,3,3,3,3,3,3,3,3,3,3,3,3,3,3,3,3,3,3,3,3,3,3,3,3,3,3,3,3,3,3,3,3,3,3,3,3,3,3,3,3,3,3,3,3,3,3,3,3,3,3,3,3,3,3,3,3,3,3,3,3,3,3,3,3,3,3,3,3,3,3,3,3,3,3,3,3,3,3,3,3,3,3,3,3,3,3,3,3,3,3],\"90\":[48,66,76,95,118,154,202,265,319,390,438,491,559,645,720,795,896,968,1030,1136,1236,1348,1436,1558,1629,1690,1757,1972,2098,2181,2273,2363,2404,2522,2623,2713,2790,2855,2898,2931,3013,3084,3137,3203,3235,3267,3336,3390,3434,3462,3485,3497,3516,3568,3606,3627,3658,3698,3712,3725,3751,3791,3819,3839,3853,3859,3868,3884,3905,3921,3929,3940,3957,3968,3975,3991,4016,4029,4038,4048,4051,4062,4073,4080,4090,4096,4101,4105,4112,4122,4128,4134,4138,4141,4144,4148,4154,4157,4164,4174,4178,4178,4179,4186,4190,4193,4198,4199,4199,4201,4206,4212,4217,4222,4224,4225,4226,4226,4228,4232,4234,4234,4235,4237,4238,4241,4242,4243,4245,4245,4244,4247,4249,4254,4256,4258,4258,4261,4262,4265,4267,4268,4268,4268,4269,4271,4279,4282,4286,4287,4287,4290,4293,4298,4301,4303,4307,4307,4310,4318,4320,4322,4323,4325,4326,4330,4333,4336,4340,4343,4345,4346,4352,4361,4369,4372,4381,4390,4391,4404,4413,4423,4435,4484,4492,4493,4511,4523,4536,4551,4563,4570],\"__x__values\":{\"__ndarray__\":\"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\",\"dtype\":\"float64\",\"order\":\"little\",\"shape\":[192]},\"__x__values_original\":{\"__ndarray__\":\"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\",\"dtype\":\"float64\",\"order\":\"little\",\"shape\":[192]}},\"selected\":{\"id\":\"1275\"},\"selection_policy\":{\"id\":\"1276\"}},\"id\":\"1240\",\"type\":\"ColumnDataSource\"},{\"attributes\":{\"label\":{\"value\":\" 39\"},\"renderers\":[{\"id\":\"1133\"}]},\"id\":\"1161\",\"type\":\"LegendItem\"},{\"attributes\":{\"line_alpha\":0.1,\"line_color\":\"#e377c2\",\"line_width\":2,\"x\":{\"field\":\"__x__values\"},\"y\":{\"field\":\"69\"}},\"id\":\"1243\",\"type\":\"Line\"},{\"attributes\":{\"line_color\":\"#e377c2\",\"line_width\":2,\"x\":{\"field\":\"__x__values\"},\"y\":{\"field\":\"69\"}},\"id\":\"1242\",\"type\":\"Line\"},{\"attributes\":{\"source\":{\"id\":\"1240\"}},\"id\":\"1245\",\"type\":\"CDSView\"},{\"attributes\":{\"label\":{\"value\":\" 69\"},\"renderers\":[{\"id\":\"1244\"}]},\"id\":\"1278\",\"type\":\"LegendItem\"},{\"attributes\":{\"callback\":null,\"formatters\":{\"@__x__values_original\":\"datetime\"},\"mode\":\"vline\",\"renderers\":[{\"id\":\"1373\"}],\"tooltips\":[[\"Date\",\"@__x__values_original{%F}\"],[\"90\",\"@{90}\"]]},\"id\":\"1414\",\"type\":\"HoverTool\"},{\"attributes\":{},\"id\":\"1159\",\"type\":\"UnionRenderers\"},{\"attributes\":{\"callback\":null,\"formatters\":{\"@__x__values_original\":\"datetime\"},\"mode\":\"vline\",\"renderers\":[{\"id\":\"1285\"}],\"tooltips\":[[\"Date\",\"@__x__values_original{%F}\"],[\"79\",\"@{79}\"]]},\"id\":\"1322\",\"type\":\"HoverTool\"},{\"attributes\":{},\"id\":\"1158\",\"type\":\"Selection\"},{\"attributes\":{\"source\":{\"id\":\"1369\"}},\"id\":\"1374\",\"type\":\"CDSView\"},{\"attributes\":{},\"id\":\"1276\",\"type\":\"UnionRenderers\"},{\"attributes\":{\"label\":{\"value\":\" 90\"},\"renderers\":[{\"id\":\"1373\"}]},\"id\":\"1413\",\"type\":\"LegendItem\"},{\"attributes\":{\"data\":{\"19\":[0,0,0,0,0,0,0,1,1,1,1,1,1,1,1,1,1,1,1,1,1,1,1,1,1,1,2,2,2,2,2,3,3,3,3,3,3,3,3,3,3,3,3,3,3,3,3,3,3,3,3,3,3,3,3,3,3,3,3,3,3,3,3,3,3,3,3,3,3,3,3,3,3,3,3,3,3,3,3,3,3,3,3,3,3,3,3,3,3,3,3,3,3,3,3,3,3,3,3,3,4,4,4,4,4,4,4,4,4,4,4,4,4,4,4,4,4,4,4,4,4,4,4,5,4,4,4,4,4,4,4,4,4,4,4,4,4,4,4,4,4,4,4,4,4,4,4,4,4,4,4,4,4,4,4,4,4,4,4,4,4,4,4,4,4,4,4,4,4,4,4,4,4,4,4,4,4,4,4,4,4,4,4,4,4,4,4,4,4,4,4,4],\"29\":[1,2,1,1,1,1,1,2,2,2,2,3,3,4,4,4,4,4,4,4,7,6,8,8,9,12,12,13,14,14,16,16,16,16,16,16,16,16,16,16,16,16,16,16,16,16,17,17,18,19,19,19,19,19,19,19,20,20,20,20,20,20,20,20,20,20,20,21,21,21,21,21,21,21,21,21,21,21,21,21,21,21,21,21,21,21,21,21,21,21,21,21,21,21,21,21,21,21,21,21,21,21,21,21,21,21,21,21,21,21,21,21,21,21,21,21,21,21,21,21,21,21,21,21,21,21,21,21,21,21,21,21,21,21,21,21,21,21,21,21,21,21,21,21,22,22,22,22,23,23,23,23,23,23,23,24,24,24,24,25,25,25,25,26,26,26,26,26,26,27,27,27,27,27,27,27,27,27,27,27,27,27,27,27,27,27,27,27,27,27,27,27],\"39\":[1,1,1,1,2,2,3,3,6,6,9,10,13,14,15,18,23,26,28,28,29,35,38,42,45,49,53,53,53,56,59,59,59,60,60,59,59,61,62,62,63,64,64,66,66,66,67,68,69,71,72,73,73,74,73,75,75,76,77,78,79,79,80,81,81,81,81,81,82,82,82,83,83,84,84,84,84,85,85,85,85,85,86,86,86,86,86,86,86,85,86,86,86,87,87,88,88,89,90,90,90,90,90,90,90,90,90,90,90,90,90,90,90,90,90,90,90,90,90,90,90,90,90,90,91,91,91,92,92,92,93,93,95,95,95,95,95,95,95,95,95,95,95,95,96,96,97,97,97,97,97,97,97,97,97,98,98,98,98,98,98,98,98,98,98,98,98,98,98,99,99,99,99,99,99,99,100,100,100,100,100,100,100,100,100,100,100,100,100,100,100,100],\"49\":[5,6,6,6,9,11,13,15,17,20,25,29,33,39,45,53,62,67,74,87,94,99,107,115,118,129,133,128,134,143,149,151,156,161,164,166,168,172,173,177,177,181,184,190,194,195,198,200,202,203,203,205,205,208,210,213,215,214,215,215,218,219,221,221,222,222,222,223,224,225,229,229,229,229,229,229,230,230,231,231,232,235,235,236,235,235,236,236,235,235,235,237,237,238,238,238,238,238,239,239,240,240,241,241,241,241,241,241,241,242,243,243,243,243,243,243,245,245,247,247,247,247,247,248,249,249,249,249,249,249,250,250,250,250,250,250,250,250,251,252,253,254,254,254,254,255,256,256,256,256,256,256,257,257,257,258,258,258,258,259,259,259,259,260,260,260,260,260,260,261,262,262,262,264,264,264,264,264,264,264,264,264,265,265,265,266,266,266,267,267,267,267],\"59\":[4,10,12,16,16,24,36,46,59,71,83,95,111,137,168,199,231,251,275,296,332,362,382,405,424,441,453,471,495,512,532,546,556,566,581,596,613,626,638,643,650,665,677,689,697,698,709,716,726,739,747,751,755,767,774,781,788,789,792,796,804,809,813,815,821,822,824,832,838,842,850,854,854,853,853,861,864,865,867,871,871,874,879,881,884,888,891,891,894,896,899,902,903,903,904,905,906,908,908,909,909,909,909,910,909,909,910,910,910,910,912,912,912,912,912,912,915,915,917,917,918,920,920,922,922,922,923,924,924,924,925,926,927,927,927,927,927,928,930,930,930,932,932,932,934,934,935,935,936,936,936,936,937,937,937,937,938,938,938,938,940,941,942,942,942,946,947,949,949,949,949,949,951,951,951,954,955,956,956,956,958,958,959,961,962,963,963,965,967,971,973,977],\"69\":[17,33,39,50,65,87,114,139,168,197,237,266,315,375,431,489,566,639,675,753,814,868,911,964,1013,1055,1101,1139,1194,1245,1299,1351,1384,1440,1484,1535,1564,1595,1625,1642,1678,1715,1745,1782,1800,1813,1837,1871,1897,1917,1934,1950,1957,1974,1997,2010,2024,2039,2053,2061,2085,2097,2107,2109,2124,2128,2136,2144,2155,2162,2166,2176,2181,2184,2189,2203,2206,2209,2215,2217,2219,2225,2232,2234,2241,2244,2247,2247,2255,2262,2262,2264,2267,2269,2269,2271,2274,2277,2280,2285,2288,2289,2291,2293,2295,2299,2300,2303,2304,2308,2316,2323,2326,2327,2328,2328,2330,2333,2336,2337,2339,2341,2341,2344,2348,2349,2354,2355,2355,2355,2357,2359,2361,2362,2363,2364,2364,2366,2368,2369,2371,2371,2371,2371,2372,2373,2375,2376,2379,2379,2379,2382,2384,2385,2386,2391,2392,2393,2394,2395,2399,2403,2403,2403,2403,2404,2406,2408,2409,2411,2413,2414,2419,2423,2425,2427,2432,2432,2432,2433,2437,2442,2444,2452,2453,2454,2460,2466,2469,2475,2477,2481],\"79\":[42,78,102,132,160,207,258,321,405,468,555,637,742,866,988,1124,1265,1369,1475,1602,1742,1869,1968,2088,2159,2226,2313,2425,2532,2616,2698,2767,2819,2903,2979,3040,3096,3152,3198,3237,3303,3371,3425,3493,3518,3535,3584,3629,3673,3698,3723,3740,3756,3794,3833,3855,3882,3909,3921,3934,3958,3985,3998,4007,4020,4031,4040,4061,4075,4086,4102,4113,4128,4136,4145,4165,4187,4198,4206,4212,4216,4231,4244,4249,4255,4258,4263,4265,4272,4275,4282,4291,4293,4295,4298,4302,4310,4309,4315,4321,4326,4326,4333,4335,4337,4340,4344,4349,4350,4352,4355,4362,4365,4373,4374,4374,4380,4382,4386,4389,4392,4392,4392,4394,4397,4398,4398,4401,4403,4404,4406,4412,4414,4418,4421,4421,4421,4429,4431,4433,4433,4439,4440,4440,4443,4445,4447,4452,4454,4453,4453,4458,4460,4463,4467,4470,4471,4471,4474,4480,4486,4488,4494,4495,4496,4503,4510,4518,4526,4532,4536,4536,4539,4545,4555,4558,4565,4567,4568,4577,4581,4593,4610,4625,4629,4633,4639,4651,4660,4670,4680,4691],\"89\":[98,170,207,253,295,364,460,581,701,819,941,1049,1209,1395,1611,1772,1994,2155,2274,2530,2778,2983,3131,3352,3477,3582,3700,3858,4049,4208,4367,4499,4585,4754,4900,5015,5142,5272,5335,5388,5490,5605,5696,5811,5839,5871,5957,6048,6099,6156,6192,6217,6239,6295,6369,6397,6438,6471,6496,6511,6548,6587,6625,6648,6672,6693,6700,6733,6761,6786,6813,6837,6857,6866,6876,6902,6928,6943,6963,6972,6975,6991,7007,7013,7016,7028,7035,7038,7043,7060,7071,7077,7081,7088,7088,7099,7107,7110,7113,7117,7118,7119,7126,7135,7146,7150,7156,7159,7159,7163,7177,7189,7192,7203,7205,7205,7209,7210,7217,7226,7232,7236,7236,7241,7244,7246,7249,7252,7256,7256,7258,7262,7268,7274,7279,7282,7283,7291,7294,7296,7298,7300,7301,7301,7306,7315,7317,7325,7332,7335,7336,7344,7351,7359,7363,7372,7373,7373,7381,7384,7387,7390,7400,7401,7403,7416,7422,7432,7439,7443,7446,7447,7456,7473,7483,7490,7505,7510,7514,7525,7541,7560,7577,7625,7636,7639,7662,7697,7712,7728,7757,7770],\"9\":[0,0,0,0,0,0,0,0,0,0,0,0,0,0,0,0,0,0,0,0,0,0,0,1,1,1,1,1,1,1,1,1,1,1,2,2,2,2,2,2,2,2,2,2,2,2,2,2,2,2,2,3,3,3,3,3,3,3,3,3,3,3,3,3,3,3,3,3,3,3,3,3,3,3,3,3,3,3,3,3,3,3,3,3,3,3,3,3,3,3,3,3,3,3,3,3,3,3,3,3,3,3,3,3,3,3,3,3,3,3,3,3,3,3,3,3,3,3,3,3,3,3,3,3,3,3,3,3,3,3,3,3,3,3,3,3,3,3,3,3,3,3,3,3,3,3,3,3,3,3,3,3,3,3,3,3,3,3,3,3,3,3,3,3,3,3,3,3,3,3,3,3,3,3,3,3,3,3,3,3,3,3,3,3,3,3,3,3,3,3,3,3],\"90\":[48,66,76,95,118,154,202,265,319,390,438,491,559,645,720,795,896,968,1030,1136,1236,1348,1436,1558,1629,1690,1757,1972,2098,2181,2273,2363,2404,2522,2623,2713,2790,2855,2898,2931,3013,3084,3137,3203,3235,3267,3336,3390,3434,3462,3485,3497,3516,3568,3606,3627,3658,3698,3712,3725,3751,3791,3819,3839,3853,3859,3868,3884,3905,3921,3929,3940,3957,3968,3975,3991,4016,4029,4038,4048,4051,4062,4073,4080,4090,4096,4101,4105,4112,4122,4128,4134,4138,4141,4144,4148,4154,4157,4164,4174,4178,4178,4179,4186,4190,4193,4198,4199,4199,4201,4206,4212,4217,4222,4224,4225,4226,4226,4228,4232,4234,4234,4235,4237,4238,4241,4242,4243,4245,4245,4244,4247,4249,4254,4256,4258,4258,4261,4262,4265,4267,4268,4268,4268,4269,4271,4279,4282,4286,4287,4287,4290,4293,4298,4301,4303,4307,4307,4310,4318,4320,4322,4323,4325,4326,4330,4333,4336,4340,4343,4345,4346,4352,4361,4369,4372,4381,4390,4391,4404,4413,4423,4435,4484,4492,4493,4511,4523,4536,4551,4563,4570],\"__x__values\":{\"__ndarray__\":\"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\",\"dtype\":\"float64\",\"order\":\"little\",\"shape\":[192]},\"__x__values_original\":{\"__ndarray__\":\"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\",\"dtype\":\"float64\",\"order\":\"little\",\"shape\":[192]}},\"selected\":{\"id\":\"1410\"},\"selection_policy\":{\"id\":\"1411\"}},\"id\":\"1369\",\"type\":\"ColumnDataSource\"},{\"attributes\":{\"line_alpha\":0.1,\"line_color\":\"#17becf\",\"line_width\":2,\"x\":{\"field\":\"__x__values\"},\"y\":{\"field\":\"90\"}},\"id\":\"1372\",\"type\":\"Line\"},{\"attributes\":{},\"id\":\"1275\",\"type\":\"Selection\"},{\"attributes\":{\"line_color\":\"#17becf\",\"line_width\":2,\"x\":{\"field\":\"__x__values\"},\"y\":{\"field\":\"90\"}},\"id\":\"1371\",\"type\":\"Line\"},{\"attributes\":{\"line_alpha\":0.1,\"line_color\":\"#1f77b4\",\"line_width\":2,\"x\":{\"field\":\"__x__values\"},\"y\":{\"field\":\"9\"}},\"id\":\"1038\",\"type\":\"Line\"},{\"attributes\":{\"mantissas\":[1,2,5],\"max_interval\":500.0,\"num_minor_ticks\":0},\"id\":\"1046\",\"type\":\"AdaptiveTicker\"},{\"attributes\":{\"base\":60,\"mantissas\":[1,2,5,10,15,20,30],\"max_interval\":1800000.0,\"min_interval\":1000.0,\"num_minor_ticks\":0},\"id\":\"1047\",\"type\":\"AdaptiveTicker\"},{\"attributes\":{\"days\":[1,2,3,4,5,6,7,8,9,10,11,12,13,14,15,16,17,18,19,20,21,22,23,24,25,26,27,28,29,30,31]},\"id\":\"1049\",\"type\":\"DaysTicker\"},{\"attributes\":{\"label\":{\"value\":\" 9\"},\"renderers\":[{\"id\":\"1039\"}]},\"id\":\"1062\",\"type\":\"LegendItem\"},{\"attributes\":{\"base\":24,\"mantissas\":[1,2,4,6,8,12],\"max_interval\":43200000.0,\"min_interval\":3600000.0,\"num_minor_ticks\":0},\"id\":\"1048\",\"type\":\"AdaptiveTicker\"},{\"attributes\":{},\"id\":\"1411\",\"type\":\"UnionRenderers\"},{\"attributes\":{\"months\":[0,1,2,3,4,5,6,7,8,9,10,11]},\"id\":\"1053\",\"type\":\"MonthsTicker\"},{\"attributes\":{\"months\":[0,2,4,6,8,10]},\"id\":\"1054\",\"type\":\"MonthsTicker\"},{\"attributes\":{},\"id\":\"1410\",\"type\":\"Selection\"},{\"attributes\":{\"days\":[1,4,7,10,13,16,19,22,25,28]},\"id\":\"1050\",\"type\":\"DaysTicker\"},{\"attributes\":{\"click_policy\":\"hide\",\"items\":[{\"id\":\"1062\"},{\"id\":\"1093\"},{\"id\":\"1126\"},{\"id\":\"1161\"},{\"id\":\"1198\"},{\"id\":\"1237\"},{\"id\":\"1278\"},{\"id\":\"1321\"},{\"id\":\"1366\"},{\"id\":\"1413\"}]},\"id\":\"1061\",\"type\":\"Legend\"},{\"attributes\":{\"days\":[1,15]},\"id\":\"1052\",\"type\":\"DaysTicker\"},{\"attributes\":{\"months\":[0,6]},\"id\":\"1056\",\"type\":\"MonthsTicker\"},{\"attributes\":{\"days\":[1,8,15,22]},\"id\":\"1051\",\"type\":\"DaysTicker\"},{\"attributes\":{},\"id\":\"1057\",\"type\":\"YearsTicker\"},{\"attributes\":{\"months\":[0,4,8]},\"id\":\"1055\",\"type\":\"MonthsTicker\"},{\"attributes\":{\"bottom_units\":\"screen\",\"fill_alpha\":0.5,\"fill_color\":\"lightgrey\",\"left_units\":\"screen\",\"level\":\"overlay\",\"line_alpha\":1.0,\"line_color\":\"black\",\"line_dash\":[4,4],\"line_width\":2,\"right_units\":\"screen\",\"top_units\":\"screen\"},\"id\":\"1027\",\"type\":\"BoxAnnotation\"},{\"attributes\":{\"source\":{\"id\":\"1035\"}},\"id\":\"1040\",\"type\":\"CDSView\"},{\"attributes\":{},\"id\":\"1058\",\"type\":\"Selection\"},{\"attributes\":{},\"id\":\"1059\",\"type\":\"UnionRenderers\"},{\"attributes\":{\"callback\":null,\"formatters\":{\"@__x__values_original\":\"datetime\"},\"mode\":\"vline\",\"renderers\":[{\"id\":\"1039\"}],\"tooltips\":[[\"Date\",\"@__x__values_original{%F}\"],[\"9\",\"@{9}\"]]},\"id\":\"1063\",\"type\":\"HoverTool\"},{\"attributes\":{\"data\":{\"19\":[0,0,0,0,0,0,0,1,1,1,1,1,1,1,1,1,1,1,1,1,1,1,1,1,1,1,2,2,2,2,2,3,3,3,3,3,3,3,3,3,3,3,3,3,3,3,3,3,3,3,3,3,3,3,3,3,3,3,3,3,3,3,3,3,3,3,3,3,3,3,3,3,3,3,3,3,3,3,3,3,3,3,3,3,3,3,3,3,3,3,3,3,3,3,3,3,3,3,3,3,4,4,4,4,4,4,4,4,4,4,4,4,4,4,4,4,4,4,4,4,4,4,4,5,4,4,4,4,4,4,4,4,4,4,4,4,4,4,4,4,4,4,4,4,4,4,4,4,4,4,4,4,4,4,4,4,4,4,4,4,4,4,4,4,4,4,4,4,4,4,4,4,4,4,4,4,4,4,4,4,4,4,4,4,4,4,4,4,4,4,4,4],\"29\":[1,2,1,1,1,1,1,2,2,2,2,3,3,4,4,4,4,4,4,4,7,6,8,8,9,12,12,13,14,14,16,16,16,16,16,16,16,16,16,16,16,16,16,16,16,16,17,17,18,19,19,19,19,19,19,19,20,20,20,20,20,20,20,20,20,20,20,21,21,21,21,21,21,21,21,21,21,21,21,21,21,21,21,21,21,21,21,21,21,21,21,21,21,21,21,21,21,21,21,21,21,21,21,21,21,21,21,21,21,21,21,21,21,21,21,21,21,21,21,21,21,21,21,21,21,21,21,21,21,21,21,21,21,21,21,21,21,21,21,21,21,21,21,21,22,22,22,22,23,23,23,23,23,23,23,24,24,24,24,25,25,25,25,26,26,26,26,26,26,27,27,27,27,27,27,27,27,27,27,27,27,27,27,27,27,27,27,27,27,27,27,27],\"39\":[1,1,1,1,2,2,3,3,6,6,9,10,13,14,15,18,23,26,28,28,29,35,38,42,45,49,53,53,53,56,59,59,59,60,60,59,59,61,62,62,63,64,64,66,66,66,67,68,69,71,72,73,73,74,73,75,75,76,77,78,79,79,80,81,81,81,81,81,82,82,82,83,83,84,84,84,84,85,85,85,85,85,86,86,86,86,86,86,86,85,86,86,86,87,87,88,88,89,90,90,90,90,90,90,90,90,90,90,90,90,90,90,90,90,90,90,90,90,90,90,90,90,90,90,91,91,91,92,92,92,93,93,95,95,95,95,95,95,95,95,95,95,95,95,96,96,97,97,97,97,97,97,97,97,97,98,98,98,98,98,98,98,98,98,98,98,98,98,98,99,99,99,99,99,99,99,100,100,100,100,100,100,100,100,100,100,100,100,100,100,100,100],\"49\":[5,6,6,6,9,11,13,15,17,20,25,29,33,39,45,53,62,67,74,87,94,99,107,115,118,129,133,128,134,143,149,151,156,161,164,166,168,172,173,177,177,181,184,190,194,195,198,200,202,203,203,205,205,208,210,213,215,214,215,215,218,219,221,221,222,222,222,223,224,225,229,229,229,229,229,229,230,230,231,231,232,235,235,236,235,235,236,236,235,235,235,237,237,238,238,238,238,238,239,239,240,240,241,241,241,241,241,241,241,242,243,243,243,243,243,243,245,245,247,247,247,247,247,248,249,249,249,249,249,249,250,250,250,250,250,250,250,250,251,252,253,254,254,254,254,255,256,256,256,256,256,256,257,257,257,258,258,258,258,259,259,259,259,260,260,260,260,260,260,261,262,262,262,264,264,264,264,264,264,264,264,264,265,265,265,266,266,266,267,267,267,267],\"59\":[4,10,12,16,16,24,36,46,59,71,83,95,111,137,168,199,231,251,275,296,332,362,382,405,424,441,453,471,495,512,532,546,556,566,581,596,613,626,638,643,650,665,677,689,697,698,709,716,726,739,747,751,755,767,774,781,788,789,792,796,804,809,813,815,821,822,824,832,838,842,850,854,854,853,853,861,864,865,867,871,871,874,879,881,884,888,891,891,894,896,899,902,903,903,904,905,906,908,908,909,909,909,909,910,909,909,910,910,910,910,912,912,912,912,912,912,915,915,917,917,918,920,920,922,922,922,923,924,924,924,925,926,927,927,927,927,927,928,930,930,930,932,932,932,934,934,935,935,936,936,936,936,937,937,937,937,938,938,938,938,940,941,942,942,942,946,947,949,949,949,949,949,951,951,951,954,955,956,956,956,958,958,959,961,962,963,963,965,967,971,973,977],\"69\":[17,33,39,50,65,87,114,139,168,197,237,266,315,375,431,489,566,639,675,753,814,868,911,964,1013,1055,1101,1139,1194,1245,1299,1351,1384,1440,1484,1535,1564,1595,1625,1642,1678,1715,1745,1782,1800,1813,1837,1871,1897,1917,1934,1950,1957,1974,1997,2010,2024,2039,2053,2061,2085,2097,2107,2109,2124,2128,2136,2144,2155,2162,2166,2176,2181,2184,2189,2203,2206,2209,2215,2217,2219,2225,2232,2234,2241,2244,2247,2247,2255,2262,2262,2264,2267,2269,2269,2271,2274,2277,2280,2285,2288,2289,2291,2293,2295,2299,2300,2303,2304,2308,2316,2323,2326,2327,2328,2328,2330,2333,2336,2337,2339,2341,2341,2344,2348,2349,2354,2355,2355,2355,2357,2359,2361,2362,2363,2364,2364,2366,2368,2369,2371,2371,2371,2371,2372,2373,2375,2376,2379,2379,2379,2382,2384,2385,2386,2391,2392,2393,2394,2395,2399,2403,2403,2403,2403,2404,2406,2408,2409,2411,2413,2414,2419,2423,2425,2427,2432,2432,2432,2433,2437,2442,2444,2452,2453,2454,2460,2466,2469,2475,2477,2481],\"79\":[42,78,102,132,160,207,258,321,405,468,555,637,742,866,988,1124,1265,1369,1475,1602,1742,1869,1968,2088,2159,2226,2313,2425,2532,2616,2698,2767,2819,2903,2979,3040,3096,3152,3198,3237,3303,3371,3425,3493,3518,3535,3584,3629,3673,3698,3723,3740,3756,3794,3833,3855,3882,3909,3921,3934,3958,3985,3998,4007,4020,4031,4040,4061,4075,4086,4102,4113,4128,4136,4145,4165,4187,4198,4206,4212,4216,4231,4244,4249,4255,4258,4263,4265,4272,4275,4282,4291,4293,4295,4298,4302,4310,4309,4315,4321,4326,4326,4333,4335,4337,4340,4344,4349,4350,4352,4355,4362,4365,4373,4374,4374,4380,4382,4386,4389,4392,4392,4392,4394,4397,4398,4398,4401,4403,4404,4406,4412,4414,4418,4421,4421,4421,4429,4431,4433,4433,4439,4440,4440,4443,4445,4447,4452,4454,4453,4453,4458,4460,4463,4467,4470,4471,4471,4474,4480,4486,4488,4494,4495,4496,4503,4510,4518,4526,4532,4536,4536,4539,4545,4555,4558,4565,4567,4568,4577,4581,4593,4610,4625,4629,4633,4639,4651,4660,4670,4680,4691],\"89\":[98,170,207,253,295,364,460,581,701,819,941,1049,1209,1395,1611,1772,1994,2155,2274,2530,2778,2983,3131,3352,3477,3582,3700,3858,4049,4208,4367,4499,4585,4754,4900,5015,5142,5272,5335,5388,5490,5605,5696,5811,5839,5871,5957,6048,6099,6156,6192,6217,6239,6295,6369,6397,6438,6471,6496,6511,6548,6587,6625,6648,6672,6693,6700,6733,6761,6786,6813,6837,6857,6866,6876,6902,6928,6943,6963,6972,6975,6991,7007,7013,7016,7028,7035,7038,7043,7060,7071,7077,7081,7088,7088,7099,7107,7110,7113,7117,7118,7119,7126,7135,7146,7150,7156,7159,7159,7163,7177,7189,7192,7203,7205,7205,7209,7210,7217,7226,7232,7236,7236,7241,7244,7246,7249,7252,7256,7256,7258,7262,7268,7274,7279,7282,7283,7291,7294,7296,7298,7300,7301,7301,7306,7315,7317,7325,7332,7335,7336,7344,7351,7359,7363,7372,7373,7373,7381,7384,7387,7390,7400,7401,7403,7416,7422,7432,7439,7443,7446,7447,7456,7473,7483,7490,7505,7510,7514,7525,7541,7560,7577,7625,7636,7639,7662,7697,7712,7728,7757,7770],\"9\":[0,0,0,0,0,0,0,0,0,0,0,0,0,0,0,0,0,0,0,0,0,0,0,1,1,1,1,1,1,1,1,1,1,1,2,2,2,2,2,2,2,2,2,2,2,2,2,2,2,2,2,3,3,3,3,3,3,3,3,3,3,3,3,3,3,3,3,3,3,3,3,3,3,3,3,3,3,3,3,3,3,3,3,3,3,3,3,3,3,3,3,3,3,3,3,3,3,3,3,3,3,3,3,3,3,3,3,3,3,3,3,3,3,3,3,3,3,3,3,3,3,3,3,3,3,3,3,3,3,3,3,3,3,3,3,3,3,3,3,3,3,3,3,3,3,3,3,3,3,3,3,3,3,3,3,3,3,3,3,3,3,3,3,3,3,3,3,3,3,3,3,3,3,3,3,3,3,3,3,3,3,3,3,3,3,3,3,3,3,3,3,3],\"90\":[48,66,76,95,118,154,202,265,319,390,438,491,559,645,720,795,896,968,1030,1136,1236,1348,1436,1558,1629,1690,1757,1972,2098,2181,2273,2363,2404,2522,2623,2713,2790,2855,2898,2931,3013,3084,3137,3203,3235,3267,3336,3390,3434,3462,3485,3497,3516,3568,3606,3627,3658,3698,3712,3725,3751,3791,3819,3839,3853,3859,3868,3884,3905,3921,3929,3940,3957,3968,3975,3991,4016,4029,4038,4048,4051,4062,4073,4080,4090,4096,4101,4105,4112,4122,4128,4134,4138,4141,4144,4148,4154,4157,4164,4174,4178,4178,4179,4186,4190,4193,4198,4199,4199,4201,4206,4212,4217,4222,4224,4225,4226,4226,4228,4232,4234,4234,4235,4237,4238,4241,4242,4243,4245,4245,4244,4247,4249,4254,4256,4258,4258,4261,4262,4265,4267,4268,4268,4268,4269,4271,4279,4282,4286,4287,4287,4290,4293,4298,4301,4303,4307,4307,4310,4318,4320,4322,4323,4325,4326,4330,4333,4336,4340,4343,4345,4346,4352,4361,4369,4372,4381,4390,4391,4404,4413,4423,4435,4484,4492,4493,4511,4523,4536,4551,4563,4570],\"__x__values\":{\"__ndarray__\":\"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\",\"dtype\":\"float64\",\"order\":\"little\",\"shape\":[192]},\"__x__values_original\":{\"__ndarray__\":\"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\",\"dtype\":\"float64\",\"order\":\"little\",\"shape\":[192]}},\"selected\":{\"id\":\"1058\"},\"selection_policy\":{\"id\":\"1059\"}},\"id\":\"1035\",\"type\":\"ColumnDataSource\"},{\"attributes\":{\"callback\":null,\"formatters\":{\"@__x__values_original\":\"datetime\"},\"mode\":\"vline\",\"renderers\":[{\"id\":\"1069\"}],\"tooltips\":[[\"Date\",\"@__x__values_original{%F}\"],[\"19\",\"@{19}\"]]},\"id\":\"1094\",\"type\":\"HoverTool\"},{\"attributes\":{\"line_color\":\"#ff7f0e\",\"line_width\":2,\"x\":{\"field\":\"__x__values\"},\"y\":{\"field\":\"19\"}},\"id\":\"1067\",\"type\":\"Line\"},{\"attributes\":{\"data\":{\"19\":[0,0,0,0,0,0,0,1,1,1,1,1,1,1,1,1,1,1,1,1,1,1,1,1,1,1,2,2,2,2,2,3,3,3,3,3,3,3,3,3,3,3,3,3,3,3,3,3,3,3,3,3,3,3,3,3,3,3,3,3,3,3,3,3,3,3,3,3,3,3,3,3,3,3,3,3,3,3,3,3,3,3,3,3,3,3,3,3,3,3,3,3,3,3,3,3,3,3,3,3,4,4,4,4,4,4,4,4,4,4,4,4,4,4,4,4,4,4,4,4,4,4,4,5,4,4,4,4,4,4,4,4,4,4,4,4,4,4,4,4,4,4,4,4,4,4,4,4,4,4,4,4,4,4,4,4,4,4,4,4,4,4,4,4,4,4,4,4,4,4,4,4,4,4,4,4,4,4,4,4,4,4,4,4,4,4,4,4,4,4,4,4],\"29\":[1,2,1,1,1,1,1,2,2,2,2,3,3,4,4,4,4,4,4,4,7,6,8,8,9,12,12,13,14,14,16,16,16,16,16,16,16,16,16,16,16,16,16,16,16,16,17,17,18,19,19,19,19,19,19,19,20,20,20,20,20,20,20,20,20,20,20,21,21,21,21,21,21,21,21,21,21,21,21,21,21,21,21,21,21,21,21,21,21,21,21,21,21,21,21,21,21,21,21,21,21,21,21,21,21,21,21,21,21,21,21,21,21,21,21,21,21,21,21,21,21,21,21,21,21,21,21,21,21,21,21,21,21,21,21,21,21,21,21,21,21,21,21,21,22,22,22,22,23,23,23,23,23,23,23,24,24,24,24,25,25,25,25,26,26,26,26,26,26,27,27,27,27,27,27,27,27,27,27,27,27,27,27,27,27,27,27,27,27,27,27,27],\"39\":[1,1,1,1,2,2,3,3,6,6,9,10,13,14,15,18,23,26,28,28,29,35,38,42,45,49,53,53,53,56,59,59,59,60,60,59,59,61,62,62,63,64,64,66,66,66,67,68,69,71,72,73,73,74,73,75,75,76,77,78,79,79,80,81,81,81,81,81,82,82,82,83,83,84,84,84,84,85,85,85,85,85,86,86,86,86,86,86,86,85,86,86,86,87,87,88,88,89,90,90,90,90,90,90,90,90,90,90,90,90,90,90,90,90,90,90,90,90,90,90,90,90,90,90,91,91,91,92,92,92,93,93,95,95,95,95,95,95,95,95,95,95,95,95,96,96,97,97,97,97,97,97,97,97,97,98,98,98,98,98,98,98,98,98,98,98,98,98,98,99,99,99,99,99,99,99,100,100,100,100,100,100,100,100,100,100,100,100,100,100,100,100],\"49\":[5,6,6,6,9,11,13,15,17,20,25,29,33,39,45,53,62,67,74,87,94,99,107,115,118,129,133,128,134,143,149,151,156,161,164,166,168,172,173,177,177,181,184,190,194,195,198,200,202,203,203,205,205,208,210,213,215,214,215,215,218,219,221,221,222,222,222,223,224,225,229,229,229,229,229,229,230,230,231,231,232,235,235,236,235,235,236,236,235,235,235,237,237,238,238,238,238,238,239,239,240,240,241,241,241,241,241,241,241,242,243,243,243,243,243,243,245,245,247,247,247,247,247,248,249,249,249,249,249,249,250,250,250,250,250,250,250,250,251,252,253,254,254,254,254,255,256,256,256,256,256,256,257,257,257,258,258,258,258,259,259,259,259,260,260,260,260,260,260,261,262,262,262,264,264,264,264,264,264,264,264,264,265,265,265,266,266,266,267,267,267,267],\"59\":[4,10,12,16,16,24,36,46,59,71,83,95,111,137,168,199,231,251,275,296,332,362,382,405,424,441,453,471,495,512,532,546,556,566,581,596,613,626,638,643,650,665,677,689,697,698,709,716,726,739,747,751,755,767,774,781,788,789,792,796,804,809,813,815,821,822,824,832,838,842,850,854,854,853,853,861,864,865,867,871,871,874,879,881,884,888,891,891,894,896,899,902,903,903,904,905,906,908,908,909,909,909,909,910,909,909,910,910,910,910,912,912,912,912,912,912,915,915,917,917,918,920,920,922,922,922,923,924,924,924,925,926,927,927,927,927,927,928,930,930,930,932,932,932,934,934,935,935,936,936,936,936,937,937,937,937,938,938,938,938,940,941,942,942,942,946,947,949,949,949,949,949,951,951,951,954,955,956,956,956,958,958,959,961,962,963,963,965,967,971,973,977],\"69\":[17,33,39,50,65,87,114,139,168,197,237,266,315,375,431,489,566,639,675,753,814,868,911,964,1013,1055,1101,1139,1194,1245,1299,1351,1384,1440,1484,1535,1564,1595,1625,1642,1678,1715,1745,1782,1800,1813,1837,1871,1897,1917,1934,1950,1957,1974,1997,2010,2024,2039,2053,2061,2085,2097,2107,2109,2124,2128,2136,2144,2155,2162,2166,2176,2181,2184,2189,2203,2206,2209,2215,2217,2219,2225,2232,2234,2241,2244,2247,2247,2255,2262,2262,2264,2267,2269,2269,2271,2274,2277,2280,2285,2288,2289,2291,2293,2295,2299,2300,2303,2304,2308,2316,2323,2326,2327,2328,2328,2330,2333,2336,2337,2339,2341,2341,2344,2348,2349,2354,2355,2355,2355,2357,2359,2361,2362,2363,2364,2364,2366,2368,2369,2371,2371,2371,2371,2372,2373,2375,2376,2379,2379,2379,2382,2384,2385,2386,2391,2392,2393,2394,2395,2399,2403,2403,2403,2403,2404,2406,2408,2409,2411,2413,2414,2419,2423,2425,2427,2432,2432,2432,2433,2437,2442,2444,2452,2453,2454,2460,2466,2469,2475,2477,2481],\"79\":[42,78,102,132,160,207,258,321,405,468,555,637,742,866,988,1124,1265,1369,1475,1602,1742,1869,1968,2088,2159,2226,2313,2425,2532,2616,2698,2767,2819,2903,2979,3040,3096,3152,3198,3237,3303,3371,3425,3493,3518,3535,3584,3629,3673,3698,3723,3740,3756,3794,3833,3855,3882,3909,3921,3934,3958,3985,3998,4007,4020,4031,4040,4061,4075,4086,4102,4113,4128,4136,4145,4165,4187,4198,4206,4212,4216,4231,4244,4249,4255,4258,4263,4265,4272,4275,4282,4291,4293,4295,4298,4302,4310,4309,4315,4321,4326,4326,4333,4335,4337,4340,4344,4349,4350,4352,4355,4362,4365,4373,4374,4374,4380,4382,4386,4389,4392,4392,4392,4394,4397,4398,4398,4401,4403,4404,4406,4412,4414,4418,4421,4421,4421,4429,4431,4433,4433,4439,4440,4440,4443,4445,4447,4452,4454,4453,4453,4458,4460,4463,4467,4470,4471,4471,4474,4480,4486,4488,4494,4495,4496,4503,4510,4518,4526,4532,4536,4536,4539,4545,4555,4558,4565,4567,4568,4577,4581,4593,4610,4625,4629,4633,4639,4651,4660,4670,4680,4691],\"89\":[98,170,207,253,295,364,460,581,701,819,941,1049,1209,1395,1611,1772,1994,2155,2274,2530,2778,2983,3131,3352,3477,3582,3700,3858,4049,4208,4367,4499,4585,4754,4900,5015,5142,5272,5335,5388,5490,5605,5696,5811,5839,5871,5957,6048,6099,6156,6192,6217,6239,6295,6369,6397,6438,6471,6496,6511,6548,6587,6625,6648,6672,6693,6700,6733,6761,6786,6813,6837,6857,6866,6876,6902,6928,6943,6963,6972,6975,6991,7007,7013,7016,7028,7035,7038,7043,7060,7071,7077,7081,7088,7088,7099,7107,7110,7113,7117,7118,7119,7126,7135,7146,7150,7156,7159,7159,7163,7177,7189,7192,7203,7205,7205,7209,7210,7217,7226,7232,7236,7236,7241,7244,7246,7249,7252,7256,7256,7258,7262,7268,7274,7279,7282,7283,7291,7294,7296,7298,7300,7301,7301,7306,7315,7317,7325,7332,7335,7336,7344,7351,7359,7363,7372,7373,7373,7381,7384,7387,7390,7400,7401,7403,7416,7422,7432,7439,7443,7446,7447,7456,7473,7483,7490,7505,7510,7514,7525,7541,7560,7577,7625,7636,7639,7662,7697,7712,7728,7757,7770],\"9\":[0,0,0,0,0,0,0,0,0,0,0,0,0,0,0,0,0,0,0,0,0,0,0,1,1,1,1,1,1,1,1,1,1,1,2,2,2,2,2,2,2,2,2,2,2,2,2,2,2,2,2,3,3,3,3,3,3,3,3,3,3,3,3,3,3,3,3,3,3,3,3,3,3,3,3,3,3,3,3,3,3,3,3,3,3,3,3,3,3,3,3,3,3,3,3,3,3,3,3,3,3,3,3,3,3,3,3,3,3,3,3,3,3,3,3,3,3,3,3,3,3,3,3,3,3,3,3,3,3,3,3,3,3,3,3,3,3,3,3,3,3,3,3,3,3,3,3,3,3,3,3,3,3,3,3,3,3,3,3,3,3,3,3,3,3,3,3,3,3,3,3,3,3,3,3,3,3,3,3,3,3,3,3,3,3,3,3,3,3,3,3,3],\"90\":[48,66,76,95,118,154,202,265,319,390,438,491,559,645,720,795,896,968,1030,1136,1236,1348,1436,1558,1629,1690,1757,1972,2098,2181,2273,2363,2404,2522,2623,2713,2790,2855,2898,2931,3013,3084,3137,3203,3235,3267,3336,3390,3434,3462,3485,3497,3516,3568,3606,3627,3658,3698,3712,3725,3751,3791,3819,3839,3853,3859,3868,3884,3905,3921,3929,3940,3957,3968,3975,3991,4016,4029,4038,4048,4051,4062,4073,4080,4090,4096,4101,4105,4112,4122,4128,4134,4138,4141,4144,4148,4154,4157,4164,4174,4178,4178,4179,4186,4190,4193,4198,4199,4199,4201,4206,4212,4217,4222,4224,4225,4226,4226,4228,4232,4234,4234,4235,4237,4238,4241,4242,4243,4245,4245,4244,4247,4249,4254,4256,4258,4258,4261,4262,4265,4267,4268,4268,4268,4269,4271,4279,4282,4286,4287,4287,4290,4293,4298,4301,4303,4307,4307,4310,4318,4320,4322,4323,4325,4326,4330,4333,4336,4340,4343,4345,4346,4352,4361,4369,4372,4381,4390,4391,4404,4413,4423,4435,4484,4492,4493,4511,4523,4536,4551,4563,4570],\"__x__values\":{\"__ndarray__\":\"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\",\"dtype\":\"float64\",\"order\":\"little\",\"shape\":[192]},\"__x__values_original\":{\"__ndarray__\":\"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\",\"dtype\":\"float64\",\"order\":\"little\",\"shape\":[192]}},\"selected\":{\"id\":\"1090\"},\"selection_policy\":{\"id\":\"1091\"}},\"id\":\"1065\",\"type\":\"ColumnDataSource\"},{\"attributes\":{\"line_alpha\":0.1,\"line_color\":\"#ff7f0e\",\"line_width\":2,\"x\":{\"field\":\"__x__values\"},\"y\":{\"field\":\"19\"}},\"id\":\"1068\",\"type\":\"Line\"},{\"attributes\":{\"source\":{\"id\":\"1065\"}},\"id\":\"1070\",\"type\":\"CDSView\"},{\"attributes\":{\"callback\":null,\"formatters\":{\"@__x__values_original\":\"datetime\"},\"mode\":\"vline\",\"renderers\":[{\"id\":\"1100\"}],\"tooltips\":[[\"Date\",\"@__x__values_original{%F}\"],[\"29\",\"@{29}\"]]},\"id\":\"1127\",\"type\":\"HoverTool\"},{\"attributes\":{},\"id\":\"1045\",\"type\":\"BasicTickFormatter\"},{\"attributes\":{\"label\":{\"value\":\" 19\"},\"renderers\":[{\"id\":\"1069\"}]},\"id\":\"1093\",\"type\":\"LegendItem\"}],\"root_ids\":[\"1002\"]},\"title\":\"Bokeh Application\",\"version\":\"2.2.1\"}};\n",
       "  var render_items = [{\"docid\":\"ae46acab-3c6f-4307-b45c-494dc9e8009c\",\"root_ids\":[\"1002\"],\"roots\":{\"1002\":\"39e35517-cdb6-4df5-b21d-a0f6c567f139\"}}];\n",
       "  root.Bokeh.embed.embed_items_notebook(docs_json, render_items);\n",
       "\n",
       "  }\n",
       "  if (root.Bokeh !== undefined) {\n",
       "    embed_document(root);\n",
       "  } else {\n",
       "    var attempts = 0;\n",
       "    var timer = setInterval(function(root) {\n",
       "      if (root.Bokeh !== undefined) {\n",
       "        clearInterval(timer);\n",
       "        embed_document(root);\n",
       "      } else {\n",
       "        attempts++;\n",
       "        if (attempts > 100) {\n",
       "          clearInterval(timer);\n",
       "          console.log(\"Bokeh: ERROR: Unable to run BokehJS code because BokehJS library is missing\");\n",
       "        }\n",
       "      }\n",
       "    }, 10, root)\n",
       "  }\n",
       "})(window);"
      ],
      "application/vnd.bokehjs_exec.v0+json": ""
     },
     "metadata": {
      "application/vnd.bokehjs_exec.v0+json": {
       "id": "1002"
      }
     },
     "output_type": "display_data"
    },
    {
     "data": {
      "text/html": [
       "<div style=\"display: table;\"><div style=\"display: table-row;\"><div style=\"display: table-cell;\"><b title=\"bokeh.plotting.figure.Figure\">Figure</b>(</div><div style=\"display: table-cell;\">id&nbsp;=&nbsp;'1002', <span id=\"1641\" style=\"cursor: pointer;\">&hellip;)</span></div></div><div class=\"1640\" style=\"display: none;\"><div style=\"display: table-cell;\"></div><div style=\"display: table-cell;\">above&nbsp;=&nbsp;[],</div></div><div class=\"1640\" style=\"display: none;\"><div style=\"display: table-cell;\"></div><div style=\"display: table-cell;\">align&nbsp;=&nbsp;'start',</div></div><div class=\"1640\" style=\"display: none;\"><div style=\"display: table-cell;\"></div><div style=\"display: table-cell;\">aspect_ratio&nbsp;=&nbsp;None,</div></div><div class=\"1640\" style=\"display: none;\"><div style=\"display: table-cell;\"></div><div style=\"display: table-cell;\">aspect_scale&nbsp;=&nbsp;1,</div></div><div class=\"1640\" style=\"display: none;\"><div style=\"display: table-cell;\"></div><div style=\"display: table-cell;\">background&nbsp;=&nbsp;None,</div></div><div class=\"1640\" style=\"display: none;\"><div style=\"display: table-cell;\"></div><div style=\"display: table-cell;\">background_fill_alpha&nbsp;=&nbsp;1.0,</div></div><div class=\"1640\" style=\"display: none;\"><div style=\"display: table-cell;\"></div><div style=\"display: table-cell;\">background_fill_color&nbsp;=&nbsp;'#ffffff',</div></div><div class=\"1640\" style=\"display: none;\"><div style=\"display: table-cell;\"></div><div style=\"display: table-cell;\">below&nbsp;=&nbsp;[DatetimeAxis(id='1013', ...)],</div></div><div class=\"1640\" style=\"display: none;\"><div style=\"display: table-cell;\"></div><div style=\"display: table-cell;\">border_fill_alpha&nbsp;=&nbsp;1.0,</div></div><div class=\"1640\" style=\"display: none;\"><div style=\"display: table-cell;\"></div><div style=\"display: table-cell;\">border_fill_color&nbsp;=&nbsp;'#ffffff',</div></div><div class=\"1640\" style=\"display: none;\"><div style=\"display: table-cell;\"></div><div style=\"display: table-cell;\">center&nbsp;=&nbsp;[Grid(id='1016', ...), Grid(id='1020', ...), Legend(id='1061', ...)],</div></div><div class=\"1640\" style=\"display: none;\"><div style=\"display: table-cell;\"></div><div style=\"display: table-cell;\">css_classes&nbsp;=&nbsp;[],</div></div><div class=\"1640\" style=\"display: none;\"><div style=\"display: table-cell;\"></div><div style=\"display: table-cell;\">disabled&nbsp;=&nbsp;False,</div></div><div class=\"1640\" style=\"display: none;\"><div style=\"display: table-cell;\"></div><div style=\"display: table-cell;\">extra_x_ranges&nbsp;=&nbsp;{},</div></div><div class=\"1640\" style=\"display: none;\"><div style=\"display: table-cell;\"></div><div style=\"display: table-cell;\">extra_y_ranges&nbsp;=&nbsp;{},</div></div><div class=\"1640\" style=\"display: none;\"><div style=\"display: table-cell;\"></div><div style=\"display: table-cell;\">frame_height&nbsp;=&nbsp;None,</div></div><div class=\"1640\" style=\"display: none;\"><div style=\"display: table-cell;\"></div><div style=\"display: table-cell;\">frame_width&nbsp;=&nbsp;None,</div></div><div class=\"1640\" style=\"display: none;\"><div style=\"display: table-cell;\"></div><div style=\"display: table-cell;\">height&nbsp;=&nbsp;None,</div></div><div class=\"1640\" style=\"display: none;\"><div style=\"display: table-cell;\"></div><div style=\"display: table-cell;\">height_policy&nbsp;=&nbsp;'auto',</div></div><div class=\"1640\" style=\"display: none;\"><div style=\"display: table-cell;\"></div><div style=\"display: table-cell;\">hidpi&nbsp;=&nbsp;True,</div></div><div class=\"1640\" style=\"display: none;\"><div style=\"display: table-cell;\"></div><div style=\"display: table-cell;\">js_event_callbacks&nbsp;=&nbsp;{},</div></div><div class=\"1640\" style=\"display: none;\"><div style=\"display: table-cell;\"></div><div style=\"display: table-cell;\">js_property_callbacks&nbsp;=&nbsp;{},</div></div><div class=\"1640\" style=\"display: none;\"><div style=\"display: table-cell;\"></div><div style=\"display: table-cell;\">left&nbsp;=&nbsp;[LinearAxis(id='1017', ...)],</div></div><div class=\"1640\" style=\"display: none;\"><div style=\"display: table-cell;\"></div><div style=\"display: table-cell;\">lod_factor&nbsp;=&nbsp;10,</div></div><div class=\"1640\" style=\"display: none;\"><div style=\"display: table-cell;\"></div><div style=\"display: table-cell;\">lod_interval&nbsp;=&nbsp;300,</div></div><div class=\"1640\" style=\"display: none;\"><div style=\"display: table-cell;\"></div><div style=\"display: table-cell;\">lod_threshold&nbsp;=&nbsp;2000,</div></div><div class=\"1640\" style=\"display: none;\"><div style=\"display: table-cell;\"></div><div style=\"display: table-cell;\">lod_timeout&nbsp;=&nbsp;500,</div></div><div class=\"1640\" style=\"display: none;\"><div style=\"display: table-cell;\"></div><div style=\"display: table-cell;\">margin&nbsp;=&nbsp;(0, 0, 0, 0),</div></div><div class=\"1640\" style=\"display: none;\"><div style=\"display: table-cell;\"></div><div style=\"display: table-cell;\">match_aspect&nbsp;=&nbsp;False,</div></div><div class=\"1640\" style=\"display: none;\"><div style=\"display: table-cell;\"></div><div style=\"display: table-cell;\">max_height&nbsp;=&nbsp;None,</div></div><div class=\"1640\" style=\"display: none;\"><div style=\"display: table-cell;\"></div><div style=\"display: table-cell;\">max_width&nbsp;=&nbsp;None,</div></div><div class=\"1640\" style=\"display: none;\"><div style=\"display: table-cell;\"></div><div style=\"display: table-cell;\">min_border&nbsp;=&nbsp;5,</div></div><div class=\"1640\" style=\"display: none;\"><div style=\"display: table-cell;\"></div><div style=\"display: table-cell;\">min_border_bottom&nbsp;=&nbsp;None,</div></div><div class=\"1640\" style=\"display: none;\"><div style=\"display: table-cell;\"></div><div style=\"display: table-cell;\">min_border_left&nbsp;=&nbsp;None,</div></div><div class=\"1640\" style=\"display: none;\"><div style=\"display: table-cell;\"></div><div style=\"display: table-cell;\">min_border_right&nbsp;=&nbsp;None,</div></div><div class=\"1640\" style=\"display: none;\"><div style=\"display: table-cell;\"></div><div style=\"display: table-cell;\">min_border_top&nbsp;=&nbsp;None,</div></div><div class=\"1640\" style=\"display: none;\"><div style=\"display: table-cell;\"></div><div style=\"display: table-cell;\">min_height&nbsp;=&nbsp;None,</div></div><div class=\"1640\" style=\"display: none;\"><div style=\"display: table-cell;\"></div><div style=\"display: table-cell;\">min_width&nbsp;=&nbsp;None,</div></div><div class=\"1640\" style=\"display: none;\"><div style=\"display: table-cell;\"></div><div style=\"display: table-cell;\">name&nbsp;=&nbsp;None,</div></div><div class=\"1640\" style=\"display: none;\"><div style=\"display: table-cell;\"></div><div style=\"display: table-cell;\">outline_line_alpha&nbsp;=&nbsp;1.0,</div></div><div class=\"1640\" style=\"display: none;\"><div style=\"display: table-cell;\"></div><div style=\"display: table-cell;\">outline_line_cap&nbsp;=&nbsp;'butt',</div></div><div class=\"1640\" style=\"display: none;\"><div style=\"display: table-cell;\"></div><div style=\"display: table-cell;\">outline_line_color&nbsp;=&nbsp;'#e5e5e5',</div></div><div class=\"1640\" style=\"display: none;\"><div style=\"display: table-cell;\"></div><div style=\"display: table-cell;\">outline_line_dash&nbsp;=&nbsp;[],</div></div><div class=\"1640\" style=\"display: none;\"><div style=\"display: table-cell;\"></div><div style=\"display: table-cell;\">outline_line_dash_offset&nbsp;=&nbsp;0,</div></div><div class=\"1640\" style=\"display: none;\"><div style=\"display: table-cell;\"></div><div style=\"display: table-cell;\">outline_line_join&nbsp;=&nbsp;'bevel',</div></div><div class=\"1640\" style=\"display: none;\"><div style=\"display: table-cell;\"></div><div style=\"display: table-cell;\">outline_line_width&nbsp;=&nbsp;1,</div></div><div class=\"1640\" style=\"display: none;\"><div style=\"display: table-cell;\"></div><div style=\"display: table-cell;\">output_backend&nbsp;=&nbsp;'webgl',</div></div><div class=\"1640\" style=\"display: none;\"><div style=\"display: table-cell;\"></div><div style=\"display: table-cell;\">plot_height&nbsp;=&nbsp;800,</div></div><div class=\"1640\" style=\"display: none;\"><div style=\"display: table-cell;\"></div><div style=\"display: table-cell;\">plot_width&nbsp;=&nbsp;800,</div></div><div class=\"1640\" style=\"display: none;\"><div style=\"display: table-cell;\"></div><div style=\"display: table-cell;\">renderers&nbsp;=&nbsp;[GlyphRenderer(id='1039', ...), GlyphRenderer(id='1069', ...), GlyphRenderer(id='1100', ...), GlyphRenderer(id='1133', ...), GlyphRenderer(id='1168', ...), GlyphRenderer(id='1205', ...), GlyphRenderer(id='1244', ...), GlyphRenderer(id='1285', ...), GlyphRenderer(id='1328', ...), GlyphRenderer(id='1373', ...)],</div></div><div class=\"1640\" style=\"display: none;\"><div style=\"display: table-cell;\"></div><div style=\"display: table-cell;\">reset_policy&nbsp;=&nbsp;'standard',</div></div><div class=\"1640\" style=\"display: none;\"><div style=\"display: table-cell;\"></div><div style=\"display: table-cell;\">right&nbsp;=&nbsp;[],</div></div><div class=\"1640\" style=\"display: none;\"><div style=\"display: table-cell;\"></div><div style=\"display: table-cell;\">sizing_mode&nbsp;=&nbsp;'fixed',</div></div><div class=\"1640\" style=\"display: none;\"><div style=\"display: table-cell;\"></div><div style=\"display: table-cell;\">subscribed_events&nbsp;=&nbsp;[],</div></div><div class=\"1640\" style=\"display: none;\"><div style=\"display: table-cell;\"></div><div style=\"display: table-cell;\">tags&nbsp;=&nbsp;[],</div></div><div class=\"1640\" style=\"display: none;\"><div style=\"display: table-cell;\"></div><div style=\"display: table-cell;\">title&nbsp;=&nbsp;Title(id='1003', ...),</div></div><div class=\"1640\" style=\"display: none;\"><div style=\"display: table-cell;\"></div><div style=\"display: table-cell;\">title_location&nbsp;=&nbsp;'above',</div></div><div class=\"1640\" style=\"display: none;\"><div style=\"display: table-cell;\"></div><div style=\"display: table-cell;\">toolbar&nbsp;=&nbsp;Toolbar(id='1028', ...),</div></div><div class=\"1640\" style=\"display: none;\"><div style=\"display: table-cell;\"></div><div style=\"display: table-cell;\">toolbar_location&nbsp;=&nbsp;'right',</div></div><div class=\"1640\" style=\"display: none;\"><div style=\"display: table-cell;\"></div><div style=\"display: table-cell;\">toolbar_sticky&nbsp;=&nbsp;True,</div></div><div class=\"1640\" style=\"display: none;\"><div style=\"display: table-cell;\"></div><div style=\"display: table-cell;\">visible&nbsp;=&nbsp;True,</div></div><div class=\"1640\" style=\"display: none;\"><div style=\"display: table-cell;\"></div><div style=\"display: table-cell;\">width&nbsp;=&nbsp;None,</div></div><div class=\"1640\" style=\"display: none;\"><div style=\"display: table-cell;\"></div><div style=\"display: table-cell;\">width_policy&nbsp;=&nbsp;'auto',</div></div><div class=\"1640\" style=\"display: none;\"><div style=\"display: table-cell;\"></div><div style=\"display: table-cell;\">x_range&nbsp;=&nbsp;DataRange1d(id='1005', ...),</div></div><div class=\"1640\" style=\"display: none;\"><div style=\"display: table-cell;\"></div><div style=\"display: table-cell;\">x_scale&nbsp;=&nbsp;LinearScale(id='1009', ...),</div></div><div class=\"1640\" style=\"display: none;\"><div style=\"display: table-cell;\"></div><div style=\"display: table-cell;\">y_range&nbsp;=&nbsp;DataRange1d(id='1007', ...),</div></div><div class=\"1640\" style=\"display: none;\"><div style=\"display: table-cell;\"></div><div style=\"display: table-cell;\">y_scale&nbsp;=&nbsp;LinearScale(id='1011', ...))</div></div></div>\n",
       "<script>\n",
       "(function() {\n",
       "  var expanded = false;\n",
       "  var ellipsis = document.getElementById(\"1641\");\n",
       "  ellipsis.addEventListener(\"click\", function() {\n",
       "    var rows = document.getElementsByClassName(\"1640\");\n",
       "    for (var i = 0; i < rows.length; i++) {\n",
       "      var el = rows[i];\n",
       "      el.style.display = expanded ? \"none\" : \"table-row\";\n",
       "    }\n",
       "    ellipsis.innerHTML = expanded ? \"&hellip;)\" : \"&lsaquo;&lsaquo;&lsaquo;\";\n",
       "    expanded = !expanded;\n",
       "  });\n",
       "})();\n",
       "</script>\n"
      ],
      "text/plain": [
       "Figure(id='1002', ...)"
      ]
     },
     "execution_count": 6,
     "metadata": {},
     "output_type": "execute_result"
    }
   ],
   "source": [
    "deces_par_age = df[df['cl_age90']>0].pivot_table(index='jour', columns='cl_age90', values='dc',aggfunc='sum')\n",
    "deces_par_age.plot_bokeh(kind=\"line\",title =\"Covid - répartition des décès cumulés\",\n",
    "                   figsize =(800,800),\n",
    "                        xlabel='Date',\n",
    "                        ylabel='Décès')"
   ]
  },
  {
   "cell_type": "markdown",
   "metadata": {},
   "source": [
    "## Analyse de la situation actuelle\n",
    "\n",
    "Analyse simplifiée retenant deux groupes d'àge:\n",
    "* moins de 60 ans\n",
    "* plus de 60 ans"
   ]
  },
  {
   "cell_type": "code",
   "execution_count": 7,
   "metadata": {},
   "outputs": [],
   "source": [
    "deces_derniere_situation = df[df['cl_age90']>0].drop(['hosp','rea','rad'], axis=1).set_index(['jour']).last('1D').drop('reg',axis=1).groupby(['jour','cl_age90']).agg('sum').reset_index()"
   ]
  },
  {
   "cell_type": "code",
   "execution_count": 8,
   "metadata": {},
   "outputs": [],
   "source": [
    "\n",
    "deces_moins_60 = deces_derniere_situation[deces_derniere_situation['cl_age90'] < 69]['dc'].sum()\n",
    "deces_plus_60 = deces_derniere_situation[deces_derniere_situation['cl_age90'] >= 69]['dc'].sum()"
   ]
  },
  {
   "cell_type": "code",
   "execution_count": 12,
   "metadata": {},
   "outputs": [
    {
     "name": "stdout",
     "output_type": "stream",
     "text": [
      "__x__values_original\n"
     ]
    },
    {
     "data": {
      "text/html": [
       "\n",
       "\n",
       "\n",
       "\n",
       "\n",
       "\n",
       "  <div class=\"bk-root\" id=\"214275f8-bff5-4341-83fc-5ddfd191fb6e\" data-root-id=\"1850\"></div>\n"
      ]
     },
     "metadata": {},
     "output_type": "display_data"
    },
    {
     "data": {
      "application/javascript": [
       "(function(root) {\n",
       "  function embed_document(root) {\n",
       "    \n",
       "  var docs_json = {\"a02f640c-2656-4304-a67c-12867787db1a\":{\"roots\":{\"references\":[{\"attributes\":{\"below\":[{\"id\":\"1861\"}],\"center\":[{\"id\":\"1864\"},{\"id\":\"1868\"},{\"id\":\"1899\"}],\"left\":[{\"id\":\"1865\"}],\"renderers\":[{\"id\":\"1889\"}],\"title\":{\"id\":\"1851\"},\"toolbar\":{\"id\":\"1876\"},\"toolbar_location\":null,\"x_range\":{\"id\":\"1853\"},\"x_scale\":{\"id\":\"1857\"},\"y_range\":{\"id\":\"1855\"},\"y_scale\":{\"id\":\"1859\"}},\"id\":\"1850\",\"subtype\":\"Figure\",\"type\":\"Plot\"},{\"attributes\":{\"field\":\"deces_angle\"},\"id\":\"1884\",\"type\":\"CumSum\"},{\"attributes\":{\"axis\":{\"id\":\"1865\"},\"dimension\":1,\"grid_line_color\":null,\"ticker\":null},\"id\":\"1868\",\"type\":\"Grid\"},{\"attributes\":{},\"id\":\"1874\",\"type\":\"HelpTool\"},{\"attributes\":{},\"id\":\"1866\",\"type\":\"BasicTicker\"},{\"attributes\":{\"data\":{\"__x__values\":[\"moins de 60\",\"plus de 60\"],\"__x__values_original\":[\"moins de 60\",\"plus de 60\"],\"color\":[\"#1f77b4\",\"#ff7f0e\"],\"deces\":[1378,19512],\"deces_angle\":{\"__ndarray__\":\"yT3xWaOG2j88GaUekXkXQA==\",\"dtype\":\"float64\",\"order\":\"little\",\"shape\":[2]},\"inner_radius\":[0.0,0.0],\"outer_radius\":[0.9,0.9]},\"selected\":{\"id\":\"1896\"},\"selection_policy\":{\"id\":\"1897\"}},\"id\":\"1885\",\"type\":\"ColumnDataSource\"},{\"attributes\":{\"text\":\"Covid - r\\u00e9partition des d\\u00e9c\\u00e8s cumul\\u00e9s\"},\"id\":\"1851\",\"type\":\"Title\"},{\"attributes\":{},\"id\":\"1870\",\"type\":\"WheelZoomTool\"},{\"attributes\":{},\"id\":\"1869\",\"type\":\"PanTool\"},{\"attributes\":{\"end_angle\":{\"expr\":{\"id\":\"1884\"},\"units\":\"rad\"},\"fill_color\":{\"field\":\"color\"},\"inner_radius\":{\"field\":\"inner_radius\",\"units\":\"data\"},\"line_color\":{\"value\":\"white\"},\"line_width\":{\"value\":2},\"outer_radius\":{\"field\":\"outer_radius\",\"units\":\"data\"},\"start_angle\":{\"expr\":{\"id\":\"1883\"},\"units\":\"rad\"},\"x\":{\"value\":0},\"y\":{\"value\":0}},\"id\":\"1887\",\"type\":\"AnnularWedge\"},{\"attributes\":{\"overlay\":{\"id\":\"1875\"}},\"id\":\"1871\",\"type\":\"BoxZoomTool\"},{\"attributes\":{},\"id\":\"1872\",\"type\":\"SaveTool\"},{\"attributes\":{\"items\":[{\"id\":\"1900\"}]},\"id\":\"1899\",\"type\":\"Legend\"},{\"attributes\":{},\"id\":\"1873\",\"type\":\"ResetTool\"},{\"attributes\":{\"end_angle\":{\"expr\":{\"id\":\"1884\"},\"units\":\"rad\"},\"fill_alpha\":{\"value\":0.1},\"fill_color\":{\"field\":\"color\"},\"inner_radius\":{\"field\":\"inner_radius\",\"units\":\"data\"},\"line_alpha\":{\"value\":0.1},\"line_color\":{\"value\":\"white\"},\"line_width\":{\"value\":2},\"outer_radius\":{\"field\":\"outer_radius\",\"units\":\"data\"},\"start_angle\":{\"expr\":{\"id\":\"1883\"},\"units\":\"rad\"},\"x\":{\"value\":0},\"y\":{\"value\":0}},\"id\":\"1888\",\"type\":\"AnnularWedge\"},{\"attributes\":{\"source\":{\"id\":\"1885\"}},\"id\":\"1890\",\"type\":\"CDSView\"},{\"attributes\":{\"label\":{\"field\":\"__x__values_original\"},\"renderers\":[{\"id\":\"1889\"}]},\"id\":\"1900\",\"type\":\"LegendItem\"},{\"attributes\":{\"data_source\":{\"id\":\"1885\"},\"glyph\":{\"id\":\"1887\"},\"hover_glyph\":null,\"muted_glyph\":null,\"nonselection_glyph\":{\"id\":\"1888\"},\"selection_glyph\":null,\"view\":{\"id\":\"1890\"}},\"id\":\"1889\",\"type\":\"GlyphRenderer\"},{\"attributes\":{},\"id\":\"1896\",\"type\":\"Selection\"},{\"attributes\":{\"active_drag\":\"auto\",\"active_inspect\":\"auto\",\"active_multi\":null,\"active_scroll\":\"auto\",\"active_tap\":\"auto\",\"tools\":[{\"id\":\"1869\"},{\"id\":\"1870\"},{\"id\":\"1871\"},{\"id\":\"1872\"},{\"id\":\"1873\"},{\"id\":\"1874\"},{\"id\":\"1901\"}]},\"id\":\"1876\",\"type\":\"Toolbar\"},{\"attributes\":{},\"id\":\"1897\",\"type\":\"UnionRenderers\"},{\"attributes\":{\"end\":1.2,\"start\":-1.2},\"id\":\"1855\",\"type\":\"Range1d\"},{\"attributes\":{},\"id\":\"1893\",\"type\":\"BasicTickFormatter\"},{\"attributes\":{},\"id\":\"1859\",\"type\":\"LinearScale\"},{\"attributes\":{\"callback\":null,\"renderers\":[{\"id\":\"1889\"}],\"tooltips\":[[\"groupe d'\\u00e0ge\",\"@__x__values_original\"],[\"deces\",\"@{deces}\"]]},\"id\":\"1901\",\"type\":\"HoverTool\"},{\"attributes\":{\"axis\":{\"id\":\"1861\"},\"grid_line_color\":null,\"ticker\":null},\"id\":\"1864\",\"type\":\"Grid\"},{\"attributes\":{},\"id\":\"1857\",\"type\":\"LinearScale\"},{\"attributes\":{\"ticks\":[0,1]},\"id\":\"1903\",\"type\":\"FixedTicker\"},{\"attributes\":{},\"id\":\"1895\",\"type\":\"BasicTickFormatter\"},{\"attributes\":{\"bottom_units\":\"screen\",\"fill_alpha\":0.5,\"fill_color\":\"lightgrey\",\"left_units\":\"screen\",\"level\":\"overlay\",\"line_alpha\":1.0,\"line_color\":\"black\",\"line_dash\":[4,4],\"line_width\":2,\"right_units\":\"screen\",\"top_units\":\"screen\"},\"id\":\"1875\",\"type\":\"BoxAnnotation\"},{\"attributes\":{\"end\":2,\"start\":-1.65},\"id\":\"1853\",\"type\":\"Range1d\"},{\"attributes\":{\"field\":\"deces_angle\",\"include_zero\":true},\"id\":\"1883\",\"type\":\"CumSum\"},{\"attributes\":{\"axis_label\":null,\"formatter\":{\"id\":\"1893\"},\"ticker\":{\"id\":\"1903\"},\"visible\":false},\"id\":\"1861\",\"type\":\"LinearAxis\"},{\"attributes\":{\"axis_label\":null,\"formatter\":{\"id\":\"1895\"},\"ticker\":{\"id\":\"1866\"},\"visible\":false},\"id\":\"1865\",\"type\":\"LinearAxis\"}],\"root_ids\":[\"1850\"]},\"title\":\"Bokeh Application\",\"version\":\"2.2.1\"}};\n",
       "  var render_items = [{\"docid\":\"a02f640c-2656-4304-a67c-12867787db1a\",\"root_ids\":[\"1850\"],\"roots\":{\"1850\":\"214275f8-bff5-4341-83fc-5ddfd191fb6e\"}}];\n",
       "  root.Bokeh.embed.embed_items_notebook(docs_json, render_items);\n",
       "\n",
       "  }\n",
       "  if (root.Bokeh !== undefined) {\n",
       "    embed_document(root);\n",
       "  } else {\n",
       "    var attempts = 0;\n",
       "    var timer = setInterval(function(root) {\n",
       "      if (root.Bokeh !== undefined) {\n",
       "        clearInterval(timer);\n",
       "        embed_document(root);\n",
       "      } else {\n",
       "        attempts++;\n",
       "        if (attempts > 100) {\n",
       "          clearInterval(timer);\n",
       "          console.log(\"Bokeh: ERROR: Unable to run BokehJS code because BokehJS library is missing\");\n",
       "        }\n",
       "      }\n",
       "    }, 10, root)\n",
       "  }\n",
       "})(window);"
      ],
      "application/vnd.bokehjs_exec.v0+json": ""
     },
     "metadata": {
      "application/vnd.bokehjs_exec.v0+json": {
       "id": "1850"
      }
     },
     "output_type": "display_data"
    },
    {
     "data": {
      "text/html": [
       "<div style=\"display: table;\"><div style=\"display: table-row;\"><div style=\"display: table-cell;\"><b title=\"bokeh.plotting.figure.Figure\">Figure</b>(</div><div style=\"display: table-cell;\">id&nbsp;=&nbsp;'1850', <span id=\"1992\" style=\"cursor: pointer;\">&hellip;)</span></div></div><div class=\"1991\" style=\"display: none;\"><div style=\"display: table-cell;\"></div><div style=\"display: table-cell;\">above&nbsp;=&nbsp;[],</div></div><div class=\"1991\" style=\"display: none;\"><div style=\"display: table-cell;\"></div><div style=\"display: table-cell;\">align&nbsp;=&nbsp;'start',</div></div><div class=\"1991\" style=\"display: none;\"><div style=\"display: table-cell;\"></div><div style=\"display: table-cell;\">aspect_ratio&nbsp;=&nbsp;None,</div></div><div class=\"1991\" style=\"display: none;\"><div style=\"display: table-cell;\"></div><div style=\"display: table-cell;\">aspect_scale&nbsp;=&nbsp;1,</div></div><div class=\"1991\" style=\"display: none;\"><div style=\"display: table-cell;\"></div><div style=\"display: table-cell;\">background&nbsp;=&nbsp;None,</div></div><div class=\"1991\" style=\"display: none;\"><div style=\"display: table-cell;\"></div><div style=\"display: table-cell;\">background_fill_alpha&nbsp;=&nbsp;1.0,</div></div><div class=\"1991\" style=\"display: none;\"><div style=\"display: table-cell;\"></div><div style=\"display: table-cell;\">background_fill_color&nbsp;=&nbsp;'#ffffff',</div></div><div class=\"1991\" style=\"display: none;\"><div style=\"display: table-cell;\"></div><div style=\"display: table-cell;\">below&nbsp;=&nbsp;[LinearAxis(id='1861', ...)],</div></div><div class=\"1991\" style=\"display: none;\"><div style=\"display: table-cell;\"></div><div style=\"display: table-cell;\">border_fill_alpha&nbsp;=&nbsp;1.0,</div></div><div class=\"1991\" style=\"display: none;\"><div style=\"display: table-cell;\"></div><div style=\"display: table-cell;\">border_fill_color&nbsp;=&nbsp;'#ffffff',</div></div><div class=\"1991\" style=\"display: none;\"><div style=\"display: table-cell;\"></div><div style=\"display: table-cell;\">center&nbsp;=&nbsp;[Grid(id='1864', ...), Grid(id='1868', ...), Legend(id='1899', ...)],</div></div><div class=\"1991\" style=\"display: none;\"><div style=\"display: table-cell;\"></div><div style=\"display: table-cell;\">css_classes&nbsp;=&nbsp;[],</div></div><div class=\"1991\" style=\"display: none;\"><div style=\"display: table-cell;\"></div><div style=\"display: table-cell;\">disabled&nbsp;=&nbsp;False,</div></div><div class=\"1991\" style=\"display: none;\"><div style=\"display: table-cell;\"></div><div style=\"display: table-cell;\">extra_x_ranges&nbsp;=&nbsp;{},</div></div><div class=\"1991\" style=\"display: none;\"><div style=\"display: table-cell;\"></div><div style=\"display: table-cell;\">extra_y_ranges&nbsp;=&nbsp;{},</div></div><div class=\"1991\" style=\"display: none;\"><div style=\"display: table-cell;\"></div><div style=\"display: table-cell;\">frame_height&nbsp;=&nbsp;None,</div></div><div class=\"1991\" style=\"display: none;\"><div style=\"display: table-cell;\"></div><div style=\"display: table-cell;\">frame_width&nbsp;=&nbsp;None,</div></div><div class=\"1991\" style=\"display: none;\"><div style=\"display: table-cell;\"></div><div style=\"display: table-cell;\">height&nbsp;=&nbsp;None,</div></div><div class=\"1991\" style=\"display: none;\"><div style=\"display: table-cell;\"></div><div style=\"display: table-cell;\">height_policy&nbsp;=&nbsp;'auto',</div></div><div class=\"1991\" style=\"display: none;\"><div style=\"display: table-cell;\"></div><div style=\"display: table-cell;\">hidpi&nbsp;=&nbsp;True,</div></div><div class=\"1991\" style=\"display: none;\"><div style=\"display: table-cell;\"></div><div style=\"display: table-cell;\">js_event_callbacks&nbsp;=&nbsp;{},</div></div><div class=\"1991\" style=\"display: none;\"><div style=\"display: table-cell;\"></div><div style=\"display: table-cell;\">js_property_callbacks&nbsp;=&nbsp;{},</div></div><div class=\"1991\" style=\"display: none;\"><div style=\"display: table-cell;\"></div><div style=\"display: table-cell;\">left&nbsp;=&nbsp;[LinearAxis(id='1865', ...)],</div></div><div class=\"1991\" style=\"display: none;\"><div style=\"display: table-cell;\"></div><div style=\"display: table-cell;\">lod_factor&nbsp;=&nbsp;10,</div></div><div class=\"1991\" style=\"display: none;\"><div style=\"display: table-cell;\"></div><div style=\"display: table-cell;\">lod_interval&nbsp;=&nbsp;300,</div></div><div class=\"1991\" style=\"display: none;\"><div style=\"display: table-cell;\"></div><div style=\"display: table-cell;\">lod_threshold&nbsp;=&nbsp;2000,</div></div><div class=\"1991\" style=\"display: none;\"><div style=\"display: table-cell;\"></div><div style=\"display: table-cell;\">lod_timeout&nbsp;=&nbsp;500,</div></div><div class=\"1991\" style=\"display: none;\"><div style=\"display: table-cell;\"></div><div style=\"display: table-cell;\">margin&nbsp;=&nbsp;(0, 0, 0, 0),</div></div><div class=\"1991\" style=\"display: none;\"><div style=\"display: table-cell;\"></div><div style=\"display: table-cell;\">match_aspect&nbsp;=&nbsp;False,</div></div><div class=\"1991\" style=\"display: none;\"><div style=\"display: table-cell;\"></div><div style=\"display: table-cell;\">max_height&nbsp;=&nbsp;None,</div></div><div class=\"1991\" style=\"display: none;\"><div style=\"display: table-cell;\"></div><div style=\"display: table-cell;\">max_width&nbsp;=&nbsp;None,</div></div><div class=\"1991\" style=\"display: none;\"><div style=\"display: table-cell;\"></div><div style=\"display: table-cell;\">min_border&nbsp;=&nbsp;5,</div></div><div class=\"1991\" style=\"display: none;\"><div style=\"display: table-cell;\"></div><div style=\"display: table-cell;\">min_border_bottom&nbsp;=&nbsp;None,</div></div><div class=\"1991\" style=\"display: none;\"><div style=\"display: table-cell;\"></div><div style=\"display: table-cell;\">min_border_left&nbsp;=&nbsp;None,</div></div><div class=\"1991\" style=\"display: none;\"><div style=\"display: table-cell;\"></div><div style=\"display: table-cell;\">min_border_right&nbsp;=&nbsp;None,</div></div><div class=\"1991\" style=\"display: none;\"><div style=\"display: table-cell;\"></div><div style=\"display: table-cell;\">min_border_top&nbsp;=&nbsp;None,</div></div><div class=\"1991\" style=\"display: none;\"><div style=\"display: table-cell;\"></div><div style=\"display: table-cell;\">min_height&nbsp;=&nbsp;None,</div></div><div class=\"1991\" style=\"display: none;\"><div style=\"display: table-cell;\"></div><div style=\"display: table-cell;\">min_width&nbsp;=&nbsp;None,</div></div><div class=\"1991\" style=\"display: none;\"><div style=\"display: table-cell;\"></div><div style=\"display: table-cell;\">name&nbsp;=&nbsp;None,</div></div><div class=\"1991\" style=\"display: none;\"><div style=\"display: table-cell;\"></div><div style=\"display: table-cell;\">outline_line_alpha&nbsp;=&nbsp;1.0,</div></div><div class=\"1991\" style=\"display: none;\"><div style=\"display: table-cell;\"></div><div style=\"display: table-cell;\">outline_line_cap&nbsp;=&nbsp;'butt',</div></div><div class=\"1991\" style=\"display: none;\"><div style=\"display: table-cell;\"></div><div style=\"display: table-cell;\">outline_line_color&nbsp;=&nbsp;'#e5e5e5',</div></div><div class=\"1991\" style=\"display: none;\"><div style=\"display: table-cell;\"></div><div style=\"display: table-cell;\">outline_line_dash&nbsp;=&nbsp;[],</div></div><div class=\"1991\" style=\"display: none;\"><div style=\"display: table-cell;\"></div><div style=\"display: table-cell;\">outline_line_dash_offset&nbsp;=&nbsp;0,</div></div><div class=\"1991\" style=\"display: none;\"><div style=\"display: table-cell;\"></div><div style=\"display: table-cell;\">outline_line_join&nbsp;=&nbsp;'bevel',</div></div><div class=\"1991\" style=\"display: none;\"><div style=\"display: table-cell;\"></div><div style=\"display: table-cell;\">outline_line_width&nbsp;=&nbsp;1,</div></div><div class=\"1991\" style=\"display: none;\"><div style=\"display: table-cell;\"></div><div style=\"display: table-cell;\">output_backend&nbsp;=&nbsp;'canvas',</div></div><div class=\"1991\" style=\"display: none;\"><div style=\"display: table-cell;\"></div><div style=\"display: table-cell;\">plot_height&nbsp;=&nbsp;600,</div></div><div class=\"1991\" style=\"display: none;\"><div style=\"display: table-cell;\"></div><div style=\"display: table-cell;\">plot_width&nbsp;=&nbsp;600,</div></div><div class=\"1991\" style=\"display: none;\"><div style=\"display: table-cell;\"></div><div style=\"display: table-cell;\">renderers&nbsp;=&nbsp;[GlyphRenderer(id='1889', ...)],</div></div><div class=\"1991\" style=\"display: none;\"><div style=\"display: table-cell;\"></div><div style=\"display: table-cell;\">reset_policy&nbsp;=&nbsp;'standard',</div></div><div class=\"1991\" style=\"display: none;\"><div style=\"display: table-cell;\"></div><div style=\"display: table-cell;\">right&nbsp;=&nbsp;[],</div></div><div class=\"1991\" style=\"display: none;\"><div style=\"display: table-cell;\"></div><div style=\"display: table-cell;\">sizing_mode&nbsp;=&nbsp;None,</div></div><div class=\"1991\" style=\"display: none;\"><div style=\"display: table-cell;\"></div><div style=\"display: table-cell;\">subscribed_events&nbsp;=&nbsp;[],</div></div><div class=\"1991\" style=\"display: none;\"><div style=\"display: table-cell;\"></div><div style=\"display: table-cell;\">tags&nbsp;=&nbsp;[],</div></div><div class=\"1991\" style=\"display: none;\"><div style=\"display: table-cell;\"></div><div style=\"display: table-cell;\">title&nbsp;=&nbsp;Title(id='1851', ...),</div></div><div class=\"1991\" style=\"display: none;\"><div style=\"display: table-cell;\"></div><div style=\"display: table-cell;\">title_location&nbsp;=&nbsp;'above',</div></div><div class=\"1991\" style=\"display: none;\"><div style=\"display: table-cell;\"></div><div style=\"display: table-cell;\">toolbar&nbsp;=&nbsp;Toolbar(id='1876', ...),</div></div><div class=\"1991\" style=\"display: none;\"><div style=\"display: table-cell;\"></div><div style=\"display: table-cell;\">toolbar_location&nbsp;=&nbsp;None,</div></div><div class=\"1991\" style=\"display: none;\"><div style=\"display: table-cell;\"></div><div style=\"display: table-cell;\">toolbar_sticky&nbsp;=&nbsp;True,</div></div><div class=\"1991\" style=\"display: none;\"><div style=\"display: table-cell;\"></div><div style=\"display: table-cell;\">visible&nbsp;=&nbsp;True,</div></div><div class=\"1991\" style=\"display: none;\"><div style=\"display: table-cell;\"></div><div style=\"display: table-cell;\">width&nbsp;=&nbsp;None,</div></div><div class=\"1991\" style=\"display: none;\"><div style=\"display: table-cell;\"></div><div style=\"display: table-cell;\">width_policy&nbsp;=&nbsp;'auto',</div></div><div class=\"1991\" style=\"display: none;\"><div style=\"display: table-cell;\"></div><div style=\"display: table-cell;\">x_range&nbsp;=&nbsp;Range1d(id='1853', ...),</div></div><div class=\"1991\" style=\"display: none;\"><div style=\"display: table-cell;\"></div><div style=\"display: table-cell;\">x_scale&nbsp;=&nbsp;LinearScale(id='1857', ...),</div></div><div class=\"1991\" style=\"display: none;\"><div style=\"display: table-cell;\"></div><div style=\"display: table-cell;\">y_range&nbsp;=&nbsp;Range1d(id='1855', ...),</div></div><div class=\"1991\" style=\"display: none;\"><div style=\"display: table-cell;\"></div><div style=\"display: table-cell;\">y_scale&nbsp;=&nbsp;LinearScale(id='1859', ...))</div></div></div>\n",
       "<script>\n",
       "(function() {\n",
       "  var expanded = false;\n",
       "  var ellipsis = document.getElementById(\"1992\");\n",
       "  ellipsis.addEventListener(\"click\", function() {\n",
       "    var rows = document.getElementsByClassName(\"1991\");\n",
       "    for (var i = 0; i < rows.length; i++) {\n",
       "      var el = rows[i];\n",
       "      el.style.display = expanded ? \"none\" : \"table-row\";\n",
       "    }\n",
       "    ellipsis.innerHTML = expanded ? \"&hellip;)\" : \"&lsaquo;&lsaquo;&lsaquo;\";\n",
       "    expanded = !expanded;\n",
       "  });\n",
       "})();\n",
       "</script>\n"
      ],
      "text/plain": [
       "Figure(id='1850', ...)"
      ]
     },
     "execution_count": 12,
     "metadata": {},
     "output_type": "execute_result"
    }
   ],
   "source": [
    "pd.DataFrame(np.array([[deces_moins_60], [deces_plus_60]]),\n",
    "                   columns=['deces'],index=['moins de 60','plus de 60']).plot_bokeh(kind=\"pie\",title =\"Covid - répartition des décès cumulés\",\n",
    "                   figsize =(600,600),xlabel='groupe d\\'àge')"
   ]
  },
  {
   "cell_type": "markdown",
   "metadata": {},
   "source": [
    "## Analyse comparée avec la démographie française\n",
    "\n",
    "[https://www.insee.fr/fr/statistiques/4515539?sommaire=4516122]\n"
   ]
  },
  {
   "cell_type": "code",
   "execution_count": 13,
   "metadata": {},
   "outputs": [
    {
     "name": "stderr",
     "output_type": "stream",
     "text": [
      "/usr/local/lib/python3.8/site-packages/IPython/core/interactiveshell.py:3145: DtypeWarning: Columns (1) have mixed types.Specify dtype option on import or set low_memory=False.\n",
      "  has_raised = await self.run_ast_nodes(code_ast.body, cell_name,\n"
     ]
    }
   ],
   "source": [
    "demo = pd.read_csv('data/BTT_TD_POP1A_2017.CSV',sep=';')"
   ]
  },
  {
   "cell_type": "code",
   "execution_count": 14,
   "metadata": {},
   "outputs": [
    {
     "data": {
      "text/html": [
       "<div>\n",
       "<style scoped>\n",
       "    .dataframe tbody tr th:only-of-type {\n",
       "        vertical-align: middle;\n",
       "    }\n",
       "\n",
       "    .dataframe tbody tr th {\n",
       "        vertical-align: top;\n",
       "    }\n",
       "\n",
       "    .dataframe thead th {\n",
       "        text-align: right;\n",
       "    }\n",
       "</style>\n",
       "<table border=\"1\" class=\"dataframe\">\n",
       "  <thead>\n",
       "    <tr style=\"text-align: right;\">\n",
       "      <th></th>\n",
       "      <th>NB</th>\n",
       "    </tr>\n",
       "    <tr>\n",
       "      <th>AGEPYR10</th>\n",
       "      <th></th>\n",
       "    </tr>\n",
       "  </thead>\n",
       "  <tbody>\n",
       "    <tr>\n",
       "      <th>0</th>\n",
       "      <td>2.343591e+06</td>\n",
       "    </tr>\n",
       "    <tr>\n",
       "      <th>3</th>\n",
       "      <td>2.505525e+06</td>\n",
       "    </tr>\n",
       "    <tr>\n",
       "      <th>6</th>\n",
       "      <td>4.322077e+06</td>\n",
       "    </tr>\n",
       "    <tr>\n",
       "      <th>11</th>\n",
       "      <td>6.021670e+06</td>\n",
       "    </tr>\n",
       "    <tr>\n",
       "      <th>18</th>\n",
       "      <td>5.751486e+06</td>\n",
       "    </tr>\n",
       "    <tr>\n",
       "      <th>25</th>\n",
       "      <td>1.293626e+07</td>\n",
       "    </tr>\n",
       "    <tr>\n",
       "      <th>40</th>\n",
       "      <td>1.395209e+07</td>\n",
       "    </tr>\n",
       "    <tr>\n",
       "      <th>55</th>\n",
       "      <td>8.734819e+06</td>\n",
       "    </tr>\n",
       "    <tr>\n",
       "      <th>65</th>\n",
       "      <td>9.320988e+06</td>\n",
       "    </tr>\n",
       "    <tr>\n",
       "      <th>80</th>\n",
       "      <td>4.202769e+06</td>\n",
       "    </tr>\n",
       "  </tbody>\n",
       "</table>\n",
       "</div>"
      ],
      "text/plain": [
       "                    NB\n",
       "AGEPYR10              \n",
       "0         2.343591e+06\n",
       "3         2.505525e+06\n",
       "6         4.322077e+06\n",
       "11        6.021670e+06\n",
       "18        5.751486e+06\n",
       "25        1.293626e+07\n",
       "40        1.395209e+07\n",
       "55        8.734819e+06\n",
       "65        9.320988e+06\n",
       "80        4.202769e+06"
      ]
     },
     "execution_count": 14,
     "metadata": {},
     "output_type": "execute_result"
    }
   ],
   "source": [
    "demo_agg = demo.drop(['NIVGEO','CODGEO','LIBGEO','SEXE'],axis=1).groupby('AGEPYR10').agg('sum')\n",
    "demo_agg"
   ]
  },
  {
   "cell_type": "markdown",
   "metadata": {},
   "source": [
    "### Basé sur le dernier recensement\n",
    "\n",
    "* calcul de la population totale\n",
    "* calcul de la population des moins de 55 ans\n",
    "* calcul de la population des plus de 55 ans\n",
    "\n"
   ]
  },
  {
   "cell_type": "code",
   "execution_count": 15,
   "metadata": {},
   "outputs": [],
   "source": [
    "nb_total = demo['NB'].sum()\n",
    "nb_moins_55 = demo_agg.loc[0:55].sum()['NB']\n",
    "nb_plus_55 = demo_agg.loc[65:].sum()['NB']"
   ]
  },
  {
   "cell_type": "code",
   "execution_count": 16,
   "metadata": {},
   "outputs": [
    {
     "name": "stdout",
     "output_type": "stream",
     "text": [
      "population total: 70091267\n",
      "population moins de 55 ans 56567511\n",
      "population plus de 55 ans 13523756\n"
     ]
    }
   ],
   "source": [
    "print(\"population total: {:.0f}\".format(nb_total))\n",
    "print(\"population moins de 55 ans {:.0f}\".format(nb_moins_55))\n",
    "print(\"population plus de 55 ans {:.0f}\".format(nb_plus_55))"
   ]
  },
  {
   "cell_type": "code",
   "execution_count": 17,
   "metadata": {},
   "outputs": [
    {
     "data": {
      "text/html": [
       "<div>\n",
       "<style scoped>\n",
       "    .dataframe tbody tr th:only-of-type {\n",
       "        vertical-align: middle;\n",
       "    }\n",
       "\n",
       "    .dataframe tbody tr th {\n",
       "        vertical-align: top;\n",
       "    }\n",
       "\n",
       "    .dataframe thead th {\n",
       "        text-align: right;\n",
       "    }\n",
       "</style>\n",
       "<table border=\"1\" class=\"dataframe\">\n",
       "  <thead>\n",
       "    <tr style=\"text-align: right;\">\n",
       "      <th></th>\n",
       "      <th>deces</th>\n",
       "    </tr>\n",
       "  </thead>\n",
       "  <tbody>\n",
       "    <tr>\n",
       "      <th>moins de 60</th>\n",
       "      <td>1378</td>\n",
       "    </tr>\n",
       "    <tr>\n",
       "      <th>plus de 60</th>\n",
       "      <td>19512</td>\n",
       "    </tr>\n",
       "  </tbody>\n",
       "</table>\n",
       "</div>"
      ],
      "text/plain": [
       "             deces\n",
       "moins de 60   1378\n",
       "plus de 60   19512"
      ]
     },
     "execution_count": 17,
     "metadata": {},
     "output_type": "execute_result"
    }
   ],
   "source": [
    "pd.DataFrame(np.array([[deces_moins_60], [deces_plus_60]]),\n",
    "                   columns=['deces'],index=['moins de 60','plus de 60'])"
   ]
  },
  {
   "cell_type": "code",
   "execution_count": 18,
   "metadata": {},
   "outputs": [],
   "source": [
    "res_agg = pd.DataFrame(np.array([[nb_moins_55,deces_moins_60], [nb_plus_55,deces_plus_60]]),\n",
    "                   columns=['population','deces'],index=['moins de 55/60','plus de 55/60']).astype(int)"
   ]
  },
  {
   "cell_type": "code",
   "execution_count": 19,
   "metadata": {},
   "outputs": [
    {
     "data": {
      "text/html": [
       "\n",
       "\n",
       "\n",
       "\n",
       "\n",
       "\n",
       "  <div class=\"bk-root\" id=\"f76150e7-2412-4f90-b76b-7fc002fd9028\" data-root-id=\"2030\"></div>\n"
      ]
     },
     "metadata": {},
     "output_type": "display_data"
    },
    {
     "data": {
      "application/javascript": [
       "(function(root) {\n",
       "  function embed_document(root) {\n",
       "    \n",
       "  var docs_json = {\"c0ab35a5-a5f3-4e50-882a-9c611db3138f\":{\"roots\":{\"references\":[{\"attributes\":{\"below\":[{\"id\":\"2041\"}],\"center\":[{\"id\":\"2044\"},{\"id\":\"2048\"},{\"id\":\"2078\"}],\"left\":[{\"id\":\"2045\"}],\"output_backend\":\"webgl\",\"plot_height\":400,\"renderers\":[{\"id\":\"2069\"},{\"id\":\"2086\"}],\"sizing_mode\":\"fixed\",\"title\":{\"id\":\"2031\"},\"toolbar\":{\"id\":\"2056\"},\"x_range\":{\"id\":\"2033\"},\"x_scale\":{\"id\":\"2037\"},\"y_range\":{\"id\":\"2035\"},\"y_scale\":{\"id\":\"2039\"}},\"id\":\"2030\",\"subtype\":\"Figure\",\"type\":\"Plot\"},{\"attributes\":{},\"id\":\"2035\",\"type\":\"DataRange1d\"},{\"attributes\":{\"axis_label\":\"categorie\",\"formatter\":{\"id\":\"2063\"},\"ticker\":{\"id\":\"2098\"}},\"id\":\"2041\",\"type\":\"LinearAxis\"},{\"attributes\":{},\"id\":\"2037\",\"type\":\"LinearScale\"},{\"attributes\":{\"source\":{\"id\":\"2029\"}},\"id\":\"2070\",\"type\":\"CDSView\"},{\"attributes\":{},\"id\":\"2050\",\"type\":\"WheelZoomTool\"},{\"attributes\":{\"axis\":{\"id\":\"2041\"},\"ticker\":null},\"id\":\"2044\",\"type\":\"Grid\"},{\"attributes\":{\"fill_alpha\":{\"value\":0.6},\"fill_color\":{\"value\":\"#1f77b4\"},\"line_alpha\":{\"value\":0.6},\"line_color\":{\"value\":\"#1f77b4\"},\"line_width\":{\"value\":2},\"top\":{\"field\":\"population\"},\"width\":{\"value\":0.2333333333333333},\"x\":{\"field\":\"__x__values\",\"transform\":{\"id\":\"2065\"}}},\"id\":\"2067\",\"type\":\"VBar\"},{\"attributes\":{\"callback\":null,\"mode\":\"vline\",\"renderers\":[{\"id\":\"2069\"}],\"tooltips\":[[\"categorie\",\"@__x__values_original\"],[\"population\",\"@{population}\"]]},\"id\":\"2080\",\"type\":\"HoverTool\"},{\"attributes\":{\"data_source\":{\"id\":\"2029\"},\"glyph\":{\"id\":\"2067\"},\"hover_glyph\":null,\"muted_glyph\":null,\"nonselection_glyph\":{\"id\":\"2068\"},\"selection_glyph\":null,\"view\":{\"id\":\"2070\"}},\"id\":\"2069\",\"type\":\"GlyphRenderer\"},{\"attributes\":{\"fill_alpha\":{\"value\":0.1},\"fill_color\":{\"value\":\"#1f77b4\"},\"line_alpha\":{\"value\":0.1},\"line_color\":{\"value\":\"#1f77b4\"},\"line_width\":{\"value\":2},\"top\":{\"field\":\"population\"},\"width\":{\"value\":0.2333333333333333},\"x\":{\"field\":\"__x__values\",\"transform\":{\"id\":\"2065\"}}},\"id\":\"2068\",\"type\":\"VBar\"},{\"attributes\":{\"click_policy\":\"hide\",\"items\":[{\"id\":\"2079\"},{\"id\":\"2095\"}]},\"id\":\"2078\",\"type\":\"Legend\"},{\"attributes\":{\"axis_label\":\"population\",\"formatter\":{\"id\":\"2074\"},\"ticker\":{\"id\":\"2046\"}},\"id\":\"2045\",\"type\":\"LinearAxis\"},{\"attributes\":{},\"id\":\"2054\",\"type\":\"HelpTool\"},{\"attributes\":{\"axis\":{\"id\":\"2045\"},\"dimension\":1,\"ticker\":null},\"id\":\"2048\",\"type\":\"Grid\"},{\"attributes\":{\"ticks\":[0,1]},\"id\":\"2098\",\"type\":\"FixedTicker\"},{\"attributes\":{},\"id\":\"2046\",\"type\":\"BasicTicker\"},{\"attributes\":{},\"id\":\"2049\",\"type\":\"PanTool\"},{\"attributes\":{\"overlay\":{\"id\":\"2055\"}},\"id\":\"2051\",\"type\":\"BoxZoomTool\"},{\"attributes\":{},\"id\":\"2052\",\"type\":\"SaveTool\"},{\"attributes\":{},\"id\":\"2075\",\"type\":\"Selection\"},{\"attributes\":{},\"id\":\"2076\",\"type\":\"UnionRenderers\"},{\"attributes\":{\"code\":\"\\n                                    var labels = {0: 'moins de 55/60', 1: 'plus de 55/60'};\\n                                    return labels[tick];\\n                                    \"},\"id\":\"2063\",\"type\":\"FuncTickFormatter\"},{\"attributes\":{\"active_drag\":\"auto\",\"active_inspect\":\"auto\",\"active_multi\":null,\"active_scroll\":{\"id\":\"2050\"},\"active_tap\":\"auto\",\"tools\":[{\"id\":\"2049\"},{\"id\":\"2050\"},{\"id\":\"2051\"},{\"id\":\"2052\"},{\"id\":\"2053\"},{\"id\":\"2054\"},{\"id\":\"2080\"},{\"id\":\"2096\"}]},\"id\":\"2056\",\"type\":\"Toolbar\"},{\"attributes\":{\"data\":{\"__x__values\":[0,1],\"__x__values_original\":[\"moins de 55/60\",\"plus de 55/60\"],\"deces\":[1378,19512],\"population\":[56567510,13523756]},\"selected\":{\"id\":\"2075\"},\"selection_policy\":{\"id\":\"2076\"}},\"id\":\"2029\",\"type\":\"ColumnDataSource\"},{\"attributes\":{\"callback\":null,\"mode\":\"vline\",\"renderers\":[{\"id\":\"2086\"}],\"tooltips\":[[\"categorie\",\"@__x__values_original\"],[\"deces\",\"@{deces}\"]]},\"id\":\"2096\",\"type\":\"HoverTool\"},{\"attributes\":{},\"id\":\"2053\",\"type\":\"ResetTool\"},{\"attributes\":{\"label\":{\"value\":\" population\"},\"renderers\":[{\"id\":\"2069\"}]},\"id\":\"2079\",\"type\":\"LegendItem\"},{\"attributes\":{},\"id\":\"2074\",\"type\":\"BasicTickFormatter\"},{\"attributes\":{\"bottom_units\":\"screen\",\"fill_alpha\":0.5,\"fill_color\":\"lightgrey\",\"left_units\":\"screen\",\"level\":\"overlay\",\"line_alpha\":1.0,\"line_color\":\"black\",\"line_dash\":[4,4],\"line_width\":2,\"right_units\":\"screen\",\"top_units\":\"screen\"},\"id\":\"2055\",\"type\":\"BoxAnnotation\"},{\"attributes\":{\"fill_alpha\":{\"value\":0.1},\"fill_color\":{\"value\":\"#ff7f0e\"},\"line_alpha\":{\"value\":0.1},\"line_color\":{\"value\":\"#ff7f0e\"},\"line_width\":{\"value\":2},\"top\":{\"field\":\"deces\"},\"width\":{\"value\":0.2333333333333333},\"x\":{\"field\":\"__x__values\",\"transform\":{\"id\":\"2082\"}}},\"id\":\"2085\",\"type\":\"VBar\"},{\"attributes\":{\"source\":{\"id\":\"2029\"}},\"id\":\"2087\",\"type\":\"CDSView\"},{\"attributes\":{\"range\":{\"id\":\"2033\"},\"value\":0.175},\"id\":\"2082\",\"type\":\"Dodge\"},{\"attributes\":{\"fill_alpha\":{\"value\":0.6},\"fill_color\":{\"value\":\"#ff7f0e\"},\"line_alpha\":{\"value\":0.6},\"line_color\":{\"value\":\"#ff7f0e\"},\"line_width\":{\"value\":2},\"top\":{\"field\":\"deces\"},\"width\":{\"value\":0.2333333333333333},\"x\":{\"field\":\"__x__values\",\"transform\":{\"id\":\"2082\"}}},\"id\":\"2084\",\"type\":\"VBar\"},{\"attributes\":{},\"id\":\"2039\",\"type\":\"LinearScale\"},{\"attributes\":{\"label\":{\"value\":\" deces\"},\"renderers\":[{\"id\":\"2086\"}]},\"id\":\"2095\",\"type\":\"LegendItem\"},{\"attributes\":{\"text\":\"Impact du covid19 par cat\\u00e9gorie d'\\u00e0ge\"},\"id\":\"2031\",\"type\":\"Title\"},{\"attributes\":{\"data_source\":{\"id\":\"2029\"},\"glyph\":{\"id\":\"2084\"},\"hover_glyph\":null,\"muted_glyph\":null,\"nonselection_glyph\":{\"id\":\"2085\"},\"selection_glyph\":null,\"view\":{\"id\":\"2087\"}},\"id\":\"2086\",\"type\":\"GlyphRenderer\"},{\"attributes\":{},\"id\":\"2033\",\"type\":\"DataRange1d\"},{\"attributes\":{\"range\":{\"id\":\"2033\"},\"value\":-0.175},\"id\":\"2065\",\"type\":\"Dodge\"}],\"root_ids\":[\"2030\"]},\"title\":\"Bokeh Application\",\"version\":\"2.2.1\"}};\n",
       "  var render_items = [{\"docid\":\"c0ab35a5-a5f3-4e50-882a-9c611db3138f\",\"root_ids\":[\"2030\"],\"roots\":{\"2030\":\"f76150e7-2412-4f90-b76b-7fc002fd9028\"}}];\n",
       "  root.Bokeh.embed.embed_items_notebook(docs_json, render_items);\n",
       "\n",
       "  }\n",
       "  if (root.Bokeh !== undefined) {\n",
       "    embed_document(root);\n",
       "  } else {\n",
       "    var attempts = 0;\n",
       "    var timer = setInterval(function(root) {\n",
       "      if (root.Bokeh !== undefined) {\n",
       "        clearInterval(timer);\n",
       "        embed_document(root);\n",
       "      } else {\n",
       "        attempts++;\n",
       "        if (attempts > 100) {\n",
       "          clearInterval(timer);\n",
       "          console.log(\"Bokeh: ERROR: Unable to run BokehJS code because BokehJS library is missing\");\n",
       "        }\n",
       "      }\n",
       "    }, 10, root)\n",
       "  }\n",
       "})(window);"
      ],
      "application/vnd.bokehjs_exec.v0+json": ""
     },
     "metadata": {
      "application/vnd.bokehjs_exec.v0+json": {
       "id": "2030"
      }
     },
     "output_type": "display_data"
    }
   ],
   "source": [
    "stacked_bar = res_agg.plot_bokeh.bar(\n",
    "    ylabel=\"population\", \n",
    "    title=\"Impact du covid19 par catégorie d'àge\", \n",
    "    alpha=0.6,\n",
    "    xlabel='categorie')"
   ]
  },
  {
   "cell_type": "code",
   "execution_count": null,
   "metadata": {},
   "outputs": [],
   "source": []
  }
 ],
 "metadata": {
  "celltoolbar": "Aucun(e)",
  "kernelspec": {
   "display_name": "Python 3",
   "language": "python",
   "name": "python3"
  },
  "language_info": {
   "codemirror_mode": {
    "name": "ipython",
    "version": 3
   },
   "file_extension": ".py",
   "mimetype": "text/x-python",
   "name": "python",
   "nbconvert_exporter": "python",
   "pygments_lexer": "ipython3",
   "version": "3.8.5"
  }
 },
 "nbformat": 4,
 "nbformat_minor": 4
}
